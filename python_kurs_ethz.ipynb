{
 "metadata": {
  "name": ""
 },
 "nbformat": 3,
 "nbformat_minor": 0,
 "worksheets": [
  {
   "cells": [
    {
     "cell_type": "heading",
     "level": 2,
     "metadata": {},
     "source": [
      "Why are you here ?\n",
      "\n"
     ]
    },
    {
     "cell_type": "heading",
     "level": 2,
     "metadata": {},
     "source": [
      "== Why is Python getting famous ?\n",
      "\n"
     ]
    },
    {
     "cell_type": "heading",
     "level": 2,
     "metadata": {},
     "source": [
      "== What are the benefits of Python ?"
     ]
    },
    {
     "cell_type": "markdown",
     "metadata": {},
     "source": [
      "Programming is not only about solving problems at all. It is also about:\n",
      "\n",
      " * **Effiency** : How long do I need to deliver a bug free implementation ?\n",
      " * **Extendability**: What happens if I or others want to modify the implementation ?\n",
      " \n",
      "\n",
      "General characteristics of Python:\n",
      "\n",
      "* **clean and simple** language: Easy-to-read and intuitive code, easy-to-learn minimalistic syntax\n",
      "\n",
      "* **expressive language**: Fewer lines of code, fewer bugs, easier to maintain.\n",
      "\n",
      "* **general-purpose language** in contrast to e.g. Matlab (numerics), PHP (websites), R (statstics). No need to mix languages for a full application, which gets data from a data base and provides a web service,\n",
      "   or is integrated in a web service\n",
      "\n",
      "Technical details:\n",
      "\n",
      "* **dynamically typed**: No need to define the type of variables, function arguments or return types.\n",
      "\n",
      "* **automatic memory management**: No need to explicitly allocate and deallocate memory for variables and data arrays. No memory leak bugs.\n",
      "\n",
      "* **interpreted**: No need to compile the code. The Python interpreter reads and executes the Python code directly.\n",
      "\n",
      "\n",
      "**The main advantage is ease of programming, minimizing the time required to develop, debug and maintain the code.**\n",
      "\n",
      "Other principles:\n",
      "\n",
      " * https://en.wikipedia.org/wiki/Kiss_principle\n",
      " * https://en.wikipedia.org/wiki/Principle_of_least_astonishment\n"
     ]
    },
    {
     "cell_type": "markdown",
     "metadata": {},
     "source": [
      "More facts:\n",
      "\n",
      "* invented in 1991 by Guido van Rossum, a fan of *Monty Pythons Flying Circus*\n",
      "* Current versions are 2.7 and 3.4 which are not compatible any more. This course is about 2.7. But the next one will be 3.4\n",
      "* Python ships with many versatile modules, e.g. for math, file system access, web service access, etc. This is often quoted as **Python comes with batteries included**"
     ]
    },
    {
     "cell_type": "markdown",
     "metadata": {},
     "source": [
      "Python's fields of application:\n",
      " \n",
      "  * text processing\n",
      "  * glueing other applications\n",
      "  * web frameworks, eg Django, Pyramid, Flask, Plone\n",
      "  * administrative tasks\n",
      "  * (R replacement) data analyis aka 'big data'\n",
      "  * (matlab replacement) numerics, simulations, ...\n",
      "  * (everything else)"
     ]
    },
    {
     "cell_type": "heading",
     "level": 3,
     "metadata": {},
     "source": [
      "Installing Python on Windows"
     ]
    },
    {
     "cell_type": "markdown",
     "metadata": {},
     "source": [
      "* Depending on your OS versions: download 32 or 64 bit .exe for Python **2.7.5.X** from https://code.google.com/p/winpython/\n",
      "* This is a large Python distribtution, which includes *many* precompiled scientific packages without version conflicts\n",
      "* Follow the instructions on https://code.google.com/p/winpython/wiki/Installation **INCLUDING REGISTRATION**\n",
      "* Start installed application called *Spyder* \n"
     ]
    },
    {
     "cell_type": "heading",
     "level": 3,
     "metadata": {},
     "source": [
      "Installing Python on Ubuntu/Debian Linux"
     ]
    },
    {
     "cell_type": "markdown",
     "metadata": {},
     "source": [
      "\n"
     ]
    },
    {
     "cell_type": "markdown",
     "metadata": {},
     "source": [
      "Global install of Python interpreter, you need root access as super user:"
     ]
    },
    {
     "cell_type": "raw",
     "metadata": {},
     "source": [
      "$ sudo apt-get install python2.7 python2.7-dev\n",
      "$ python -V\n",
      "Python 2.7.3    # or similar 2.7.X\n",
      "\n",
      "$ sudo apt-get install python-qt4\n",
      "\n",
      "$ sudo apt-get install python-setuptools\n",
      "$ easy_install pip\n",
      "$ easy_install virtualenv"
     ]
    },
    {
     "cell_type": "markdown",
     "metadata": {},
     "source": [
      "Create a local isolated version of Python. This keeps your laptop clean and avoids version conflicts !"
     ]
    },
    {
     "cell_type": "raw",
     "metadata": {},
     "source": [
      "$ cd $HOME\n",
      "$ virtualenv python_kurs"
     ]
    },
    {
     "cell_type": "markdown",
     "metadata": {},
     "source": [
      "Activate this isolated version as follows, **you have to to this after each install before you start using this isolated environment !**"
     ]
    },
    {
     "cell_type": "raw",
     "metadata": {},
     "source": [
      "$ cd python_kurs\n",
      "$ . bin/activate\n",
      "(python_kurs) $ "
     ]
    },
    {
     "cell_type": "markdown",
     "metadata": {},
     "source": [
      "Now we install a local version of needed python packages:"
     ]
    },
    {
     "cell_type": "raw",
     "metadata": {},
     "source": [
      "(python_kurs) $ pip install pygments spyder\n",
      "(python_kurs) $ spyder"
     ]
    },
    {
     "cell_type": "heading",
     "level": 3,
     "metadata": {},
     "source": [
      "Spyder startup"
     ]
    },
    {
     "cell_type": "raw",
     "metadata": {},
     "source": [
      "1. Open Spyder (Windows: see start menu, others: from command line with \"$ spyder\")\n",
      "\n",
      "2. Use Spyders explorer (top right window, may be hidden in tabs) to create\n",
      "   a \"folder python_course_examples\" and select this folder.\n",
      "\n",
      "3. Menu: Interpreters -> Open IPython console\n",
      "\n",
      "4. Enter \"pwd\" in IPython console and check if the new created\n",
      "   directory is printed. "
     ]
    },
    {
     "cell_type": "heading",
     "level": 3,
     "metadata": {},
     "source": [
      "Edit / Execute workflow"
     ]
    },
    {
     "cell_type": "raw",
     "metadata": {},
     "source": [
      "1. create a new Python module within the directory created above (right click in file explorer, \"new module\")\n",
      "\n",
      "2. enter \"print 42\" in the code editor\n",
      "\n",
      "2. Use F5 to execute the script in the shell, take care to choose\n",
      "   \"open in existing interpreter\".\n",
      "   You should see the output from the print statement."
     ]
    },
    {
     "cell_type": "raw",
     "metadata": {},
     "source": [
      "Python is not just an interpreter, it has a shell for trying things out and for learning.\n",
      "\n",
      "Most examples you will see here can be executed in a shell."
     ]
    },
    {
     "cell_type": "heading",
     "level": 3,
     "metadata": {},
     "source": [
      "Console Input / Output"
     ]
    },
    {
     "cell_type": "code",
     "collapsed": false,
     "input": [
      "print \"hello word\"  # this is a comment"
     ],
     "language": "python",
     "metadata": {},
     "outputs": [
      {
       "output_type": "stream",
       "stream": "stdout",
       "text": [
        "hello word\n"
       ]
      }
     ],
     "prompt_number": 86
    },
    {
     "cell_type": "raw",
     "metadata": {},
     "source": [
      "commata separate output, comma on end of print statement supresses new line"
     ]
    },
    {
     "cell_type": "code",
     "collapsed": false,
     "input": [
      "print 3, 4,\n",
      "print 5"
     ],
     "language": "python",
     "metadata": {},
     "outputs": [
      {
       "output_type": "stream",
       "stream": "stdout",
       "text": [
        "3 4 5\n"
       ]
      }
     ],
     "prompt_number": 88
    },
    {
     "cell_type": "raw",
     "metadata": {},
     "source": [
      "Note: in Python 3.X \"print\" is a function, so you have to put paranthesis around the arguments"
     ]
    },
    {
     "cell_type": "code",
     "collapsed": false,
     "input": [
      "name = raw_input(\"your name: \")   # strange name for input function\n",
      "print \"Hello\", name, \"!!!\""
     ],
     "language": "python",
     "metadata": {},
     "outputs": [
      {
       "name": "stdout",
       "output_type": "stream",
       "stream": "stdout",
       "text": [
        "your name: uwe\n"
       ]
      },
      {
       "output_type": "stream",
       "stream": "stdout",
       "text": [
        "Hello uwe !!!\n"
       ]
      }
     ],
     "prompt_number": 92
    },
    {
     "cell_type": "raw",
     "metadata": {},
     "source": [
      "TAKE CARE: Python also has a function \"input\" which is different from \"raw_input\"."
     ]
    },
    {
     "cell_type": "heading",
     "level": 3,
     "metadata": {},
     "source": [
      "Variables"
     ]
    },
    {
     "cell_type": "raw",
     "metadata": {},
     "source": [
      "VARIABLES ARE NAMES FOR OBJECTS\n",
      "\n",
      "other languages have concepts as pointers, references etc.\n",
      "\n",
      "keep this sentence in mind, it will simplify the deeper understanding\n",
      "how things work in Python."
     ]
    },
    {
     "cell_type": "raw",
     "metadata": {},
     "source": [
      "Variables in Python are just assigned, no type declaration needed !"
     ]
    },
    {
     "cell_type": "code",
     "collapsed": false,
     "input": [
      "pi = 3.141\n",
      "my_name = \"uwe schmitt\""
     ],
     "language": "python",
     "metadata": {},
     "outputs": [],
     "prompt_number": 93
    },
    {
     "cell_type": "raw",
     "metadata": {},
     "source": [
      "Nevertheless these variabes have a type:"
     ]
    },
    {
     "cell_type": "code",
     "collapsed": false,
     "input": [
      "type(pi)"
     ],
     "language": "python",
     "metadata": {},
     "outputs": [
      {
       "metadata": {},
       "output_type": "pyout",
       "prompt_number": 94,
       "text": [
        "float"
       ]
      }
     ],
     "prompt_number": 94
    },
    {
     "cell_type": "heading",
     "level": 4,
     "metadata": {},
     "source": [
      "Valid variable names"
     ]
    },
    {
     "cell_type": "raw",
     "metadata": {},
     "source": [
      "allowed are: alphabetic characters, digits and underscore \"_\"\n",
      "\n",
      "disallowed: digit in first place\n",
      "\n",
      "disallowed: names which refer to Python statements as \"print\" "
     ]
    },
    {
     "cell_type": "code",
     "collapsed": false,
     "input": [
      "# examples for valid names\n",
      "a = 123       \n",
      "a_123 = 2\n",
      "_xyz = 2"
     ],
     "language": "python",
     "metadata": {},
     "outputs": [],
     "prompt_number": 95
    },
    {
     "cell_type": "code",
     "collapsed": false,
     "input": [
      "aBcD = 4      # uppercase matters\n",
      "abcd = 5\n",
      "aBcD == abcd"
     ],
     "language": "python",
     "metadata": {},
     "outputs": [
      {
       "metadata": {},
       "output_type": "pyout",
       "prompt_number": 96,
       "text": [
        "False"
       ]
      }
     ],
     "prompt_number": 96
    },
    {
     "cell_type": "raw",
     "metadata": {},
     "source": [
      "Invalid variable names:"
     ]
    },
    {
     "cell_type": "code",
     "collapsed": false,
     "input": [
      "1abc = 3"
     ],
     "language": "python",
     "metadata": {},
     "outputs": [
      {
       "ename": "SyntaxError",
       "evalue": "invalid syntax (<ipython-input-97-26b7134673f5>, line 1)",
       "output_type": "pyerr",
       "traceback": [
        "\u001b[1;36m  File \u001b[1;32m\"<ipython-input-97-26b7134673f5>\"\u001b[1;36m, line \u001b[1;32m1\u001b[0m\n\u001b[1;33m    1abc = 3\u001b[0m\n\u001b[1;37m       ^\u001b[0m\n\u001b[1;31mSyntaxError\u001b[0m\u001b[1;31m:\u001b[0m invalid syntax\n"
       ]
      }
     ],
     "prompt_number": 97
    },
    {
     "cell_type": "code",
     "collapsed": false,
     "input": [
      "print = 4"
     ],
     "language": "python",
     "metadata": {},
     "outputs": [
      {
       "ename": "SyntaxError",
       "evalue": "invalid syntax (<ipython-input-98-15218bea882c>, line 1)",
       "output_type": "pyerr",
       "traceback": [
        "\u001b[1;36m  File \u001b[1;32m\"<ipython-input-98-15218bea882c>\"\u001b[1;36m, line \u001b[1;32m1\u001b[0m\n\u001b[1;33m    print = 4\u001b[0m\n\u001b[1;37m          ^\u001b[0m\n\u001b[1;31mSyntaxError\u001b[0m\u001b[1;31m:\u001b[0m invalid syntax\n"
       ]
      }
     ],
     "prompt_number": 98
    },
    {
     "cell_type": "raw",
     "metadata": {},
     "source": [
      "Note: most Python programmers personally prefer \"_\" separation in long variable names instead of 'CamelCase'.\n",
      "Check for readability:"
     ]
    },
    {
     "cell_type": "code",
     "collapsed": false,
     "input": [
      "this_is_a_long_variable_name = 3\n",
      "\n",
      "thisIsALongVariableName = 4"
     ],
     "language": "python",
     "metadata": {},
     "outputs": [],
     "prompt_number": 99
    },
    {
     "cell_type": "raw",
     "metadata": {},
     "source": [
      "For later reading: http://www.python.org/dev/peps/pep-0008/"
     ]
    },
    {
     "cell_type": "code",
     "collapsed": false,
     "input": [
      "# some forbidden variable names:\n",
      "# id, str, type, input, list, file, ...\n",
      "# often used solution in python community: add a \"_\"\n",
      "id_ = 3\n",
      "type_ = \"int\"\n",
      "print_ = 0"
     ],
     "language": "python",
     "metadata": {},
     "outputs": [],
     "prompt_number": 100
    },
    {
     "cell_type": "heading",
     "level": 3,
     "metadata": {},
     "source": [
      "Calculating with numbers"
     ]
    },
    {
     "cell_type": "raw",
     "metadata": {},
     "source": [
      "Python has integer numbers, floating point and even complex numbers. \n",
      "\n",
      "Basic operations as in other languages:"
     ]
    },
    {
     "cell_type": "code",
     "collapsed": false,
     "input": [
      "print 32 * (41 + 1) / 7"
     ],
     "language": "python",
     "metadata": {},
     "outputs": [
      {
       "output_type": "stream",
       "stream": "stdout",
       "text": [
        "192\n"
       ]
      }
     ],
     "prompt_number": 101
    },
    {
     "cell_type": "raw",
     "metadata": {},
     "source": [
      "two different types of division:\n",
      "\n",
      "floating point division: as you would expect"
     ]
    },
    {
     "cell_type": "code",
     "collapsed": false,
     "input": [
      "print 29.0 / 2 "
     ],
     "language": "python",
     "metadata": {},
     "outputs": [
      {
       "output_type": "stream",
       "stream": "stdout",
       "text": [
        "14.5\n"
       ]
      }
     ],
     "prompt_number": 102
    },
    {
     "cell_type": "raw",
     "metadata": {},
     "source": [
      "integer division: rounds down to next smallest integer"
     ]
    },
    {
     "cell_type": "code",
     "collapsed": false,
     "input": [
      "print 31 / 7    "
     ],
     "language": "python",
     "metadata": {},
     "outputs": [
      {
       "output_type": "stream",
       "stream": "stdout",
       "text": [
        "4\n"
       ]
      }
     ],
     "prompt_number": 103
    },
    {
     "cell_type": "raw",
     "metadata": {},
     "source": [
      "alternative:"
     ]
    },
    {
     "cell_type": "code",
     "collapsed": false,
     "input": [
      "print 31 // 7"
     ],
     "language": "python",
     "metadata": {},
     "outputs": [
      {
       "output_type": "stream",
       "stream": "stdout",
       "text": [
        "4\n"
       ]
      }
     ],
     "prompt_number": 104
    },
    {
     "cell_type": "raw",
     "metadata": {},
     "source": [
      "Note: in Python 3.x you have to use \"//\" for integer division !"
     ]
    },
    {
     "cell_type": "raw",
     "metadata": {},
     "source": [
      "modulo a.k.a. division reminder:"
     ]
    },
    {
     "cell_type": "code",
     "collapsed": false,
     "input": [
      "print 31 % 7"
     ],
     "language": "python",
     "metadata": {},
     "outputs": [
      {
       "output_type": "stream",
       "stream": "stdout",
       "text": [
        "3\n"
       ]
      }
     ],
     "prompt_number": 105
    },
    {
     "cell_type": "raw",
     "metadata": {},
     "source": [
      "Divion by zero:"
     ]
    },
    {
     "cell_type": "code",
     "collapsed": false,
     "input": [
      "print 7 / 0"
     ],
     "language": "python",
     "metadata": {},
     "outputs": [
      {
       "ename": "ZeroDivisionError",
       "evalue": "integer division or modulo by zero",
       "output_type": "pyerr",
       "traceback": [
        "\u001b[1;31m---------------------------------------------------------------------------\u001b[0m\n\u001b[1;31mZeroDivisionError\u001b[0m                         Traceback (most recent call last)",
        "\u001b[1;32m<ipython-input-106-ead4a91e8906>\u001b[0m in \u001b[0;36m<module>\u001b[1;34m()\u001b[0m\n\u001b[1;32m----> 1\u001b[1;33m \u001b[1;32mprint\u001b[0m \u001b[1;36m7\u001b[0m \u001b[1;33m/\u001b[0m \u001b[1;36m0\u001b[0m\u001b[1;33m\u001b[0m\u001b[0m\n\u001b[0m",
        "\u001b[1;31mZeroDivisionError\u001b[0m: integer division or modulo by zero"
       ]
      }
     ],
     "prompt_number": 106
    },
    {
     "cell_type": "raw",
     "metadata": {},
     "source": [
      "Python has classical 32 or 64 bit integers, but switches to \"long integers\" in case of overflow.\n",
      "Those \"long integers\" in Python may be as large as they fit into memory. No suprise = no astonishment = no incidental bug."
     ]
    },
    {
     "cell_type": "code",
     "collapsed": false,
     "input": [
      "3**117"
     ],
     "language": "python",
     "metadata": {},
     "outputs": [
      {
       "metadata": {},
       "output_type": "pyout",
       "prompt_number": 107,
       "text": [
        "66555937033867822607895549241096482953017615834735226163L"
       ]
      }
     ],
     "prompt_number": 107
    },
    {
     "cell_type": "markdown",
     "metadata": {},
     "source": [
      "can be used for calculating pi up to many digits: http://www.craig-wood.com/nick/articles/pi-machin/"
     ]
    },
    {
     "cell_type": "heading",
     "level": 3,
     "metadata": {},
     "source": [
      "More math than just addition, et al:"
     ]
    },
    {
     "cell_type": "raw",
     "metadata": {},
     "source": [
      "load special module, ships with Python, is one of the \"included batteries\":"
     ]
    },
    {
     "cell_type": "code",
     "collapsed": false,
     "input": [
      "import math"
     ],
     "language": "python",
     "metadata": {},
     "outputs": [],
     "prompt_number": 108
    },
    {
     "cell_type": "raw",
     "metadata": {},
     "source": [
      "methods and constants are \"attached\" to math module:"
     ]
    },
    {
     "cell_type": "code",
     "collapsed": false,
     "input": [
      "print math.pi"
     ],
     "language": "python",
     "metadata": {},
     "outputs": [
      {
       "output_type": "stream",
       "stream": "stdout",
       "text": [
        "3.14159265359\n"
       ]
      }
     ],
     "prompt_number": 109
    },
    {
     "cell_type": "code",
     "collapsed": false,
     "input": [
      "print math.cos(math.pi * 2.0)"
     ],
     "language": "python",
     "metadata": {},
     "outputs": [
      {
       "output_type": "stream",
       "stream": "stdout",
       "text": [
        "1.0\n"
       ]
      }
     ],
     "prompt_number": 110
    },
    {
     "cell_type": "code",
     "collapsed": false,
     "input": [
      "print math.sqrt(121.0)    "
     ],
     "language": "python",
     "metadata": {},
     "outputs": [
      {
       "output_type": "stream",
       "stream": "stdout",
       "text": [
        "11.0\n"
       ]
      }
     ],
     "prompt_number": 111
    },
    {
     "cell_type": "code",
     "collapsed": false,
     "input": [
      "print math.pow(2, 4)                      "
     ],
     "language": "python",
     "metadata": {},
     "outputs": [
      {
       "output_type": "stream",
       "stream": "stdout",
       "text": [
        "16.0\n"
       ]
      }
     ],
     "prompt_number": 112
    },
    {
     "cell_type": "code",
     "collapsed": false,
     "input": [
      "print 2**4   # alternative to math.pow, preserves type"
     ],
     "language": "python",
     "metadata": {},
     "outputs": [
      {
       "output_type": "stream",
       "stream": "stdout",
       "text": [
        "16\n"
       ]
      }
     ],
     "prompt_number": 113
    },
    {
     "cell_type": "raw",
     "metadata": {},
     "source": [
      "to explorer content of math module:"
     ]
    },
    {
     "cell_type": "code",
     "collapsed": false,
     "input": [
      "print dir(math)"
     ],
     "language": "python",
     "metadata": {},
     "outputs": [
      {
       "output_type": "stream",
       "stream": "stdout",
       "text": [
        "['__doc__', '__name__', '__package__', 'acos', 'acosh', 'asin', 'asinh', 'atan', 'atan2', 'atanh', 'ceil', 'copysign', 'cos', 'cosh', 'degrees', 'e', 'erf', 'erfc', 'exp', 'expm1', 'fabs', 'factorial', 'floor', 'fmod', 'frexp', 'fsum', 'gamma', 'hypot', 'isinf', 'isnan', 'ldexp', 'lgamma', 'log', 'log10', 'log1p', 'modf', 'pi', 'pow', 'radians', 'sin', 'sinh', 'sqrt', 'tan', 'tanh', 'trunc']\n"
       ]
      }
     ],
     "prompt_number": 114
    },
    {
     "cell_type": "raw",
     "metadata": {},
     "source": [
      "alternative: enter \"math.<TAB>\" in IPython shell\n"
     ]
    },
    {
     "cell_type": "raw",
     "metadata": {},
     "source": [
      "to show help:"
     ]
    },
    {
     "cell_type": "code",
     "collapsed": false,
     "input": [
      "help(math.log1p)"
     ],
     "language": "python",
     "metadata": {},
     "outputs": [
      {
       "output_type": "stream",
       "stream": "stdout",
       "text": [
        "Help on built-in function log1p in module math:\n",
        "\n",
        "log1p(...)\n",
        "    log1p(x)\n",
        "    \n",
        "    Return the natural logarithm of 1+x (base e).\n",
        "    The result is computed in a way which is accurate for x near zero.\n",
        "\n"
       ]
      }
     ],
     "prompt_number": 115
    },
    {
     "cell_type": "raw",
     "metadata": {},
     "source": [
      "alternative kinds of import:"
     ]
    },
    {
     "cell_type": "code",
     "collapsed": false,
     "input": [
      "from math import sin\n",
      "print sin(3)"
     ],
     "language": "python",
     "metadata": {},
     "outputs": [
      {
       "output_type": "stream",
       "stream": "stdout",
       "text": [
        "0.14112000806\n"
       ]
      }
     ],
     "prompt_number": 116
    },
    {
     "cell_type": "raw",
     "metadata": {},
     "source": [
      "should be avoided, clutters namespace, error prone, eg if one\n",
      "unses math and numpy module in one script:"
     ]
    },
    {
     "cell_type": "code",
     "collapsed": false,
     "input": [
      "from math import *"
     ],
     "language": "python",
     "metadata": {},
     "outputs": [],
     "prompt_number": 117
    },
    {
     "cell_type": "code",
     "collapsed": false,
     "input": [
      "import math as m\n",
      "print m.sin(0)"
     ],
     "language": "python",
     "metadata": {},
     "outputs": [
      {
       "output_type": "stream",
       "stream": "stdout",
       "text": [
        "0.0\n"
       ]
      }
     ],
     "prompt_number": 118
    },
    {
     "cell_type": "raw",
     "metadata": {},
     "source": [
      "\n",
      "PRACTICE TIME\n",
      "\n",
      "Write a scripts for answering the following questions:\n",
      "\n",
      "1. How many rice corns do you have on a checker board if you put on corn on the first field and double\n",
      "   the number of corns from each field to the next ???\n",
      "\n",
      "   HINT: geometric sum: 1 + a^1 + a^2 + ... a^n = (a^(n+1)-1)/(a-1)\n",
      "\n",
      "   An average rice corn weights 25 mg, how many kg do you have on the board ?\n",
      "\n",
      "   The earth has a weight of 5.972E24 kg, put this into relation to the weight of the rice \n",
      "\n",
      "   Use variables for the intermediate results !\n",
      "\n",
      "2. Calculate the area of a circle with diameter 21.0 cm\n",
      "\n",
      "   Calculate the diameter of a circle with area 1.0 cm^2\n"
     ]
    },
    {
     "cell_type": "heading",
     "level": 4,
     "metadata": {},
     "source": [
      "Some special notes"
     ]
    },
    {
     "cell_type": "raw",
     "metadata": {},
     "source": [
      "floating point math precision is limited:"
     ]
    },
    {
     "cell_type": "code",
     "collapsed": false,
     "input": [
      ".25 - .2"
     ],
     "language": "python",
     "metadata": {},
     "outputs": [
      {
       "metadata": {},
       "output_type": "pyout",
       "prompt_number": 119,
       "text": [
        "0.04999999999999999"
       ]
      }
     ],
     "prompt_number": 119
    },
    {
     "cell_type": "raw",
     "metadata": {},
     "source": [
      "type coercion: finds common type when calcaulating with different types"
     ]
    },
    {
     "cell_type": "code",
     "collapsed": false,
     "input": [
      "type(1 + 3)"
     ],
     "language": "python",
     "metadata": {},
     "outputs": [
      {
       "metadata": {},
       "output_type": "pyout",
       "prompt_number": 120,
       "text": [
        "int"
       ]
      }
     ],
     "prompt_number": 120
    },
    {
     "cell_type": "raw",
     "metadata": {},
     "source": [
      "the decimal point indicates floating point numbers:"
     ]
    },
    {
     "cell_type": "code",
     "collapsed": false,
     "input": [
      "type(1.0 + 3)"
     ],
     "language": "python",
     "metadata": {},
     "outputs": [
      {
       "metadata": {},
       "output_type": "pyout",
       "prompt_number": 121,
       "text": [
        "float"
       ]
      }
     ],
     "prompt_number": 121
    },
    {
     "cell_type": "heading",
     "level": 4,
     "metadata": {},
     "source": [
      "complex numbers"
     ]
    },
    {
     "cell_type": "raw",
     "metadata": {},
     "source": [
      "complex unit is \"j\", not \"i\". \"j\" is often used in electrical engineering"
     ]
    },
    {
     "cell_type": "code",
     "collapsed": false,
     "input": [
      "z = 1 + 0.8j"
     ],
     "language": "python",
     "metadata": {},
     "outputs": [],
     "prompt_number": 122
    },
    {
     "cell_type": "raw",
     "metadata": {},
     "source": [
      "common operations:"
     ]
    },
    {
     "cell_type": "code",
     "collapsed": false,
     "input": [
      "print z, abs(z), z.imag, z.real, z.conjugate()"
     ],
     "language": "python",
     "metadata": {},
     "outputs": [
      {
       "output_type": "stream",
       "stream": "stdout",
       "text": [
        "(1+0.8j) 1.28062484749 0.8 1.0 (1-0.8j)\n"
       ]
      }
     ],
     "prompt_number": 123
    },
    {
     "cell_type": "raw",
     "metadata": {},
     "source": [
      "same algebraic operations as for floats and ints:"
     ]
    },
    {
     "cell_type": "code",
     "collapsed": false,
     "input": [
      "print z + z, z * z, z**3"
     ],
     "language": "python",
     "metadata": {},
     "outputs": [
      {
       "output_type": "stream",
       "stream": "stdout",
       "text": [
        "(2+1.6j) (0.36+1.6j) (-0.92+1.888j)\n"
       ]
      }
     ],
     "prompt_number": 124
    },
    {
     "cell_type": "raw",
     "metadata": {},
     "source": [
      "POSSIBLE SOURCE OF ERROR: \n",
      "\n",
      "     pure imaginary numbers  must be declared as below to avoid clash with a variable named \"j\""
     ]
    },
    {
     "cell_type": "code",
     "collapsed": false,
     "input": [
      "z = 1j\n",
      "print z*z"
     ],
     "language": "python",
     "metadata": {},
     "outputs": [
      {
       "output_type": "stream",
       "stream": "stdout",
       "text": [
        "(-1+0j)\n"
       ]
      }
     ],
     "prompt_number": 125
    },
    {
     "cell_type": "raw",
     "metadata": {},
     "source": [
      "extra module 'cmath' for functions as sin, cos on complex numbers, math module does not work:"
     ]
    },
    {
     "cell_type": "code",
     "collapsed": false,
     "input": [
      "math.sin(1j)"
     ],
     "language": "python",
     "metadata": {},
     "outputs": [
      {
       "ename": "TypeError",
       "evalue": "can't convert complex to float",
       "output_type": "pyerr",
       "traceback": [
        "\u001b[1;31m---------------------------------------------------------------------------\u001b[0m\n\u001b[1;31mTypeError\u001b[0m                                 Traceback (most recent call last)",
        "\u001b[1;32m<ipython-input-130-bf9d45ed73bb>\u001b[0m in \u001b[0;36m<module>\u001b[1;34m()\u001b[0m\n\u001b[1;32m----> 1\u001b[1;33m \u001b[0mmath\u001b[0m\u001b[1;33m.\u001b[0m\u001b[0msin\u001b[0m\u001b[1;33m(\u001b[0m\u001b[1;36m1j\u001b[0m\u001b[1;33m)\u001b[0m\u001b[1;33m\u001b[0m\u001b[0m\n\u001b[0m",
        "\u001b[1;31mTypeError\u001b[0m: can't convert complex to float"
       ]
      }
     ],
     "prompt_number": 130
    },
    {
     "cell_type": "code",
     "collapsed": false,
     "input": [
      "import cmath\n",
      "cmath.sin(1j)"
     ],
     "language": "python",
     "metadata": {},
     "outputs": [
      {
       "metadata": {},
       "output_type": "pyout",
       "prompt_number": 131,
       "text": [
        "1.1752011936438014j"
       ]
      }
     ],
     "prompt_number": 131
    },
    {
     "cell_type": "heading",
     "level": 3,
     "metadata": {},
     "source": [
      "Logical values, Comparison operators"
     ]
    },
    {
     "cell_type": "raw",
     "metadata": {},
     "source": [
      "logical values represent logical state, that is \"True\" of \"False\"\n",
      "\n",
      "\"==\" is used for testing equality, do not confuse with \"=\" which is\n",
      "assignment:"
     ]
    },
    {
     "cell_type": "code",
     "collapsed": false,
     "input": [
      "print 3 == 4"
     ],
     "language": "python",
     "metadata": {},
     "outputs": [
      {
       "output_type": "stream",
       "stream": "stdout",
       "text": [
        "False\n"
       ]
      }
     ],
     "prompt_number": 132
    },
    {
     "cell_type": "code",
     "collapsed": false,
     "input": [
      "print 3 = 4    # would be valid in C/C++ !!!"
     ],
     "language": "python",
     "metadata": {},
     "outputs": [
      {
       "ename": "SyntaxError",
       "evalue": "invalid syntax (<ipython-input-133-e8f8a9176a62>, line 1)",
       "output_type": "pyerr",
       "traceback": [
        "\u001b[1;36m  File \u001b[1;32m\"<ipython-input-133-e8f8a9176a62>\"\u001b[1;36m, line \u001b[1;32m1\u001b[0m\n\u001b[1;33m    print 3 = 4    # would be valid in C/C++ !!!\u001b[0m\n\u001b[1;37m            ^\u001b[0m\n\u001b[1;31mSyntaxError\u001b[0m\u001b[1;31m:\u001b[0m invalid syntax\n"
       ]
      }
     ],
     "prompt_number": 133
    },
    {
     "cell_type": "raw",
     "metadata": {},
     "source": [
      "!= is the test for inequality:"
     ]
    },
    {
     "cell_type": "code",
     "collapsed": false,
     "input": [
      "print 3 != 4"
     ],
     "language": "python",
     "metadata": {},
     "outputs": [
      {
       "output_type": "stream",
       "stream": "stdout",
       "text": [
        "True\n"
       ]
      }
     ],
     "prompt_number": 134
    },
    {
     "cell_type": "raw",
     "metadata": {},
     "source": [
      "tests for different kinds of ordering:"
     ]
    },
    {
     "cell_type": "code",
     "collapsed": false,
     "input": [
      "print 3 >= 4, 3<=4, 3 < 4, 3 > 4"
     ],
     "language": "python",
     "metadata": {},
     "outputs": [
      {
       "output_type": "stream",
       "stream": "stdout",
       "text": [
        "False True True False\n"
       ]
      }
     ],
     "prompt_number": 135
    },
    {
     "cell_type": "raw",
     "metadata": {},
     "source": [
      "logical operations written in \"plain text\":"
     ]
    },
    {
     "cell_type": "code",
     "collapsed": false,
     "input": [
      "print not not True"
     ],
     "language": "python",
     "metadata": {},
     "outputs": [
      {
       "output_type": "stream",
       "stream": "stdout",
       "text": [
        "True\n"
       ]
      }
     ],
     "prompt_number": 136
    },
    {
     "cell_type": "code",
     "collapsed": false,
     "input": [
      "print 3 < 4 and 3 >= 4"
     ],
     "language": "python",
     "metadata": {},
     "outputs": [
      {
       "output_type": "stream",
       "stream": "stdout",
       "text": [
        "False\n"
       ]
      }
     ],
     "prompt_number": 137
    },
    {
     "cell_type": "code",
     "collapsed": false,
     "input": [
      "print 3 < 4 or 3 >= 4"
     ],
     "language": "python",
     "metadata": {},
     "outputs": [
      {
       "output_type": "stream",
       "stream": "stdout",
       "text": [
        "True\n"
       ]
      }
     ],
     "prompt_number": 138
    },
    {
     "cell_type": "raw",
     "metadata": {},
     "source": [
      "side note: & and | are bitwise operations:"
     ]
    },
    {
     "cell_type": "code",
     "collapsed": false,
     "input": [
      "print 6 & 12"
     ],
     "language": "python",
     "metadata": {},
     "outputs": [
      {
       "output_type": "stream",
       "stream": "stdout",
       "text": [
        "4\n"
       ]
      }
     ],
     "prompt_number": 139
    },
    {
     "cell_type": "code",
     "collapsed": false,
     "input": [
      "print 6 | 12"
     ],
     "language": "python",
     "metadata": {},
     "outputs": [
      {
       "output_type": "stream",
       "stream": "stdout",
       "text": [
        "14\n"
       ]
      }
     ],
     "prompt_number": 140
    },
    {
     "cell_type": "heading",
     "level": 3,
     "metadata": {},
     "source": [
      "Strings represent text"
     ]
    },
    {
     "cell_type": "raw",
     "metadata": {},
     "source": [
      "Python provides four alternatives for declaring a string constant:"
     ]
    },
    {
     "cell_type": "code",
     "collapsed": false,
     "input": [
      "print \"Python\""
     ],
     "language": "python",
     "metadata": {},
     "outputs": [
      {
       "output_type": "stream",
       "stream": "stdout",
       "text": [
        "Python\n"
       ]
      }
     ],
     "prompt_number": 141
    },
    {
     "cell_type": "code",
     "collapsed": false,
     "input": [
      "print 'Python'"
     ],
     "language": "python",
     "metadata": {},
     "outputs": [
      {
       "output_type": "stream",
       "stream": "stdout",
       "text": [
        "Python\n"
       ]
      }
     ],
     "prompt_number": 142
    },
    {
     "cell_type": "raw",
     "metadata": {},
     "source": [
      "two variants which allow strings over muliple lines:"
     ]
    },
    {
     "cell_type": "code",
     "collapsed": false,
     "input": [
      "print \"\"\"Python:\n",
      "programming done easy\"\"\""
     ],
     "language": "python",
     "metadata": {},
     "outputs": [
      {
       "output_type": "stream",
       "stream": "stdout",
       "text": [
        "Python:\n",
        "programming done easy\n"
       ]
      }
     ],
     "prompt_number": 143
    },
    {
     "cell_type": "code",
     "collapsed": false,
     "input": [
      "print '''Python\n",
      "programming done easy'''"
     ],
     "language": "python",
     "metadata": {},
     "outputs": [
      {
       "output_type": "stream",
       "stream": "stdout",
       "text": [
        "Python\n",
        "programming done easy\n"
       ]
      }
     ],
     "prompt_number": 144
    },
    {
     "cell_type": "raw",
     "metadata": {},
     "source": [
      "advantage: you can use quotes inside a string without using escaping as done in C/C++:"
     ]
    },
    {
     "cell_type": "code",
     "collapsed": false,
     "input": [
      "print \"'abc' is a string\""
     ],
     "language": "python",
     "metadata": {},
     "outputs": [
      {
       "output_type": "stream",
       "stream": "stdout",
       "text": [
        "'abc' is a string\n"
       ]
      }
     ],
     "prompt_number": 145
    },
    {
     "cell_type": "code",
     "collapsed": false,
     "input": [
      "print '\"abc\" is a string'"
     ],
     "language": "python",
     "metadata": {},
     "outputs": [
      {
       "output_type": "stream",
       "stream": "stdout",
       "text": [
        "\"abc\" is a string\n"
       ]
      }
     ],
     "prompt_number": 146
    },
    {
     "cell_type": "code",
     "collapsed": false,
     "input": [
      "print \"\"\"those are strings: \"abc\" and 'abc'\"\"\""
     ],
     "language": "python",
     "metadata": {},
     "outputs": [
      {
       "output_type": "stream",
       "stream": "stdout",
       "text": [
        "those are strings: \"abc\" and 'abc'\n"
       ]
      }
     ],
     "prompt_number": 147
    },
    {
     "cell_type": "heading",
     "level": 3,
     "metadata": {},
     "source": [
      "Comparing strings"
     ]
    },
    {
     "cell_type": "code",
     "collapsed": false,
     "input": [
      "print \"abc\" == \"abc\""
     ],
     "language": "python",
     "metadata": {},
     "outputs": [
      {
       "output_type": "stream",
       "stream": "stdout",
       "text": [
        "True\n"
       ]
      }
     ],
     "prompt_number": 148
    },
    {
     "cell_type": "code",
     "collapsed": false,
     "input": [
      "print \"abc\" != \"ABC\""
     ],
     "language": "python",
     "metadata": {},
     "outputs": [
      {
       "output_type": "stream",
       "stream": "stdout",
       "text": [
        "True\n"
       ]
      }
     ],
     "prompt_number": 149
    },
    {
     "cell_type": "raw",
     "metadata": {},
     "source": [
      "strings are ordered lexycographically (phone book ordering):"
     ]
    },
    {
     "cell_type": "code",
     "collapsed": false,
     "input": [
      "print \"abc\" < \"abe\""
     ],
     "language": "python",
     "metadata": {},
     "outputs": [
      {
       "output_type": "stream",
       "stream": "stdout",
       "text": [
        "True\n"
       ]
      }
     ],
     "prompt_number": 150
    },
    {
     "cell_type": "code",
     "collapsed": false,
     "input": [
      "print \"abc\" < \"abcd\"  "
     ],
     "language": "python",
     "metadata": {},
     "outputs": [
      {
       "output_type": "stream",
       "stream": "stdout",
       "text": [
        "True\n"
       ]
      }
     ],
     "prompt_number": 151
    },
    {
     "cell_type": "heading",
     "level": 3,
     "metadata": {},
     "source": [
      "Indexing: accessing single characters in a string"
     ]
    },
    {
     "cell_type": "raw",
     "metadata": {},
     "source": [
      "indexing is used to access single characters, counting starts with zero\n",
      "\n",
      "Matlab users: be prepared !"
     ]
    },
    {
     "cell_type": "code",
     "collapsed": false,
     "input": [
      "name = \"Monty_Python\"\n",
      "print name[0]"
     ],
     "language": "python",
     "metadata": {},
     "outputs": [
      {
       "output_type": "stream",
       "stream": "stdout",
       "text": [
        "M\n"
       ]
      }
     ],
     "prompt_number": 152
    },
    {
     "cell_type": "raw",
     "metadata": {},
     "source": [
      "negative indices start from the end. This convenient as you do not need to know the length of the string:"
     ]
    },
    {
     "cell_type": "code",
     "collapsed": false,
     "input": [
      "print name[-1] "
     ],
     "language": "python",
     "metadata": {},
     "outputs": [
      {
       "output_type": "stream",
       "stream": "stdout",
       "text": [
        "n\n"
       ]
      }
     ],
     "prompt_number": 153
    },
    {
     "cell_type": "code",
     "collapsed": false,
     "input": [
      "print name[-2]"
     ],
     "language": "python",
     "metadata": {},
     "outputs": [
      {
       "output_type": "stream",
       "stream": "stdout",
       "text": [
        "o\n"
       ]
      }
     ],
     "prompt_number": 154
    },
    {
     "cell_type": "code",
     "collapsed": false,
     "input": [
      "print name[-12] == name[0]"
     ],
     "language": "python",
     "metadata": {},
     "outputs": [
      {
       "output_type": "stream",
       "stream": "stdout",
       "text": [
        "True\n"
       ]
      }
     ],
     "prompt_number": 155
    },
    {
     "cell_type": "heading",
     "level": 3,
     "metadata": {},
     "source": [
      "Slicing: beyond indexing"
     ]
    },
    {
     "cell_type": "raw",
     "metadata": {},
     "source": [
      "expression like \"string[start:end]\" is called slicing\n",
      "\n",
      "end is exclusive !!!\n"
     ]
    },
    {
     "cell_type": "code",
     "collapsed": false,
     "input": [
      "\"01234\"[1:4]"
     ],
     "language": "python",
     "metadata": {},
     "outputs": [
      {
       "metadata": {},
       "output_type": "pyout",
       "prompt_number": 160,
       "text": [
        "'123'"
       ]
      }
     ],
     "prompt_number": 160
    },
    {
     "cell_type": "raw",
     "metadata": {},
     "source": [
      "extended form : \"string[start:end:stepsize]\"\n",
      "\n",
      "stepsize is called \"stride\"\n",
      "\n",
      "start:end is the same as start:end:1"
     ]
    },
    {
     "cell_type": "code",
     "collapsed": false,
     "input": [
      "print \"0123456789\"[1:8:2]"
     ],
     "language": "python",
     "metadata": {},
     "outputs": [
      {
       "output_type": "stream",
       "stream": "stdout",
       "text": [
        "1357\n"
       ]
      }
     ],
     "prompt_number": 163
    },
    {
     "cell_type": "raw",
     "metadata": {},
     "source": [
      "default cases: you can omit values m, n or k, \n",
      "\n",
      "default for k is 1,\n",
      "default for m is 0 (if step size k is positive), \n",
      "default for n is the length of the string (if step size k is positive)"
     ]
    },
    {
     "cell_type": "code",
     "collapsed": false,
     "input": [
      "name = \"Monty_Python\"\n",
      "print name[:7]  "
     ],
     "language": "python",
     "metadata": {},
     "outputs": [
      {
       "output_type": "stream",
       "stream": "stdout",
       "text": [
        "Monty_P\n"
       ]
      }
     ],
     "prompt_number": 164
    },
    {
     "cell_type": "code",
     "collapsed": false,
     "input": [
      "print name[7:]"
     ],
     "language": "python",
     "metadata": {},
     "outputs": [
      {
       "output_type": "stream",
       "stream": "stdout",
       "text": [
        "ython\n"
       ]
      }
     ],
     "prompt_number": 165
    },
    {
     "cell_type": "code",
     "collapsed": false,
     "input": [
      "print name[3:-2:2]"
     ],
     "language": "python",
     "metadata": {},
     "outputs": [
      {
       "output_type": "stream",
       "stream": "stdout",
       "text": [
        "t_yh\n"
       ]
      }
     ],
     "prompt_number": 169
    },
    {
     "cell_type": "code",
     "collapsed": false,
     "input": [
      "print name[-2:3:-2]  "
     ],
     "language": "python",
     "metadata": {},
     "outputs": [
      {
       "output_type": "stream",
       "stream": "stdout",
       "text": [
        "otPy\n"
       ]
      }
     ],
     "prompt_number": 170
    },
    {
     "cell_type": "code",
     "collapsed": false,
     "input": [
      "print name[:]"
     ],
     "language": "python",
     "metadata": {},
     "outputs": [
      {
       "output_type": "stream",
       "stream": "stdout",
       "text": [
        "Monty_Python\n"
       ]
      }
     ],
     "prompt_number": 171
    },
    {
     "cell_type": "raw",
     "metadata": {},
     "source": [
      "This  slicing has two nice properties:\n",
      "\n",
      "1. for a slice m:n the legth of the sliced string is just m - n. (see KISS principle)"
     ]
    },
    {
     "cell_type": "code",
     "collapsed": false,
     "input": [
      "len(name[3:7]) == 7 - 3"
     ],
     "language": "python",
     "metadata": {},
     "outputs": [
      {
       "metadata": {},
       "output_type": "pyout",
       "prompt_number": 172,
       "text": [
        "True"
       ]
      }
     ],
     "prompt_number": 172
    },
    {
     "cell_type": "raw",
     "metadata": {},
     "source": [
      "2. concatenating slices is easy to interpret "
     ]
    },
    {
     "cell_type": "code",
     "collapsed": false,
     "input": [
      "name[3:7] + name[7:11] == name[3:11]"
     ],
     "language": "python",
     "metadata": {},
     "outputs": [
      {
       "metadata": {},
       "output_type": "pyout",
       "prompt_number": 173,
       "text": [
        "True"
       ]
      }
     ],
     "prompt_number": 173
    },
    {
     "cell_type": "heading",
     "level": 3,
     "metadata": {},
     "source": [
      "String *methods*"
     ]
    },
    {
     "cell_type": "raw",
     "metadata": {},
     "source": [
      "methods = functions \"attached\" to \"object\":"
     ]
    },
    {
     "cell_type": "code",
     "collapsed": false,
     "input": [
      "print name.upper()"
     ],
     "language": "python",
     "metadata": {},
     "outputs": [
      {
       "output_type": "stream",
       "stream": "stdout",
       "text": [
        "GUIDO\n"
       ]
      }
     ],
     "prompt_number": 175
    },
    {
     "cell_type": "raw",
     "metadata": {},
     "source": [
      "Note: strings are never changed inplace, all operations for changing a string return a new string !\n",
      "      aka STRINGS ARE IMMUTABLE"
     ]
    },
    {
     "cell_type": "code",
     "collapsed": false,
     "input": [
      "print name"
     ],
     "language": "python",
     "metadata": {},
     "outputs": [
      {
       "output_type": "stream",
       "stream": "stdout",
       "text": [
        "Guido\n"
       ]
      }
     ],
     "prompt_number": 177
    },
    {
     "cell_type": "code",
     "collapsed": false,
     "input": [
      "# first occurence of \"ui\" in \"Guido\":\n",
      "print \"Guido\".find(\"ui\")"
     ],
     "language": "python",
     "metadata": {},
     "outputs": [
      {
       "output_type": "stream",
       "stream": "stdout",
       "text": [
        "1\n"
       ]
      }
     ],
     "prompt_number": 178
    },
    {
     "cell_type": "raw",
     "metadata": {},
     "source": [
      "PRACTICE\n",
      "\n",
      "1. Use pen and paper to determine the values of the following expressions,\n",
      "   the use the Python shell to validate your results:\n",
      "\n",
      "   \"abcdefghi\"[2:-2]\n",
      "   \"abcdefghi\"[3:8:2]\n",
      "   \"abcdefghi\"[7:4:-1]\n",
      "   \"abcdefghi\"[::2]\n",
      "   \"abcdefghi\"[::-1]  \n",
      "   \"abcdefghi\"[:7:3]\n",
      "   \"abcdefghi\"[2::2]\n",
      "\n",
      "2. Look up what the \"replace\" method for strings does, and use this to write a\n",
      "   script which starts with a string \"123\" and then transforms this to\n",
      "   \"one_23\" and then to \"one_two_three_\" and then to \"one_two_three\" !\n",
      "\n",
      "3. Look up string \"endswith\" and \"startswith\" methods. Do you see any benefit compared to\n",
      "   string comparison with \"==\" ???\n",
      "\n",
      "4. Enter the snippet as a script and try to explain its output:\n",
      "\n",
      "   number = raw_input(\"please input number: \")\n",
      "   print number, \"times 3 is\", number * 3"
     ]
    },
    {
     "cell_type": "heading",
     "level": 3,
     "metadata": {},
     "source": [
      "'Calculating' with strings"
     ]
    },
    {
     "cell_type": "code",
     "collapsed": false,
     "input": [
      "name = \"uwe\"\n",
      "action = \"says hello\"\n",
      "print name +  \" \" + action + \"!\"   # \"+\" concatenates strings"
     ],
     "language": "python",
     "metadata": {},
     "outputs": [
      {
       "output_type": "stream",
       "stream": "stdout",
       "text": [
        "uwe says hello!\n"
       ]
      }
     ],
     "prompt_number": 179
    },
    {
     "cell_type": "code",
     "collapsed": false,
     "input": [
      "# strings can be multplied with an integer\n",
      "print \"123_\" * 4"
     ],
     "language": "python",
     "metadata": {},
     "outputs": [
      {
       "output_type": "stream",
       "stream": "stdout",
       "text": [
        "123_123_123_123_\n"
       ]
      }
     ],
     "prompt_number": 180
    },
    {
     "cell_type": "code",
     "collapsed": false,
     "input": [
      "# the position of the integer factor does not matter\n",
      "# addition is something we have seen above\n",
      "print 2 * \"123_\" + \"abc\""
     ],
     "language": "python",
     "metadata": {},
     "outputs": [
      {
       "output_type": "stream",
       "stream": "stdout",
       "text": [
        "123_123_abc\n"
       ]
      }
     ],
     "prompt_number": 181
    },
    {
     "cell_type": "heading",
     "level": 3,
     "metadata": {},
     "source": [
      "String to number conversion"
     ]
    },
    {
     "cell_type": "code",
     "collapsed": false,
     "input": [
      "number = raw_input(\"please input number: \")\n",
      "print number, \"times 3 is\", number * 3"
     ],
     "language": "python",
     "metadata": {},
     "outputs": [
      {
       "name": "stdout",
       "output_type": "stream",
       "stream": "stdout",
       "text": [
        "please input number: 1\n"
       ]
      },
      {
       "output_type": "stream",
       "stream": "stdout",
       "text": [
        "1 times 3 is 111\n"
       ]
      }
     ],
     "prompt_number": 185
    },
    {
     "cell_type": "raw",
     "metadata": {},
     "source": [
      "float() and int() can be used to convert a string representing a number to the numbers value:"
     ]
    },
    {
     "cell_type": "code",
     "collapsed": false,
     "input": [
      "# correct\n",
      "number = raw_input(\"please input number: \")\n",
      "print number, \"times 3 is\", float(number) * 3"
     ],
     "language": "python",
     "metadata": {},
     "outputs": [
      {
       "name": "stdout",
       "output_type": "stream",
       "stream": "stdout",
       "text": [
        "please input number: 1\n"
       ]
      },
      {
       "output_type": "stream",
       "stream": "stdout",
       "text": [
        " 1 times 3 is 3.0\n"
       ]
      }
     ],
     "prompt_number": 189
    },
    {
     "cell_type": "code",
     "collapsed": false,
     "input": [
      "print int(\"123\") * float(\"3.141\")"
     ],
     "language": "python",
     "metadata": {},
     "outputs": [
      {
       "output_type": "stream",
       "stream": "stdout",
       "text": [
        "386.343\n"
       ]
      }
     ],
     "prompt_number": 190
    },
    {
     "cell_type": "code",
     "collapsed": false,
     "input": [
      "print int(\"a3\")"
     ],
     "language": "python",
     "metadata": {},
     "outputs": [
      {
       "ename": "ValueError",
       "evalue": "invalid literal for int() with base 10: 'a3'",
       "output_type": "pyerr",
       "traceback": [
        "\u001b[1;31m---------------------------------------------------------------------------\u001b[0m\n\u001b[1;31mValueError\u001b[0m                                Traceback (most recent call last)",
        "\u001b[1;32m<ipython-input-191-7d7f3234561e>\u001b[0m in \u001b[0;36m<module>\u001b[1;34m()\u001b[0m\n\u001b[1;32m----> 1\u001b[1;33m \u001b[1;32mprint\u001b[0m \u001b[0mint\u001b[0m\u001b[1;33m(\u001b[0m\u001b[1;34m\"a3\"\u001b[0m\u001b[1;33m)\u001b[0m\u001b[1;33m\u001b[0m\u001b[0m\n\u001b[0m",
        "\u001b[1;31mValueError\u001b[0m: invalid literal for int() with base 10: 'a3'"
       ]
      }
     ],
     "prompt_number": 191
    },
    {
     "cell_type": "heading",
     "level": 3,
     "metadata": {},
     "source": [
      "Variables, interlude"
     ]
    },
    {
     "cell_type": "raw",
     "metadata": {},
     "source": [
      "We know some Python types already:"
     ]
    },
    {
     "cell_type": "code",
     "collapsed": false,
     "input": [
      "print type(3)"
     ],
     "language": "python",
     "metadata": {},
     "outputs": [
      {
       "output_type": "stream",
       "stream": "stdout",
       "text": [
        "<type 'int'>\n"
       ]
      }
     ],
     "prompt_number": 192
    },
    {
     "cell_type": "code",
     "collapsed": false,
     "input": [
      "print type(3.0)"
     ],
     "language": "python",
     "metadata": {},
     "outputs": [
      {
       "output_type": "stream",
       "stream": "stdout",
       "text": [
        "<type 'float'>\n"
       ]
      }
     ],
     "prompt_number": 193
    },
    {
     "cell_type": "code",
     "collapsed": false,
     "input": [
      "print type(\"\")"
     ],
     "language": "python",
     "metadata": {},
     "outputs": [
      {
       "output_type": "stream",
       "stream": "stdout",
       "text": [
        "<type 'str'>\n"
       ]
      }
     ],
     "prompt_number": 194
    },
    {
     "cell_type": "code",
     "collapsed": false,
     "input": [
      "print type(True)"
     ],
     "language": "python",
     "metadata": {},
     "outputs": [
      {
       "output_type": "stream",
       "stream": "stdout",
       "text": [
        "<type 'bool'>\n"
       ]
      }
     ],
     "prompt_number": 195
    },
    {
     "cell_type": "raw",
     "metadata": {},
     "source": [
      "Note for C/C++ programmers: variables can be reassigned, in the case below \"hi\" does not have\n",
      "a name any more and occoupied memory will be deallocated from memory automatically."
     ]
    },
    {
     "cell_type": "code",
     "collapsed": false,
     "input": [
      "a = \"hi\"\n",
      "a = a + \" there\"\n",
      "print a"
     ],
     "language": "python",
     "metadata": {},
     "outputs": [
      {
       "output_type": "stream",
       "stream": "stdout",
       "text": [
        "hi there\n"
       ]
      }
     ],
     "prompt_number": 197
    },
    {
     "cell_type": "raw",
     "metadata": {},
     "source": [
      "We already know that we do not need to declare a variables type,\n",
      "but beyond that, this type is allowd to change during execution:"
     ]
    },
    {
     "cell_type": "code",
     "collapsed": false,
     "input": [
      "a = 123\n",
      "print type(a), a\n",
      "a = \"i am a\"\n",
      "print type(a), a"
     ],
     "language": "python",
     "metadata": {},
     "outputs": [
      {
       "output_type": "stream",
       "stream": "stdout",
       "text": [
        "<type 'int'> 123\n",
        "<type 'str'> i am a\n"
       ]
      }
     ],
     "prompt_number": 198
    },
    {
     "cell_type": "heading",
     "level": 3,
     "metadata": {},
     "source": [
      "For loops"
     ]
    },
    {
     "cell_type": "raw",
     "metadata": {},
     "source": [
      "Simple loop counting 0 up to n-1 is done with a range(n), the\n",
      "upper limit of this range is exclusive, counting starts with zero."
     ]
    },
    {
     "cell_type": "code",
     "collapsed": false,
     "input": [
      "for i in range(3): # aka for (int i=0; i<3; i++) in C/C++\n",
      "    print i"
     ],
     "language": "python",
     "metadata": {},
     "outputs": [
      {
       "output_type": "stream",
       "stream": "stdout",
       "text": [
        "0\n",
        "1\n",
        "2\n"
       ]
      }
     ],
     "prompt_number": 199
    },
    {
     "cell_type": "raw",
     "metadata": {},
     "source": [
      "Code blocks in Python do not need any braces or some \"begin\" and \"end\" statements.\n",
      "\n",
      "Lines having the same identation belong to the same block of  code.\n",
      "\n",
      "Most Python programmers use 4 spaces, no tab."
     ]
    },
    {
     "cell_type": "code",
     "collapsed": false,
     "input": [
      "for i in range(3):\n",
      "    print \"i=\",\n",
      "    print i"
     ],
     "language": "python",
     "metadata": {},
     "outputs": [
      {
       "output_type": "stream",
       "stream": "stdout",
       "text": [
        "i= 0\n",
        "i= 1\n",
        "i= 2\n"
       ]
      }
     ],
     "prompt_number": 200
    },
    {
     "cell_type": "code",
     "collapsed": false,
     "input": [
      "for i in range(3):\n",
      "    print \"i=\",\n",
      "   print i"
     ],
     "language": "python",
     "metadata": {},
     "outputs": [
      {
       "ename": "IndentationError",
       "evalue": "unindent does not match any outer indentation level (<ipython-input-201-f44eae0d3110>, line 3)",
       "output_type": "pyerr",
       "traceback": [
        "\u001b[1;36m  File \u001b[1;32m\"<ipython-input-201-f44eae0d3110>\"\u001b[1;36m, line \u001b[1;32m3\u001b[0m\n\u001b[1;33m    print i\u001b[0m\n\u001b[1;37m           ^\u001b[0m\n\u001b[1;31mIndentationError\u001b[0m\u001b[1;31m:\u001b[0m unindent does not match any outer indentation level\n"
       ]
      }
     ],
     "prompt_number": 201
    },
    {
     "cell_type": "raw",
     "metadata": {},
     "source": [
      "The range function is similar to slicing:"
     ]
    },
    {
     "cell_type": "code",
     "collapsed": false,
     "input": [
      "for i in range(1, 5):\n",
      "    print i"
     ],
     "language": "python",
     "metadata": {},
     "outputs": [
      {
       "output_type": "stream",
       "stream": "stdout",
       "text": [
        "1\n",
        "2\n",
        "3\n",
        "4\n"
       ]
      }
     ],
     "prompt_number": 202
    },
    {
     "cell_type": "code",
     "collapsed": false,
     "input": [
      "for i in range(1, 5, 2):\n",
      "    print i"
     ],
     "language": "python",
     "metadata": {},
     "outputs": [
      {
       "output_type": "stream",
       "stream": "stdout",
       "text": [
        "1\n",
        "3\n"
       ]
      }
     ],
     "prompt_number": 203
    },
    {
     "cell_type": "raw",
     "metadata": {},
     "source": [
      "Loops can be nested by further identation:"
     ]
    },
    {
     "cell_type": "code",
     "collapsed": false,
     "input": [
      "for i in range(1, 3):      \n",
      "    for j in range(2, 4):  \n",
      "        print i, \"times\", j, \"is\", i*j "
     ],
     "language": "python",
     "metadata": {},
     "outputs": [
      {
       "output_type": "stream",
       "stream": "stdout",
       "text": [
        "1 times 2 is 2\n",
        "1 times 3 is 3\n",
        "2 times 2 is 4\n",
        "2 times 3 is 6\n"
       ]
      }
     ],
     "prompt_number": 204
    },
    {
     "cell_type": "heading",
     "level": 1,
     "metadata": {},
     "source": [
      "Control Flow"
     ]
    },
    {
     "cell_type": "heading",
     "level": 3,
     "metadata": {},
     "source": [
      "If / then / else"
     ]
    },
    {
     "cell_type": "raw",
     "metadata": {},
     "source": [
      "There is no \"else if\" in Python, only \"elif\". Similar to the \"for\" expression lines end with a colon:"
     ]
    },
    {
     "cell_type": "code",
     "collapsed": false,
     "input": [
      "number = int(raw_input(\"input number: \"))\n",
      "\n",
      "if number < 0:\n",
      "    print \"number is negative\"\n",
      "elif number == 0:\n",
      "    print \"number is zero\"\n",
      "else:\n",
      "    print \"number is positive\"\n"
     ],
     "language": "python",
     "metadata": {},
     "outputs": [
      {
       "name": "stdout",
       "output_type": "stream",
       "stream": "stdout",
       "text": [
        "input number: 3\n"
       ]
      },
      {
       "output_type": "stream",
       "stream": "stdout",
       "text": [
        "number is positive\n"
       ]
      }
     ],
     "prompt_number": 208
    },
    {
     "cell_type": "heading",
     "level": 3,
     "metadata": {},
     "source": [
      "While statement"
     ]
    },
    {
     "cell_type": "raw",
     "metadata": {},
     "source": [
      "Python only has a \"while\", no \"do until\", or \"do while\" where the\n",
      "loop continuation is checked at the end of the loop:"
     ]
    },
    {
     "cell_type": "code",
     "collapsed": false,
     "input": [
      "x = 3\n",
      "while x > 0:\n",
      "    print x\n",
      "    x -= 1"
     ],
     "language": "python",
     "metadata": {},
     "outputs": [
      {
       "output_type": "stream",
       "stream": "stdout",
       "text": [
        "3\n",
        "2\n",
        "1\n"
       ]
      }
     ],
     "prompt_number": 209
    },
    {
     "cell_type": "heading",
     "level": 3,
     "metadata": {},
     "source": [
      "Breaking out of a loop"
     ]
    },
    {
     "cell_type": "code",
     "collapsed": false,
     "input": [
      "for i in range(10):\n",
      "    print i\n",
      "    if i > 1:\n",
      "        print \"stop\"\n",
      "        break"
     ],
     "language": "python",
     "metadata": {},
     "outputs": [
      {
       "output_type": "stream",
       "stream": "stdout",
       "text": [
        "0\n",
        "1\n",
        "2\n",
        "stop\n"
       ]
      }
     ],
     "prompt_number": 210
    },
    {
     "cell_type": "heading",
     "level": 3,
     "metadata": {},
     "source": [
      "Skipping execution of rest of loop body with \"continue\""
     ]
    },
    {
     "cell_type": "code",
     "collapsed": false,
     "input": [
      "for i in range(5):\n",
      "    print i,\n",
      "    if i % 2 == 0:\n",
      "        print \"is even\"\n",
      "        continue\n",
      "    print \"is odd\""
     ],
     "language": "python",
     "metadata": {},
     "outputs": [
      {
       "output_type": "stream",
       "stream": "stdout",
       "text": [
        "0 is even\n",
        "1 is odd\n",
        "2 is even\n",
        "3 is odd\n",
        "4 is even\n"
       ]
      }
     ],
     "prompt_number": 211
    },
    {
     "cell_type": "raw",
     "metadata": {},
     "source": [
      "PRACTICE:\n",
      "\n",
      "1) Write a script which asks for two numbers a, b and calculates  a^2 + a^4 + .. + a^(2b).\n",
      "   You will need to write a for loop. Try to write two different solutions, using different\n",
      "   stepsizes for the exponent.\n",
      "\n",
      "2) write a program which asks for two numbers, and let the user choose an operation +, -, *, /\n",
      "   apply this operation to the two numbers and print the result\n",
      "\n",
      "3) extension:\n",
      "   after each computation, ask if the user wants to do another calculation, and handle this accordingly\n",
      "\n",
      "4) let the user input a number and check if this is a prime number"
     ]
    },
    {
     "cell_type": "heading",
     "level": 3,
     "metadata": {},
     "source": [
      "Python container types: lists"
     ]
    },
    {
     "cell_type": "raw",
     "metadata": {},
     "source": [
      "The range function introduced above returns something called \"a list\":"
     ]
    },
    {
     "cell_type": "code",
     "collapsed": false,
     "input": [
      "print type(range(3))"
     ],
     "language": "python",
     "metadata": {},
     "outputs": [
      {
       "output_type": "stream",
       "stream": "stdout",
       "text": [
        "<type 'list'>\n"
       ]
      }
     ],
     "prompt_number": 212
    },
    {
     "cell_type": "raw",
     "metadata": {},
     "source": [
      "For loops is in most cases not just do counting up to a limit, but \"iterating\" over an \"object you can iterate over\". "
     ]
    },
    {
     "cell_type": "code",
     "collapsed": false,
     "input": [
      "for i in [3, 4, 7, 2]:\n",
      "    print i, \"squared is\", i*i"
     ],
     "language": "python",
     "metadata": {},
     "outputs": [
      {
       "output_type": "stream",
       "stream": "stdout",
       "text": [
        "3 squared is 9\n",
        "4 squared is 16\n",
        "7 squared is 49\n",
        "2 squared is 4\n"
       ]
      }
     ],
     "prompt_number": 213
    },
    {
     "cell_type": "raw",
     "metadata": {},
     "source": [
      "Side Note: you can iterate over strings too:"
     ]
    },
    {
     "cell_type": "code",
     "collapsed": false,
     "input": [
      "for ci in \"Python\":\n",
      "    print ci, chr(ord(ci)+1)  # ord returns ascii code of character, chr is inverse"
     ],
     "language": "python",
     "metadata": {},
     "outputs": [
      {
       "output_type": "stream",
       "stream": "stdout",
       "text": [
        "P Q\n",
        "y z\n",
        "t u\n",
        "h i\n",
        "o p\n",
        "n o\n"
       ]
      }
     ],
     "prompt_number": 218
    },
    {
     "cell_type": "raw",
     "metadata": {},
     "source": [
      "The values in a list may have arbitrary type:"
     ]
    },
    {
     "cell_type": "code",
     "collapsed": false,
     "input": [
      "print [3, \"hello\", 3.12]"
     ],
     "language": "python",
     "metadata": {},
     "outputs": [
      {
       "output_type": "stream",
       "stream": "stdout",
       "text": [
        "[3, 'hello', 3.12]\n"
       ]
      }
     ],
     "prompt_number": 219
    },
    {
     "cell_type": "raw",
     "metadata": {},
     "source": [
      "To check if an element is in a list, use \"in\""
     ]
    },
    {
     "cell_type": "code",
     "collapsed": false,
     "input": [
      "print 3 in [1, 2, 4]"
     ],
     "language": "python",
     "metadata": {},
     "outputs": [
      {
       "output_type": "stream",
       "stream": "stdout",
       "text": [
        "False\n"
       ]
      }
     ],
     "prompt_number": 220
    },
    {
     "cell_type": "raw",
     "metadata": {},
     "source": [
      "Good practice: \"not in\" is more readable than \"if not ... in ...\":"
     ]
    },
    {
     "cell_type": "code",
     "collapsed": false,
     "input": [
      "print 3 not in [1, 2, 4]"
     ],
     "language": "python",
     "metadata": {},
     "outputs": [
      {
       "output_type": "stream",
       "stream": "stdout",
       "text": [
        "True\n"
       ]
      }
     ],
     "prompt_number": 223
    },
    {
     "cell_type": "raw",
     "metadata": {},
     "source": [
      "the \"append\" method adds an element to a list:"
     ]
    },
    {
     "cell_type": "code",
     "collapsed": false,
     "input": [
      "numbers = [1, 3, 2]\n",
      "numbers.append(4)\n",
      "print numbers"
     ],
     "language": "python",
     "metadata": {},
     "outputs": [
      {
       "output_type": "stream",
       "stream": "stdout",
       "text": [
        "[1, 3, 2, 4]\n"
       ]
      }
     ],
     "prompt_number": 224
    },
    {
     "cell_type": "raw",
     "metadata": {},
     "source": [
      "list support slicing:"
     ]
    },
    {
     "cell_type": "code",
     "collapsed": false,
     "input": [
      "print numbers[1:3]"
     ],
     "language": "python",
     "metadata": {},
     "outputs": [
      {
       "output_type": "stream",
       "stream": "stdout",
       "text": [
        "[3, 2]\n"
       ]
      }
     ],
     "prompt_number": 225
    },
    {
     "cell_type": "raw",
     "metadata": {},
     "source": [
      "\"len\" returns the lenght of a list:"
     ]
    },
    {
     "cell_type": "code",
     "collapsed": false,
     "input": [
      "print len(numbers)"
     ],
     "language": "python",
     "metadata": {},
     "outputs": [
      {
       "output_type": "stream",
       "stream": "stdout",
       "text": [
        "4\n"
       ]
      }
     ],
     "prompt_number": 226
    },
    {
     "cell_type": "raw",
     "metadata": {},
     "source": [
      "[] is the empty list:"
     ]
    },
    {
     "cell_type": "code",
     "collapsed": false,
     "input": [
      "print type([]), len([])"
     ],
     "language": "python",
     "metadata": {},
     "outputs": [
      {
       "output_type": "stream",
       "stream": "stdout",
       "text": [
        "<type 'list'> 0\n"
       ]
      }
     ],
     "prompt_number": 227
    },
    {
     "cell_type": "raw",
     "metadata": {},
     "source": [
      "list \"algebra\": adding and multiplication with lists"
     ]
    },
    {
     "cell_type": "code",
     "collapsed": false,
     "input": [
      "print [0, 11] * 3"
     ],
     "language": "python",
     "metadata": {},
     "outputs": [
      {
       "output_type": "stream",
       "stream": "stdout",
       "text": [
        "[0, 11, 0, 11, 0, 11]\n"
       ]
      }
     ],
     "prompt_number": 228
    },
    {
     "cell_type": "code",
     "collapsed": false,
     "input": [
      "print [1, 2, 3] + [5, 6]"
     ],
     "language": "python",
     "metadata": {},
     "outputs": [
      {
       "output_type": "stream",
       "stream": "stdout",
       "text": [
        "[1, 2, 3, 5, 6]\n"
       ]
      }
     ],
     "prompt_number": 229
    },
    {
     "cell_type": "raw",
     "metadata": {},
     "source": [
      "Note: contrary to strings, lists are mutable, so many list methods change the list in-place."
     ]
    },
    {
     "cell_type": "code",
     "collapsed": false,
     "input": [
      "print numbers"
     ],
     "language": "python",
     "metadata": {},
     "outputs": [
      {
       "output_type": "stream",
       "stream": "stdout",
       "text": [
        "[1, 3, 2, 4]\n"
       ]
      }
     ],
     "prompt_number": 230
    },
    {
     "cell_type": "code",
     "collapsed": false,
     "input": [
      "numbers[0] = 2\n",
      "print numbers"
     ],
     "language": "python",
     "metadata": {},
     "outputs": [
      {
       "output_type": "stream",
       "stream": "stdout",
       "text": [
        "[2, 3, 2, 4]\n"
       ]
      }
     ],
     "prompt_number": 231
    },
    {
     "cell_type": "code",
     "collapsed": false,
     "input": [
      "numbers.remove(2)\n",
      "print numbers"
     ],
     "language": "python",
     "metadata": {},
     "outputs": [
      {
       "output_type": "stream",
       "stream": "stdout",
       "text": [
        "[3, 2, 4]\n"
       ]
      }
     ],
     "prompt_number": 232
    },
    {
     "cell_type": "raw",
     "metadata": {},
     "source": [
      "Example:"
     ]
    },
    {
     "cell_type": "code",
     "collapsed": false,
     "input": [
      "li = [3, 4, 2]\n",
      "# remove all even numbers:\n",
      "for i in li:\n",
      "    if i % 2 == 0:\n",
      "        li.remove(i)\n",
      "print li"
     ],
     "language": "python",
     "metadata": {},
     "outputs": [
      {
       "output_type": "stream",
       "stream": "stdout",
       "text": [
        "[3, 2]\n"
       ]
      }
     ],
     "prompt_number": 233
    },
    {
     "cell_type": "code",
     "collapsed": false,
     "input": [
      "# PROBLEM: list is changed during execution\n",
      "li = [3, 4, 2]\n",
      "# remove all even numbers, iterate over a copy of li:\n",
      "for i in li[:]:\n",
      "    if i % 2 == 0:\n",
      "        li.remove(i)\n",
      "print li"
     ],
     "language": "python",
     "metadata": {},
     "outputs": [
      {
       "output_type": "stream",
       "stream": "stdout",
       "text": [
        "[3]\n"
       ]
      }
     ],
     "prompt_number": 234
    },
    {
     "cell_type": "raw",
     "metadata": {},
     "source": [
      "PRACTICE TIME\n",
      "\n",
      "1. Create a list and use the IPython shell to find out how to sort the list.\n",
      "   How can you sort in reversed order ?\n",
      "\n",
      "2. Let the user input a number > 3. Create a list with the Fibonacci numbers up to this value.\n",
      "   [start with [1, 1], then append iteratively the sum of its two predecessors. That is\n",
      "    you get a sequence 1, 1, 2, 3, 5, 8, 11, 19, ....]\n",
      "\n",
      "3. Write a script which takes a number of values and prints those numbers concatonated without spaces.\n",
      "    hint: fist transform [1,3,12] -> [\"1\", \"3\", \"12\", then lookup help(\"\".join)"
     ]
    },
    {
     "cell_type": "heading",
     "level": 3,
     "metadata": {},
     "source": [
      "Container types: tuples"
     ]
    },
    {
     "cell_type": "raw",
     "metadata": {},
     "source": [
      "Tuples are defined as lists, but with parantheses instead of square brackets:"
     ]
    },
    {
     "cell_type": "code",
     "collapsed": false,
     "input": [
      "for i in (1, 2, 3):\n",
      "    print i"
     ],
     "language": "python",
     "metadata": {},
     "outputs": [
      {
       "output_type": "stream",
       "stream": "stdout",
       "text": [
        "1\n",
        "2\n",
        "3\n"
       ]
      }
     ],
     "prompt_number": 235
    },
    {
     "cell_type": "raw",
     "metadata": {},
     "source": [
      "Contrary to lists, tuples are immutable:"
     ]
    },
    {
     "cell_type": "code",
     "collapsed": false,
     "input": [
      "tp = (1, 2, 3)\n",
      "tp.append(4)"
     ],
     "language": "python",
     "metadata": {},
     "outputs": [
      {
       "ename": "AttributeError",
       "evalue": "'tuple' object has no attribute 'append'",
       "output_type": "pyerr",
       "traceback": [
        "\u001b[1;31m---------------------------------------------------------------------------\u001b[0m\n\u001b[1;31mAttributeError\u001b[0m                            Traceback (most recent call last)",
        "\u001b[1;32m<ipython-input-236-80b2ba7e971d>\u001b[0m in \u001b[0;36m<module>\u001b[1;34m()\u001b[0m\n\u001b[0;32m      1\u001b[0m \u001b[0mtp\u001b[0m \u001b[1;33m=\u001b[0m \u001b[1;33m(\u001b[0m\u001b[1;36m1\u001b[0m\u001b[1;33m,\u001b[0m \u001b[1;36m2\u001b[0m\u001b[1;33m,\u001b[0m \u001b[1;36m3\u001b[0m\u001b[1;33m)\u001b[0m\u001b[1;33m\u001b[0m\u001b[0m\n\u001b[1;32m----> 2\u001b[1;33m \u001b[0mtp\u001b[0m\u001b[1;33m.\u001b[0m\u001b[0mappend\u001b[0m\u001b[1;33m(\u001b[0m\u001b[1;36m4\u001b[0m\u001b[1;33m)\u001b[0m\u001b[1;33m\u001b[0m\u001b[0m\n\u001b[0m",
        "\u001b[1;31mAttributeError\u001b[0m: 'tuple' object has no attribute 'append'"
       ]
      }
     ],
     "prompt_number": 236
    },
    {
     "cell_type": "raw",
     "metadata": {},
     "source": [
      "Although lists can contain values of different types, most Python programmers prefer tuples for\n",
      "grouping objects of different types."
     ]
    },
    {
     "cell_type": "raw",
     "metadata": {},
     "source": [
      "Slicing again......"
     ]
    },
    {
     "cell_type": "code",
     "collapsed": false,
     "input": [
      "tp = (1, 2, 3, 4)\n",
      "print tp[-3:-1]"
     ],
     "language": "python",
     "metadata": {},
     "outputs": [
      {
       "output_type": "stream",
       "stream": "stdout",
       "text": [
        "(2, 3)\n"
       ]
      }
     ],
     "prompt_number": 237
    },
    {
     "cell_type": "heading",
     "level": 4,
     "metadata": {},
     "source": [
      "Tuple unpacking"
     ]
    },
    {
     "cell_type": "raw",
     "metadata": {},
     "source": [
      "Values grouped in a tuple can be \"ungrouped\":"
     ]
    },
    {
     "cell_type": "code",
     "collapsed": false,
     "input": [
      "tp = (1, 2, 3)\n",
      "a, b, c = tp\n",
      "print a * b * c"
     ],
     "language": "python",
     "metadata": {},
     "outputs": [
      {
       "output_type": "stream",
       "stream": "stdout",
       "text": [
        "6\n"
       ]
      }
     ],
     "prompt_number": 238
    },
    {
     "cell_type": "raw",
     "metadata": {},
     "source": [
      "If the Python tries to interprete values separated  by commata as tuples, so most tuples can be written without paranthesis:"
     ]
    },
    {
     "cell_type": "code",
     "collapsed": false,
     "input": [
      "a, b, c = 1, 2, 3"
     ],
     "language": "python",
     "metadata": {},
     "outputs": [],
     "prompt_number": 239
    },
    {
     "cell_type": "code",
     "collapsed": false,
     "input": [
      "x = 1,\n",
      "print type(x), len(x)"
     ],
     "language": "python",
     "metadata": {},
     "outputs": [
      {
       "output_type": "stream",
       "stream": "stdout",
       "text": [
        "<type 'tuple'> 1\n"
       ]
      }
     ],
     "prompt_number": 240
    },
    {
     "cell_type": "raw",
     "metadata": {},
     "source": [
      "() is the empty tuple:"
     ]
    },
    {
     "cell_type": "code",
     "collapsed": false,
     "input": [
      "print type(()), len(())"
     ],
     "language": "python",
     "metadata": {},
     "outputs": [
      {
       "output_type": "stream",
       "stream": "stdout",
       "text": [
        "<type 'tuple'> 0\n"
       ]
      }
     ],
     "prompt_number": 241
    },
    {
     "cell_type": "raw",
     "metadata": {},
     "source": [
      "tuple unpacking is convenient for swapping and other permutations of values. No temporary variables are needed:"
     ]
    },
    {
     "cell_type": "code",
     "collapsed": false,
     "input": [
      "a, b = b, a\n",
      "print a, b"
     ],
     "language": "python",
     "metadata": {},
     "outputs": [
      {
       "output_type": "stream",
       "stream": "stdout",
       "text": [
        "2 1\n"
       ]
      }
     ],
     "prompt_number": 242
    },
    {
     "cell_type": "raw",
     "metadata": {},
     "source": [
      "This pairing of two lists is often needed. Python provides the zip function:"
     ]
    },
    {
     "cell_type": "code",
     "collapsed": false,
     "input": [
      "a_values = [1, 3 ,5]\n",
      "b_values = [2, 4, 6]\n",
      "print zip(a_values, b_values)"
     ],
     "language": "python",
     "metadata": {},
     "outputs": [
      {
       "output_type": "stream",
       "stream": "stdout",
       "text": [
        "[(1, 2), (3, 4), (5, 6)]\n"
       ]
      }
     ],
     "prompt_number": 243
    },
    {
     "cell_type": "raw",
     "metadata": {},
     "source": [
      "tuple upacking works in many places, eg in for loops:"
     ]
    },
    {
     "cell_type": "code",
     "collapsed": false,
     "input": [
      "for a, b in zip(a_values, b_values):\n",
      "    print a + b"
     ],
     "language": "python",
     "metadata": {},
     "outputs": [
      {
       "output_type": "stream",
       "stream": "stdout",
       "text": [
        "3\n",
        "7\n",
        "11\n"
       ]
      }
     ],
     "prompt_number": 244
    },
    {
     "cell_type": "raw",
     "metadata": {},
     "source": [
      "Tuple unpacking can be used when enumerating an \"iterable\":"
     ]
    },
    {
     "cell_type": "code",
     "collapsed": false,
     "input": [
      "words = [\"you\", \"me\", \"and\", \"i\"]\n",
      "for i, word in enumerate(words):\n",
      "    print \"word\", i, \"is\", word"
     ],
     "language": "python",
     "metadata": {},
     "outputs": [
      {
       "output_type": "stream",
       "stream": "stdout",
       "text": [
        "word 0 is you\n",
        "word 1 is me\n",
        "word 2 is and\n",
        "word 3 is i\n"
       ]
      }
     ],
     "prompt_number": 245
    },
    {
     "cell_type": "heading",
     "level": 3,
     "metadata": {},
     "source": [
      "Python collections: dictionaries"
     ]
    },
    {
     "cell_type": "raw",
     "metadata": {},
     "source": [
      "Dictionaries represent a mapping of keys to values. Also known as \"Map\", \"HashMap\", etc in C++ or Java.\n",
      "Dictionaries are defined like this:"
     ]
    },
    {
     "cell_type": "code",
     "collapsed": false,
     "input": [
      "age_of = { \"jan\": 18, \"alan\": 27, \"universe\": 13.8e9 }"
     ],
     "language": "python",
     "metadata": {},
     "outputs": [],
     "prompt_number": 246
    },
    {
     "cell_type": "markdown",
     "metadata": {},
     "source": [
      "This corresponds to the following table:\n",
      "\n",
      "key           | mapped to\n",
      "------------- | -------------\n",
      "jan           | 18\n",
      "alan          | 27\n",
      "universe      | 13.8e9"
     ]
    },
    {
     "cell_type": "raw",
     "metadata": {},
     "source": [
      "To access the value assigned to a key square brackets are used:"
     ]
    },
    {
     "cell_type": "code",
     "collapsed": false,
     "input": [
      "print age_of[\"universe\"]"
     ],
     "language": "python",
     "metadata": {},
     "outputs": [
      {
       "output_type": "stream",
       "stream": "stdout",
       "text": [
        "13800000000.0\n"
       ]
      }
     ],
     "prompt_number": 247
    },
    {
     "cell_type": "raw",
     "metadata": {},
     "source": [
      "As there is no key \"god\" in age_of, this does not work:"
     ]
    },
    {
     "cell_type": "code",
     "collapsed": false,
     "input": [
      "print age_of[\"god\"]"
     ],
     "language": "python",
     "metadata": {},
     "outputs": [
      {
       "ename": "KeyError",
       "evalue": "'god'",
       "output_type": "pyerr",
       "traceback": [
        "\u001b[1;31m---------------------------------------------------------------------------\u001b[0m\n\u001b[1;31mKeyError\u001b[0m                                  Traceback (most recent call last)",
        "\u001b[1;32m<ipython-input-248-a6fca65d74ed>\u001b[0m in \u001b[0;36m<module>\u001b[1;34m()\u001b[0m\n\u001b[1;32m----> 1\u001b[1;33m \u001b[1;32mprint\u001b[0m \u001b[0mage_of\u001b[0m\u001b[1;33m[\u001b[0m\u001b[1;34m\"god\"\u001b[0m\u001b[1;33m]\u001b[0m\u001b[1;33m\u001b[0m\u001b[0m\n\u001b[0m",
        "\u001b[1;31mKeyError\u001b[0m: 'god'"
       ]
      }
     ],
     "prompt_number": 248
    },
    {
     "cell_type": "raw",
     "metadata": {},
     "source": [
      "But Python has a dictionary method for providing default values for undefined keys:"
     ]
    },
    {
     "cell_type": "code",
     "collapsed": false,
     "input": [
      "print age_of.get(\"god\", \"unknown\")"
     ],
     "language": "python",
     "metadata": {},
     "outputs": [
      {
       "output_type": "stream",
       "stream": "stdout",
       "text": [
        "unknown\n"
       ]
      }
     ],
     "prompt_number": 249
    },
    {
     "cell_type": "raw",
     "metadata": {},
     "source": [
      "\"in\" tests if a given key exists:"
     ]
    },
    {
     "cell_type": "code",
     "collapsed": false,
     "input": [
      "print \"uwe\" in age_of"
     ],
     "language": "python",
     "metadata": {},
     "outputs": [
      {
       "output_type": "stream",
       "stream": "stdout",
       "text": [
        "False\n"
       ]
      }
     ],
     "prompt_number": 250
    },
    {
     "cell_type": "raw",
     "metadata": {},
     "source": [
      "keys and values of a dictionary can be extraced as lists ..."
     ]
    },
    {
     "cell_type": "code",
     "collapsed": false,
     "input": [
      "print age_of.keys(), age_of.values()"
     ],
     "language": "python",
     "metadata": {},
     "outputs": [
      {
       "output_type": "stream",
       "stream": "stdout",
       "text": [
        "['jan', 'universe', 'alan'] [18, 13800000000.0, 27]\n"
       ]
      }
     ],
     "prompt_number": 251
    },
    {
     "cell_type": "raw",
     "metadata": {},
     "source": [
      "... or as (key, value) tuples in a list:"
     ]
    },
    {
     "cell_type": "code",
     "collapsed": false,
     "input": [
      "print age_of.items()"
     ],
     "language": "python",
     "metadata": {},
     "outputs": [
      {
       "output_type": "stream",
       "stream": "stdout",
       "text": [
        "[('jan', 18), ('universe', 13800000000.0), ('alan', 27)]\n"
       ]
      }
     ],
     "prompt_number": 252
    },
    {
     "cell_type": "raw",
     "metadata": {},
     "source": [
      "tuple unpacking again:"
     ]
    },
    {
     "cell_type": "code",
     "collapsed": false,
     "input": [
      "for who, age in age_of.items():\n",
      "    print who, \"is\", age, \"years old\""
     ],
     "language": "python",
     "metadata": {},
     "outputs": [
      {
       "output_type": "stream",
       "stream": "stdout",
       "text": [
        "jan is 18 years old\n",
        "universe is 13800000000.0 years old\n",
        "alan is 27 years old\n"
       ]
      }
     ],
     "prompt_number": 254
    },
    {
     "cell_type": "raw",
     "metadata": {},
     "source": [
      "Example: counting digits"
     ]
    },
    {
     "cell_type": "code",
     "collapsed": false,
     "input": [
      "a = \"abcdabcdfdcdcabcabcabcabcabcaaaab\"\n",
      "counter = dict()\n",
      "for ai in a:\n",
      "    if ai not in counter:\n",
      "        counter[ai] = 0\n",
      "    counter[ai] += 1\n",
      "print counter[\"a\"]"
     ],
     "language": "python",
     "metadata": {},
     "outputs": [
      {
       "output_type": "stream",
       "stream": "stdout",
       "text": [
        "11\n"
       ]
      }
     ],
     "prompt_number": 255
    },
    {
     "cell_type": "raw",
     "metadata": {},
     "source": [
      "shorter:"
     ]
    },
    {
     "cell_type": "code",
     "collapsed": false,
     "input": [
      "a = \"abcdabcdfdcdcabcabcabcabcabcaaaab\"\n",
      "counter = dict()\n",
      "for ai in a:\n",
      "    counter[ai] = counter.get(ai, 0) + 1\n",
      "print counter[\"a\"]"
     ],
     "language": "python",
     "metadata": {},
     "outputs": [
      {
       "output_type": "stream",
       "stream": "stdout",
       "text": [
        "11\n"
       ]
      }
     ],
     "prompt_number": 259
    },
    {
     "cell_type": "raw",
     "metadata": {},
     "source": [
      "even shorter:"
     ]
    },
    {
     "cell_type": "code",
     "collapsed": false,
     "input": [
      "from collections import Counter\n",
      "a = \"abcdabcdfdcdcabcabcabcabcabcaaaab\"\n",
      "counter = Counter(a)\n",
      "print counter[\"a\"]"
     ],
     "language": "python",
     "metadata": {},
     "outputs": [
      {
       "output_type": "stream",
       "stream": "stdout",
       "text": [
        "11\n"
       ]
      }
     ],
     "prompt_number": 260
    },
    {
     "cell_type": "heading",
     "level": 3,
     "metadata": {},
     "source": [
      "Python collections: sets"
     ]
    },
    {
     "cell_type": "raw",
     "metadata": {},
     "source": [
      "compared to lists, sets have no order and no duplicate elements. They can be constructed\n",
      "from a list or a tuple:"
     ]
    },
    {
     "cell_type": "code",
     "collapsed": false,
     "input": [
      "a = set((1, 2, 3))\n",
      "b = set([2, 3, 4])\n",
      "print a, b"
     ],
     "language": "python",
     "metadata": {},
     "outputs": [
      {
       "output_type": "stream",
       "stream": "stdout",
       "text": [
        "set([1, 2, 3]) set([2, 3, 4])\n"
       ]
      }
     ],
     "prompt_number": 261
    },
    {
     "cell_type": "raw",
     "metadata": {},
     "source": [
      "set union:"
     ]
    },
    {
     "cell_type": "code",
     "collapsed": false,
     "input": [
      "print a | b"
     ],
     "language": "python",
     "metadata": {},
     "outputs": [
      {
       "output_type": "stream",
       "stream": "stdout",
       "text": [
        "set([1, 2, 3, 4])\n"
       ]
      }
     ],
     "prompt_number": 262
    },
    {
     "cell_type": "code",
     "collapsed": false,
     "input": [
      "print a.union(b)"
     ],
     "language": "python",
     "metadata": {},
     "outputs": [
      {
       "output_type": "stream",
       "stream": "stdout",
       "text": [
        "set([1, 2, 3, 4])\n"
       ]
      }
     ],
     "prompt_number": 264
    },
    {
     "cell_type": "raw",
     "metadata": {},
     "source": [
      "set intersection"
     ]
    },
    {
     "cell_type": "code",
     "collapsed": false,
     "input": [
      "print a & b"
     ],
     "language": "python",
     "metadata": {},
     "outputs": [
      {
       "output_type": "stream",
       "stream": "stdout",
       "text": [
        "set([2, 3])\n"
       ]
      }
     ],
     "prompt_number": 263
    },
    {
     "cell_type": "code",
     "collapsed": false,
     "input": [
      "print a.intersection(b)"
     ],
     "language": "python",
     "metadata": {},
     "outputs": [
      {
       "output_type": "stream",
       "stream": "stdout",
       "text": [
        "set([2, 3])\n"
       ]
      }
     ],
     "prompt_number": 265
    },
    {
     "cell_type": "raw",
     "metadata": {},
     "source": [
      "set difference:"
     ]
    },
    {
     "cell_type": "code",
     "collapsed": false,
     "input": [
      "print a - b"
     ],
     "language": "python",
     "metadata": {},
     "outputs": [
      {
       "output_type": "stream",
       "stream": "stdout",
       "text": [
        "set([1])\n"
       ]
      }
     ],
     "prompt_number": 266
    },
    {
     "cell_type": "code",
     "collapsed": false,
     "input": [
      "print a.difference(b)"
     ],
     "language": "python",
     "metadata": {},
     "outputs": [
      {
       "output_type": "stream",
       "stream": "stdout",
       "text": [
        "set([1])\n"
       ]
      }
     ],
     "prompt_number": 267
    },
    {
     "cell_type": "raw",
     "metadata": {},
     "source": [
      "set() is the empty set:"
     ]
    },
    {
     "cell_type": "code",
     "collapsed": false,
     "input": [
      "print type(set()), len(set())"
     ],
     "language": "python",
     "metadata": {},
     "outputs": [
      {
       "output_type": "stream",
       "stream": "stdout",
       "text": [
        "<type 'set'> 0\n"
       ]
      }
     ],
     "prompt_number": 268
    },
    {
     "cell_type": "raw",
     "metadata": {},
     "source": [
      "PRACTICE TIME:\n",
      "\n",
      "1. Enter and try to understand:\n",
      "    a = \"abcdabcdfdcdcabcabcabcabcabcaaaab\"\n",
      "    counter = dict()\n",
      "    for ai in a:\n",
      "        print \"ai=\", ai\n",
      "        counter[ai] = counter.get(ai, 0) + 1\n",
      "        print \"counter=\", counter\n",
      "\n",
      "2. Write a one line expression which counts the unique elements in a given list [1, 3, 1, 2, 7, 3, 2]\n",
      "\n",
      "3. Write a script which transforms a given string by replacing a->x e->y e->z o->j u->q\n",
      "   Use a dictionary. Hint: first create a list then use strings join  method !"
     ]
    },
    {
     "cell_type": "heading",
     "level": 3,
     "metadata": {},
     "source": [
      "Collections in collections"
     ]
    },
    {
     "cell_type": "raw",
     "metadata": {},
     "source": [
      "As everything in Python is an \"object\" and the proposed collection types group\n",
      "all kinds of \"objects\", one can deeply nest collections:"
     ]
    },
    {
     "cell_type": "code",
     "collapsed": false,
     "input": [
      "a = [1, [2,3], (3, 4, 5), \"abc\", { 3: 4 }]\n",
      "for ai in a:\n",
      "    print ai"
     ],
     "language": "python",
     "metadata": {},
     "outputs": [
      {
       "output_type": "stream",
       "stream": "stdout",
       "text": [
        "1\n",
        "[2, 3]\n",
        "(3, 4, 5)\n",
        "abc\n",
        "{3: 4}\n"
       ]
      }
     ],
     "prompt_number": 269
    },
    {
     "cell_type": "code",
     "collapsed": false,
     "input": [
      "a[1].append(4)\n",
      "print a"
     ],
     "language": "python",
     "metadata": {},
     "outputs": [
      {
       "output_type": "stream",
       "stream": "stdout",
       "text": [
        "[1, [2, 3, 4], (3, 4, 5), 'abc', {3: 4}]\n"
       ]
      }
     ],
     "prompt_number": 270
    },
    {
     "cell_type": "code",
     "collapsed": false,
     "input": [
      "numbers = { \"even\": [2, 4, 6], \"odd\": [1, 3, 5] }"
     ],
     "language": "python",
     "metadata": {},
     "outputs": [],
     "prompt_number": 271
    },
    {
     "cell_type": "code",
     "collapsed": false,
     "input": [
      "print numbers[\"even\"][0]"
     ],
     "language": "python",
     "metadata": {},
     "outputs": [
      {
       "output_type": "stream",
       "stream": "stdout",
       "text": [
        "2\n"
       ]
      }
     ],
     "prompt_number": 272
    },
    {
     "cell_type": "heading",
     "level": 3,
     "metadata": {},
     "source": [
      "Restrictions for collections in collections"
     ]
    },
    {
     "cell_type": "raw",
     "metadata": {},
     "source": [
      "Keys in dictionaries and items in sets must be \"hashable\". We will not discuss this deeper, but\n",
      "remenber \"lists are not hashable\". So the following statements fails:"
     ]
    },
    {
     "cell_type": "code",
     "collapsed": false,
     "input": [
      "a = { [1,2] : 2 }"
     ],
     "language": "python",
     "metadata": {},
     "outputs": [
      {
       "ename": "TypeError",
       "evalue": "unhashable type: 'list'",
       "output_type": "pyerr",
       "traceback": [
        "\u001b[1;31m---------------------------------------------------------------------------\u001b[0m\n\u001b[1;31mTypeError\u001b[0m                                 Traceback (most recent call last)",
        "\u001b[1;32m<ipython-input-273-2d0cf91d660b>\u001b[0m in \u001b[0;36m<module>\u001b[1;34m()\u001b[0m\n\u001b[1;32m----> 1\u001b[1;33m \u001b[0ma\u001b[0m \u001b[1;33m=\u001b[0m \u001b[1;33m{\u001b[0m \u001b[1;33m[\u001b[0m\u001b[1;36m1\u001b[0m\u001b[1;33m,\u001b[0m\u001b[1;36m2\u001b[0m\u001b[1;33m]\u001b[0m \u001b[1;33m:\u001b[0m \u001b[1;36m2\u001b[0m \u001b[1;33m}\u001b[0m\u001b[1;33m\u001b[0m\u001b[0m\n\u001b[0m",
        "\u001b[1;31mTypeError\u001b[0m: unhashable type: 'list'"
       ]
      }
     ],
     "prompt_number": 273
    },
    {
     "cell_type": "code",
     "collapsed": false,
     "input": [
      "a = set()\n",
      "a.add([1, 2])"
     ],
     "language": "python",
     "metadata": {},
     "outputs": [
      {
       "ename": "TypeError",
       "evalue": "unhashable type: 'list'",
       "output_type": "pyerr",
       "traceback": [
        "\u001b[1;31m---------------------------------------------------------------------------\u001b[0m\n\u001b[1;31mTypeError\u001b[0m                                 Traceback (most recent call last)",
        "\u001b[1;32m<ipython-input-274-d58d292c1821>\u001b[0m in \u001b[0;36m<module>\u001b[1;34m()\u001b[0m\n\u001b[0;32m      1\u001b[0m \u001b[0ma\u001b[0m \u001b[1;33m=\u001b[0m \u001b[0mset\u001b[0m\u001b[1;33m(\u001b[0m\u001b[1;33m)\u001b[0m\u001b[1;33m\u001b[0m\u001b[0m\n\u001b[1;32m----> 2\u001b[1;33m \u001b[0ma\u001b[0m\u001b[1;33m.\u001b[0m\u001b[0madd\u001b[0m\u001b[1;33m(\u001b[0m\u001b[1;33m[\u001b[0m\u001b[1;36m1\u001b[0m\u001b[1;33m,\u001b[0m \u001b[1;36m2\u001b[0m\u001b[1;33m]\u001b[0m\u001b[1;33m)\u001b[0m\u001b[1;33m\u001b[0m\u001b[0m\n\u001b[0m",
        "\u001b[1;31mTypeError\u001b[0m: unhashable type: 'list'"
       ]
      }
     ],
     "prompt_number": 274
    },
    {
     "cell_type": "heading",
     "level": 3,
     "metadata": {},
     "source": [
      "List comprehensions"
     ]
    },
    {
     "cell_type": "raw",
     "metadata": {},
     "source": [
      "Python has a powerful construct which is similar to the math notation { f(x) | x \\in A and p(x) }:\n",
      "\n",
      "Create a list with values 3*0 ... 3*9:"
     ]
    },
    {
     "cell_type": "code",
     "collapsed": false,
     "input": [
      "values = [3 * a for a in range(10)]\n",
      "print values"
     ],
     "language": "python",
     "metadata": {},
     "outputs": [
      {
       "output_type": "stream",
       "stream": "stdout",
       "text": [
        "[0, 3, 6, 9, 12, 15, 18, 21, 24, 27]\n"
       ]
      }
     ],
     "prompt_number": 275
    },
    {
     "cell_type": "raw",
     "metadata": {},
     "source": [
      "Another example:"
     ]
    },
    {
     "cell_type": "code",
     "collapsed": false,
     "input": [
      "print [3*i for i in values if i % 7 == 6]"
     ],
     "language": "python",
     "metadata": {},
     "outputs": [
      {
       "output_type": "stream",
       "stream": "stdout",
       "text": [
        "[18, 81]\n"
       ]
      }
     ],
     "prompt_number": 276
    },
    {
     "cell_type": "raw",
     "metadata": {},
     "source": [
      "\n",
      "This replaces 90% of all loops and is very readable ! \n"
     ]
    },
    {
     "cell_type": "raw",
     "metadata": {},
     "source": [
      "PRACTICE:\n",
      "\n",
      "1. for a given list of numbers [ai] write a list comprehension for computing numbers [2*ai+1],\n",
      "   eg [2, 3, 4] -> [5, 7, 9]\n",
      "\n",
      "2. Use list a nested comprehension for computing [ [1, 2, 3], [2, 4, 6], [3, 6, 9]]"
     ]
    },
    {
     "cell_type": "heading",
     "level": 3,
     "metadata": {},
     "source": [
      "FUNCTIONS"
     ]
    },
    {
     "cell_type": "raw",
     "metadata": {},
     "source": [
      "In Python \"def\" declares a function:"
     ]
    },
    {
     "cell_type": "code",
     "collapsed": false,
     "input": [
      "def add(a, b, c):\n",
      "    return a + b + c"
     ],
     "language": "python",
     "metadata": {},
     "outputs": [],
     "prompt_number": 277
    },
    {
     "cell_type": "code",
     "collapsed": false,
     "input": [
      "print add(1, 2, 3)"
     ],
     "language": "python",
     "metadata": {},
     "outputs": [
      {
       "output_type": "stream",
       "stream": "stdout",
       "text": [
        "6\n"
       ]
      }
     ],
     "prompt_number": 278
    },
    {
     "cell_type": "raw",
     "metadata": {},
     "source": [
      "But arguments are not typed. The function works if \"+\" is somehow defined:"
     ]
    },
    {
     "cell_type": "code",
     "collapsed": false,
     "input": [
      "print add(\"a\", \"bc\", \"def\")"
     ],
     "language": "python",
     "metadata": {},
     "outputs": [
      {
       "output_type": "stream",
       "stream": "stdout",
       "text": [
        "abcdef\n"
       ]
      }
     ],
     "prompt_number": 279
    },
    {
     "cell_type": "raw",
     "metadata": {},
     "source": [
      "This one fails, because 1 + \"a\" + 3 is not defined:"
     ]
    },
    {
     "cell_type": "code",
     "collapsed": false,
     "input": [
      "print add(1, \"a\", 3)"
     ],
     "language": "python",
     "metadata": {},
     "outputs": [
      {
       "ename": "TypeError",
       "evalue": "unsupported operand type(s) for +: 'int' and 'str'",
       "output_type": "pyerr",
       "traceback": [
        "\u001b[1;31m---------------------------------------------------------------------------\u001b[0m\n\u001b[1;31mTypeError\u001b[0m                                 Traceback (most recent call last)",
        "\u001b[1;32m<ipython-input-280-1120d14149a2>\u001b[0m in \u001b[0;36m<module>\u001b[1;34m()\u001b[0m\n\u001b[1;32m----> 1\u001b[1;33m \u001b[1;32mprint\u001b[0m \u001b[0madd\u001b[0m\u001b[1;33m(\u001b[0m\u001b[1;36m1\u001b[0m\u001b[1;33m,\u001b[0m \u001b[1;34m\"a\"\u001b[0m\u001b[1;33m,\u001b[0m \u001b[1;36m3\u001b[0m\u001b[1;33m)\u001b[0m\u001b[1;33m\u001b[0m\u001b[0m\n\u001b[0m",
        "\u001b[1;32m<ipython-input-277-d3a5ee10ec2c>\u001b[0m in \u001b[0;36madd\u001b[1;34m(a, b, c)\u001b[0m\n\u001b[0;32m      1\u001b[0m \u001b[1;32mdef\u001b[0m \u001b[0madd\u001b[0m\u001b[1;33m(\u001b[0m\u001b[0ma\u001b[0m\u001b[1;33m,\u001b[0m \u001b[0mb\u001b[0m\u001b[1;33m,\u001b[0m \u001b[0mc\u001b[0m\u001b[1;33m)\u001b[0m\u001b[1;33m:\u001b[0m\u001b[1;33m\u001b[0m\u001b[0m\n\u001b[1;32m----> 2\u001b[1;33m     \u001b[1;32mreturn\u001b[0m \u001b[0ma\u001b[0m \u001b[1;33m+\u001b[0m \u001b[0mb\u001b[0m \u001b[1;33m+\u001b[0m \u001b[0mc\u001b[0m\u001b[1;33m\u001b[0m\u001b[0m\n\u001b[0m",
        "\u001b[1;31mTypeError\u001b[0m: unsupported operand type(s) for +: 'int' and 'str'"
       ]
      }
     ],
     "prompt_number": 280
    },
    {
     "cell_type": "raw",
     "metadata": {},
     "source": [
      "For mixed types:"
     ]
    },
    {
     "cell_type": "code",
     "collapsed": false,
     "input": [
      "def mul(a, b):\n",
      "    return a * b"
     ],
     "language": "python",
     "metadata": {},
     "outputs": [],
     "prompt_number": 281
    },
    {
     "cell_type": "code",
     "collapsed": false,
     "input": [
      "print mul(3, 4)"
     ],
     "language": "python",
     "metadata": {},
     "outputs": [
      {
       "output_type": "stream",
       "stream": "stdout",
       "text": [
        "12\n"
       ]
      }
     ],
     "prompt_number": 282
    },
    {
     "cell_type": "code",
     "collapsed": false,
     "input": [
      "print mul(3, \"abc\")"
     ],
     "language": "python",
     "metadata": {},
     "outputs": [
      {
       "output_type": "stream",
       "stream": "stdout",
       "text": [
        "abcabcabc\n"
       ]
      }
     ],
     "prompt_number": 283
    },
    {
     "cell_type": "heading",
     "level": 4,
     "metadata": {},
     "source": [
      "Keyword arguments"
     ]
    },
    {
     "cell_type": "raw",
     "metadata": {},
     "source": [
      "You can arange the arguments when calling a function in arbirary order if you use \"keyword arguments\":"
     ]
    },
    {
     "cell_type": "code",
     "collapsed": false,
     "input": [
      "add(c=1, b=2, a=3)"
     ],
     "language": "python",
     "metadata": {},
     "outputs": [
      {
       "metadata": {},
       "output_type": "pyout",
       "prompt_number": 284,
       "text": [
        "6"
       ]
      }
     ],
     "prompt_number": 284
    },
    {
     "cell_type": "raw",
     "metadata": {},
     "source": [
      "You can mix this, first argument is positional argument, followed by two keyword arguments:"
     ]
    },
    {
     "cell_type": "code",
     "collapsed": false,
     "input": [
      "add(1, c=2, b=3)"
     ],
     "language": "python",
     "metadata": {},
     "outputs": [
      {
       "metadata": {},
       "output_type": "pyout",
       "prompt_number": 285,
       "text": [
        "6"
       ]
      }
     ],
     "prompt_number": 285
    },
    {
     "cell_type": "raw",
     "metadata": {},
     "source": [
      "But this fails:"
     ]
    },
    {
     "cell_type": "code",
     "collapsed": false,
     "input": [
      "add(a=2, b=3, 3)"
     ],
     "language": "python",
     "metadata": {},
     "outputs": [
      {
       "ename": "SyntaxError",
       "evalue": "non-keyword arg after keyword arg (<ipython-input-286-dd0fb32a1ea6>, line 1)",
       "output_type": "pyerr",
       "traceback": [
        "\u001b[1;36m  File \u001b[1;32m\"<ipython-input-286-dd0fb32a1ea6>\"\u001b[1;36m, line \u001b[1;32m1\u001b[0m\n\u001b[1;33m    add(a=2, b=3, 3)\u001b[0m\n\u001b[1;31mSyntaxError\u001b[0m\u001b[1;31m:\u001b[0m non-keyword arg after keyword arg\n"
       ]
      }
     ],
     "prompt_number": 286
    },
    {
     "cell_type": "heading",
     "level": 4,
     "metadata": {},
     "source": [
      "Default arguments"
     ]
    },
    {
     "cell_type": "raw",
     "metadata": {},
     "source": [
      "Some arguments may have default values, which are used if you omit them when calling a function:"
     ]
    },
    {
     "cell_type": "code",
     "collapsed": false,
     "input": [
      "def greet(name, salute_with=\"hello\"):\n",
      "    print salute_with, name, \"!\"\n",
      "\n",
      "greet(\"jan\")"
     ],
     "language": "python",
     "metadata": {},
     "outputs": [
      {
       "output_type": "stream",
       "stream": "stdout",
       "text": [
        "hello jan !\n"
       ]
      }
     ],
     "prompt_number": 287
    },
    {
     "cell_type": "code",
     "collapsed": false,
     "input": [
      "greet(\"urs\", \"gruezi\")"
     ],
     "language": "python",
     "metadata": {},
     "outputs": [
      {
       "output_type": "stream",
       "stream": "stdout",
       "text": [
        "gruezi urs !\n"
       ]
      }
     ],
     "prompt_number": 288
    },
    {
     "cell_type": "heading",
     "level": 4,
     "metadata": {},
     "source": [
      "Arbitrary many number of arguments"
     ]
    },
    {
     "cell_type": "raw",
     "metadata": {},
     "source": [
      "If you want to declare a function which takes an arbitrary number of arguments, you can\n",
      "declare the function as follows:"
     ]
    },
    {
     "cell_type": "code",
     "collapsed": false,
     "input": [
      "# arbitrary many arguments:\n",
      "def multiply(v0, *values):\n",
      "    print \"got input arguments\", v0, \"and\", values\n",
      "    product = v0\n",
      "    for v in values:\n",
      "        product *= v\n",
      "    return product\n",
      " \n",
      "print multiply(2, 1, 13, 1)"
     ],
     "language": "python",
     "metadata": {},
     "outputs": [
      {
       "output_type": "stream",
       "stream": "stdout",
       "text": [
        "got input arguments 2 and (1, 13, 1)\n",
        "26\n"
       ]
      }
     ],
     "prompt_number": 289
    },
    {
     "cell_type": "heading",
     "level": 4,
     "metadata": {},
     "source": [
      "Multiple return values"
     ]
    },
    {
     "cell_type": "raw",
     "metadata": {},
     "source": [
      "Thanks to tuples, Python functions can return more than one value:"
     ]
    },
    {
     "cell_type": "code",
     "collapsed": false,
     "input": [
      "def func(a, b, c):\n",
      "    result1 = a + b * c\n",
      "    result2 = a - b / c\n",
      "    return result1, result2"
     ],
     "language": "python",
     "metadata": {},
     "outputs": [],
     "prompt_number": 290
    },
    {
     "cell_type": "raw",
     "metadata": {},
     "source": [
      "Tuple unpacking makes it easy to grab multiple return values:"
     ]
    },
    {
     "cell_type": "code",
     "collapsed": false,
     "input": [
      "r1, r2 = func(1, 2, 3)\n",
      "print r1, r2"
     ],
     "language": "python",
     "metadata": {},
     "outputs": [
      {
       "output_type": "stream",
       "stream": "stdout",
       "text": [
        "7 1\n"
       ]
      }
     ],
     "prompt_number": 291
    },
    {
     "cell_type": "heading",
     "level": 4,
     "metadata": {},
     "source": [
      "Doc strings"
     ]
    },
    {
     "cell_type": "markdown",
     "metadata": {},
     "source": [
      "The first string below a function declaration is called a **doc string**. Calling **help()** on this function will return this string."
     ]
    },
    {
     "cell_type": "code",
     "collapsed": false,
     "input": [
      "def magic(a, b, c):\n",
      "    \"\"\" this function is magic !\n",
      "        it take a, b, c and returns the sum \n",
      "    \"\"\"\n",
      "    return a + b + c"
     ],
     "language": "python",
     "metadata": {},
     "outputs": [],
     "prompt_number": 292
    },
    {
     "cell_type": "code",
     "collapsed": false,
     "input": [
      "help(magic)"
     ],
     "language": "python",
     "metadata": {},
     "outputs": [
      {
       "output_type": "stream",
       "stream": "stdout",
       "text": [
        "Help on function magic in module __main__:\n",
        "\n",
        "magic(a, b, c)\n",
        "    this function is magic !\n",
        "    it take a, b, c and returns the sum\n",
        "\n"
       ]
      }
     ],
     "prompt_number": 293
    },
    {
     "cell_type": "heading",
     "level": 4,
     "metadata": {},
     "source": [
      "Functions are \"objects\" as numbers, lists, ..."
     ]
    },
    {
     "cell_type": "markdown",
     "metadata": {},
     "source": [
      "You can pass a function to a variable:"
     ]
    },
    {
     "cell_type": "code",
     "collapsed": false,
     "input": [
      "new_name = magic\n",
      "print new_name(1, 2, 3)"
     ],
     "language": "python",
     "metadata": {},
     "outputs": [
      {
       "output_type": "stream",
       "stream": "stdout",
       "text": [
        "6\n"
       ]
      }
     ],
     "prompt_number": 294
    },
    {
     "cell_type": "markdown",
     "metadata": {},
     "source": [
      "And you can pass a function as an argument to a function:"
     ]
    },
    {
     "cell_type": "code",
     "collapsed": false,
     "input": [
      "def eval_function(fun, *a):\n",
      "    return fun(*a)\n",
      "\n",
      "print eval_function(set, (1, 2, 3, 4, 5))"
     ],
     "language": "python",
     "metadata": {},
     "outputs": [
      {
       "output_type": "stream",
       "stream": "stdout",
       "text": [
        "set([1, 2, 3, 4, 5])\n"
       ]
      }
     ],
     "prompt_number": 295
    },
    {
     "cell_type": "raw",
     "metadata": {},
     "source": [
      "BE CAREFUL: [] as default argument: (One of the few dark cornes of Python)"
     ]
    },
    {
     "cell_type": "code",
     "collapsed": false,
     "input": [
      "def add(a, li= []):\n",
      "    li.append(a)\n",
      "    return li\n",
      "\n",
      "li = add(3)\n",
      "li2 = add(4)\n",
      "print li"
     ],
     "language": "python",
     "metadata": {},
     "outputs": [
      {
       "output_type": "stream",
       "stream": "stdout",
       "text": [
        "[3, 4]\n"
       ]
      }
     ],
     "prompt_number": 296
    },
    {
     "cell_type": "code",
     "collapsed": false,
     "input": [
      "print li is li2"
     ],
     "language": "python",
     "metadata": {},
     "outputs": [
      {
       "output_type": "stream",
       "stream": "stdout",
       "text": [
        "True\n"
       ]
      }
     ],
     "prompt_number": 297
    },
    {
     "cell_type": "raw",
     "metadata": {},
     "source": [
      "Solution:"
     ]
    },
    {
     "cell_type": "code",
     "collapsed": false,
     "input": [
      "def add(a, li=None):\n",
      "    if li is None:\n",
      "        li = []\n",
      "    li.append(a)\n",
      "    return li\n",
      "\n",
      "li = add(3)\n",
      "li2 = add(4)\n",
      "print li"
     ],
     "language": "python",
     "metadata": {},
     "outputs": [
      {
       "output_type": "stream",
       "stream": "stdout",
       "text": [
        "[3]\n"
       ]
      }
     ],
     "prompt_number": 298
    },
    {
     "cell_type": "code",
     "collapsed": false,
     "input": [
      "print li is li2"
     ],
     "language": "python",
     "metadata": {},
     "outputs": [
      {
       "output_type": "stream",
       "stream": "stdout",
       "text": [
        "False\n"
       ]
      }
     ],
     "prompt_number": 299
    },
    {
     "cell_type": "raw",
     "metadata": {},
     "source": [
      "PRACTICE:\n",
      "\n",
      "1. Write a function which takes a radius of a circle and returns the  circles area\n",
      "\n",
      "2. Write a function which takes two numbers m,n, and returns the sum and the product of 1*1 ... m*n \n",
      "\n",
      "3. Modify this function, so that a missing \"m\" is respected as m=1\n",
      "\n",
      "4. Write a function with arbitrary arguments a1, .. an\n",
      "   which returns a1 * a2 + a2 * a3 + a3 * a4 + ..."
     ]
    },
    {
     "cell_type": "heading",
     "level": 3,
     "metadata": {},
     "source": [
      "CLASSES"
     ]
    },
    {
     "cell_type": "raw",
     "metadata": {},
     "source": [
      "* Objects group values and functions which we call methods in this context.\n",
      "\n",
      "* A class describes how an object is created and defines the methods.\n",
      "\n",
      "* An object is also called \"instance of the class\"."
     ]
    },
    {
     "cell_type": "code",
     "collapsed": false,
     "input": [
      "# first version\n",
      "\n",
      "class SimpleAddress(object):\n",
      "    \n",
      "    \"\"\"This class represents a person living in a \n",
      "       city.\n",
      "    \"\"\"\n",
      "       \n",
      "    def say_hello(self, formula):\n",
      "        \"\"\" greets the person \"\"\"\n",
      "        print formula, self.name, \"from\", self.city\n",
      "\n",
      "# maual setting of attributes:   \n",
      "a = SimpleAddress()\n",
      "a.name = \"tina turner\"\n",
      "a.city = \"z\u00fcrich\"\n",
      "\n",
      "# when calling say_hello 'self' is replaced by 'a':\n",
      "a.say_hello(\"gruezi\")\n",
      "\n",
      "# TODO: insert print statements"
     ],
     "language": "python",
     "metadata": {},
     "outputs": [
      {
       "output_type": "stream",
       "stream": "stdout",
       "text": [
        "gruezi tina turner from z\u00fcrich\n"
       ]
      }
     ],
     "prompt_number": 307
    },
    {
     "cell_type": "code",
     "collapsed": false,
     "input": [
      "class SimpleAddress(object):\n",
      "        \n",
      "    def __init__(self, name, city):\n",
      "        self.name = name\n",
      "        self.city = city\n",
      "       \n",
      "    def say_hello(self, formula):\n",
      "        print formula, self.name, \"from\", self.city\n",
      "\n",
      "# this 'constructs' an instance aa and calls __init__ with self \n",
      "# replaced by a and following arguments \"tina turner\", \"z\u00fcrich\"\n",
      "a = SimpleAddress(\"tina turner\", \"z\u00fcrich\")\n",
      "\n",
      "# when calling say_hello 'self' is replaced by 'a':\n",
      "a.say_hello(\"gruezi\")"
     ],
     "language": "python",
     "metadata": {},
     "outputs": [
      {
       "output_type": "stream",
       "stream": "stdout",
       "text": [
        "gruezi tina turner from z\u00fcrich\n"
       ]
      }
     ],
     "prompt_number": 308
    },
    {
     "cell_type": "raw",
     "metadata": {},
     "source": [
      "* \"self\" is used by convention, you could use \"this\" or anything else\n",
      "\n",
      "* You have to declare this parameter when defining a method\n",
      "\n",
      "* Normally you don't use it when calling the method on a given object"
     ]
    },
    {
     "cell_type": "heading",
     "level": 4,
     "metadata": {},
     "source": [
      "* what is going on ?"
     ]
    },
    {
     "cell_type": "code",
     "collapsed": false,
     "input": [
      "# 1st: methods are attached to the class:\n",
      "print SimpleAddress.say_hello"
     ],
     "language": "python",
     "metadata": {},
     "outputs": [
      {
       "output_type": "stream",
       "stream": "stdout",
       "text": [
        "<unbound method SimpleAddress.say_hello>\n"
       ]
      }
     ],
     "prompt_number": 309
    },
    {
     "cell_type": "code",
     "collapsed": false,
     "input": [
      "print SimpleAddress.__init__"
     ],
     "language": "python",
     "metadata": {},
     "outputs": [
      {
       "output_type": "stream",
       "stream": "stdout",
       "text": [
        "<unbound method SimpleAddress.__init__>\n"
       ]
      }
     ],
     "prompt_number": 311
    },
    {
     "cell_type": "code",
     "collapsed": false,
     "input": [
      "# 2nd: address.say_hello(\"gruezi\") is handled internally as follows:\n",
      "SimpleAddress.say_hello(a, \"gruezi\")"
     ],
     "language": "python",
     "metadata": {},
     "outputs": [
      {
       "output_type": "stream",
       "stream": "stdout",
       "text": [
        "gruezi tina turner from z\u00fcrich\n"
       ]
      }
     ],
     "prompt_number": 312
    },
    {
     "cell_type": "code",
     "collapsed": false,
     "input": [
      "# address = Address(\"tina turner\", \"z\u00fcrich\") is handled as follows:\n",
      "address = SimpleAddress.__new__(Address)\n",
      "SimpleAddress.__init__(a, \"tina turner\", \"z\u00fcrich\")\n",
      "print a.name"
     ],
     "language": "python",
     "metadata": {},
     "outputs": [
      {
       "output_type": "stream",
       "stream": "stdout",
       "text": [
        "tina turner\n"
       ]
      }
     ],
     "prompt_number": 314
    },
    {
     "cell_type": "raw",
     "metadata": {},
     "source": [
      "PRACTICE TIME:\n",
      "\n",
      "Write a class which ..."
     ]
    },
    {
     "cell_type": "heading",
     "level": 3,
     "metadata": {},
     "source": [
      "Overloading operations"
     ]
    },
    {
     "cell_type": "raw",
     "metadata": {},
     "source": [
      "Some methods have a special meaning. We have seen __init__ above.\n",
      "\n",
      "We declare __add__ and __str__ below:"
     ]
    },
    {
     "cell_type": "code",
     "collapsed": false,
     "input": [
      "class Vector3D(object):\n",
      "    \n",
      "    def __init__(self, x, y, z):\n",
      "        self.x = x\n",
      "        self.y = y\n",
      "        self.z = z\n",
      "        \n",
      "    def __add__(self, other):\n",
      "        return Vector3D(self.x + other.x,\n",
      "                        self.y + other.y,\n",
      "                        self.z + other.z)\n",
      "        \n",
      "    def __str__(self):\n",
      "        return \"Vector(%f, %f, %f)\" % (self.x, self.y, self.z)\n",
      "    \n",
      "v1 = Vector3D(1.0, 2.0, 3.0)"
     ],
     "language": "python",
     "metadata": {},
     "outputs": [],
     "prompt_number": 315
    },
    {
     "cell_type": "raw",
     "metadata": {},
     "source": [
      "__str__ defines how an object can be casted / transformed to a string:"
     ]
    },
    {
     "cell_type": "code",
     "collapsed": false,
     "input": [
      "print str(v1)"
     ],
     "language": "python",
     "metadata": {},
     "outputs": [
      {
       "output_type": "stream",
       "stream": "stdout",
       "text": [
        "Vector(1.000000, 2.000000, 3.000000)\n"
       ]
      }
     ],
     "prompt_number": 316
    },
    {
     "cell_type": "raw",
     "metadata": {},
     "source": [
      "This transformation is automatically called when printing an object, so\n",
      "__str__ is a convenient way to return printable information about an object:"
     ]
    },
    {
     "cell_type": "code",
     "collapsed": false,
     "input": [
      "print v1"
     ],
     "language": "python",
     "metadata": {},
     "outputs": [
      {
       "output_type": "stream",
       "stream": "stdout",
       "text": [
        "Vector(1.000000, 2.000000, 3.000000)\n"
       ]
      }
     ],
     "prompt_number": 317
    },
    {
     "cell_type": "raw",
     "metadata": {},
     "source": [
      "Using \"+\" with objects on both sides calls __add__. In the following\n",
      "example __add__ is called with arguments self=v1 and other=v2:"
     ]
    },
    {
     "cell_type": "code",
     "collapsed": false,
     "input": [
      "v2 = Vector3D(2.0, 0.0, -1.0)\n",
      "v3 = v1 + v2\n",
      "print v3"
     ],
     "language": "python",
     "metadata": {},
     "outputs": [
      {
       "output_type": "stream",
       "stream": "stdout",
       "text": [
        "Vector(3.000000, 2.000000, 2.000000)\n"
       ]
      }
     ],
     "prompt_number": 318
    },
    {
     "cell_type": "raw",
     "metadata": {},
     "source": [
      "These were only a few examples, there are may other special methods as __mul__, __len__, __contains__ etc"
     ]
    },
    {
     "cell_type": "raw",
     "metadata": {},
     "source": [
      "PRACTICE TIME\n",
      "\n",
      "1. implement a method Vector.scale which takes a number and scales the vector by this number\n",
      "\n",
      "2. implement a method __mul__ which calculates the dot product of two vectors"
     ]
    },
    {
     "cell_type": "heading",
     "level": 3,
     "metadata": {},
     "source": [
      "* Inheritance"
     ]
    },
    {
     "cell_type": "code",
     "collapsed": false,
     "input": [
      "class Dog(object):\n",
      "    \n",
      "    def __init__(self, name):\n",
      "        # print \"\\n.. this is Dog.__init__, self is\", self\n",
      "        self.name = name\n",
      "        \n",
      "    def greet(self):\n",
      "        # print \"\\n.. this is Dog.greet, self is\", self\n",
      "        print \"hi\", self.name\n",
      "        \n",
      "    def say(self):\n",
      "        # print \"\\n.. this is Dog.say, self is\", self\n",
      "        print \"barf\"\n",
      "          \n",
      "d = Dog(\"hasso\")\n",
      "d.greet()\n",
      "d.say()    "
     ],
     "language": "python",
     "metadata": {},
     "outputs": [
      {
       "output_type": "stream",
       "stream": "stdout",
       "text": [
        "hi hasso\n",
        "barf\n"
       ]
      }
     ],
     "prompt_number": 319
    },
    {
     "cell_type": "code",
     "collapsed": false,
     "input": [
      "class SuperDog(Dog):\n",
      "    \n",
      "    def __init__(self):\n",
      "        #print \"\\n.. this is SuperDog.__init__, self is\", self\n",
      "        super(SuperDog, self).__init__(\"fifi\")\n",
      "    \n",
      "    def say(self): \n",
      "        #print \"\\n.. this is SuperDog.say, self is\", self\n",
      "        print \"BARF !!!\"\n",
      "        \n",
      "sd = SuperDog()\n",
      "sd.greet()\n",
      "sd.say()"
     ],
     "language": "python",
     "metadata": {},
     "outputs": [
      {
       "output_type": "stream",
       "stream": "stdout",
       "text": [
        "hi fifi\n",
        "BARF !!!\n"
       ]
      }
     ],
     "prompt_number": 320
    },
    {
     "cell_type": "heading",
     "level": 3,
     "metadata": {},
     "source": [
      "File I/O"
     ]
    },
    {
     "cell_type": "raw",
     "metadata": {},
     "source": [
      "The following exaple opens a file for writing:"
     ]
    },
    {
     "cell_type": "code",
     "collapsed": false,
     "input": [
      "fp = open(\"text.txt\", \"w\")\n",
      "print type(fp)"
     ],
     "language": "python",
     "metadata": {},
     "outputs": [
      {
       "output_type": "stream",
       "stream": "stdout",
       "text": [
        "<type 'file'>\n"
       ]
      }
     ],
     "prompt_number": 321
    },
    {
     "cell_type": "raw",
     "metadata": {},
     "source": [
      "So \"fp\" is an instance of class file. There are a two ways to write to this file:"
     ]
    },
    {
     "cell_type": "code",
     "collapsed": false,
     "input": [
      "fp.write(\"line 1\\n\")\n",
      "print >> fp, \"line 2\"\n",
      "fp.close()"
     ],
     "language": "python",
     "metadata": {},
     "outputs": [],
     "prompt_number": 322
    },
    {
     "cell_type": "raw",
     "metadata": {},
     "source": [
      "Reading the full content of a file is done by calling \"read\" on the file object:"
     ]
    },
    {
     "cell_type": "code",
     "collapsed": false,
     "input": [
      "print open(\"text.txt\", \"r\").read()"
     ],
     "language": "python",
     "metadata": {},
     "outputs": [
      {
       "output_type": "stream",
       "stream": "stdout",
       "text": [
        "line 1\n",
        "line 2\n",
        "\n"
       ]
      }
     ],
     "prompt_number": 324
    },
    {
     "cell_type": "raw",
     "metadata": {},
     "source": [
      "Calling \"readlines\" on the file object returns a list containing the separate lines of the file:"
     ]
    },
    {
     "cell_type": "code",
     "collapsed": false,
     "input": [
      "print open(\"text.txt\", \"r\").readlines()"
     ],
     "language": "python",
     "metadata": {},
     "outputs": [
      {
       "output_type": "stream",
       "stream": "stdout",
       "text": [
        "['line 1\\n', 'line 2\\n']\n"
       ]
      }
     ],
     "prompt_number": 325
    },
    {
     "cell_type": "raw",
     "metadata": {},
     "source": [
      "Iterating over a file instance works:"
     ]
    },
    {
     "cell_type": "code",
     "collapsed": false,
     "input": [
      "for line in open(\"text.txt\", \"r\"):\n",
      "    print repr(line)"
     ],
     "language": "python",
     "metadata": {},
     "outputs": [
      {
       "output_type": "stream",
       "stream": "stdout",
       "text": [
        "'line 1\\n'\n",
        "'line 2\\n'\n"
       ]
      }
     ],
     "prompt_number": 326
    },
    {
     "cell_type": "code",
     "collapsed": false,
     "input": [
      "# use enumeration\n",
      "for (i, line) in enumerate(open(\"text.txt\", \"r\")):  # tuple unpacking\n",
      "    print \"line\", i, \"is\", repr(line)"
     ],
     "language": "python",
     "metadata": {},
     "outputs": [
      {
       "output_type": "stream",
       "stream": "stdout",
       "text": [
        "line 0 is 'line 1\\n'\n",
        "line 1 is 'line 2\\n'\n"
       ]
      }
     ],
     "prompt_number": 327
    },
    {
     "cell_type": "raw",
     "metadata": {},
     "source": [
      "PRACTICE TIME\n",
      "\n",
      "iterate over all files with extension \"*.py\" in a given directory and\n",
      "print for each file the number of lines in this file.\n",
      "provide an overall sum at the end.\n",
      "HINT: \"import glob\"\n"
     ]
    },
    {
     "cell_type": "heading",
     "level": 3,
     "metadata": {},
     "source": [
      "    Exceptions"
     ]
    },
    {
     "cell_type": "raw",
     "metadata": {},
     "source": [
      "We already know some an exception:"
     ]
    },
    {
     "cell_type": "code",
     "collapsed": false,
     "input": [
      "print 1/0"
     ],
     "language": "python",
     "metadata": {},
     "outputs": [
      {
       "ename": "ZeroDivisionError",
       "evalue": "integer division or modulo by zero",
       "output_type": "pyerr",
       "traceback": [
        "\u001b[1;31m---------------------------------------------------------------------------\u001b[0m\n\u001b[1;31mZeroDivisionError\u001b[0m                         Traceback (most recent call last)",
        "\u001b[1;32m<ipython-input-328-e19d6e6ac7e1>\u001b[0m in \u001b[0;36m<module>\u001b[1;34m()\u001b[0m\n\u001b[1;32m----> 1\u001b[1;33m \u001b[1;32mprint\u001b[0m \u001b[1;36m1\u001b[0m\u001b[1;33m/\u001b[0m\u001b[1;36m0\u001b[0m\u001b[1;33m\u001b[0m\u001b[0m\n\u001b[0m",
        "\u001b[1;31mZeroDivisionError\u001b[0m: integer division or modulo by zero"
       ]
      }
     ],
     "prompt_number": 328
    },
    {
     "cell_type": "raw",
     "metadata": {},
     "source": [
      "On can raise this exception in a controlled way:"
     ]
    },
    {
     "cell_type": "code",
     "collapsed": false,
     "input": [
      "raise ZeroDivisionError(\"this is some extra information which is printed below\")"
     ],
     "language": "python",
     "metadata": {},
     "outputs": [
      {
       "ename": "ZeroDivisionError",
       "evalue": "this is some extra information which is printed below",
       "output_type": "pyerr",
       "traceback": [
        "\u001b[1;31m---------------------------------------------------------------------------\u001b[0m\n\u001b[1;31mZeroDivisionError\u001b[0m                         Traceback (most recent call last)",
        "\u001b[1;32m<ipython-input-329-0913c8b046b9>\u001b[0m in \u001b[0;36m<module>\u001b[1;34m()\u001b[0m\n\u001b[1;32m----> 1\u001b[1;33m \u001b[1;32mraise\u001b[0m \u001b[0mZeroDivisionError\u001b[0m\u001b[1;33m(\u001b[0m\u001b[1;34m\"this is some extra information which is printed below\"\u001b[0m\u001b[1;33m)\u001b[0m\u001b[1;33m\u001b[0m\u001b[0m\n\u001b[0m",
        "\u001b[1;31mZeroDivisionError\u001b[0m: this is some extra information which is printed below"
       ]
      }
     ],
     "prompt_number": 329
    },
    {
     "cell_type": "raw",
     "metadata": {},
     "source": [
      "On can catch exceptions and handle them."
     ]
    },
    {
     "cell_type": "code",
     "collapsed": false,
     "input": [
      "int(\"abc\")"
     ],
     "language": "python",
     "metadata": {},
     "outputs": [
      {
       "ename": "ValueError",
       "evalue": "invalid literal for int() with base 10: 'abc'",
       "output_type": "pyerr",
       "traceback": [
        "\u001b[1;31m---------------------------------------------------------------------------\u001b[0m\n\u001b[1;31mValueError\u001b[0m                                Traceback (most recent call last)",
        "\u001b[1;32m<ipython-input-330-908f2fe4faa4>\u001b[0m in \u001b[0;36m<module>\u001b[1;34m()\u001b[0m\n\u001b[1;32m----> 1\u001b[1;33m \u001b[0mint\u001b[0m\u001b[1;33m(\u001b[0m\u001b[1;34m\"abc\"\u001b[0m\u001b[1;33m)\u001b[0m\u001b[1;33m\u001b[0m\u001b[0m\n\u001b[0m",
        "\u001b[1;31mValueError\u001b[0m: invalid literal for int() with base 10: 'abc'"
       ]
      }
     ],
     "prompt_number": 330
    },
    {
     "cell_type": "code",
     "collapsed": false,
     "input": [
      "try:\n",
      "    int(\"abc\")\n",
      "except ValueError:\n",
      "    print '\"abc\" is not a valid number'\n",
      "    "
     ],
     "language": "python",
     "metadata": {},
     "outputs": [
      {
       "output_type": "stream",
       "stream": "stdout",
       "text": [
        "\"abc\" is not a valid number\n"
       ]
      }
     ],
     "prompt_number": 331
    },
    {
     "cell_type": "raw",
     "metadata": {},
     "source": [
      "Exceptions avoid encoding errors in function return values. The user of a function can decide at which level an error is handled..."
     ]
    },
    {
     "cell_type": "code",
     "collapsed": false,
     "input": [
      "def divide(a, b):\n",
      "    return a / b\n",
      "\n",
      "def secure_divide(a, b):\n",
      "    try:\n",
      "        result = divide(a, b)\n",
      "    except:\n",
      "        result = None\n",
      "    return result\n",
      "\n",
      "print secure_divide(12, 4), secure_divide(3, 0)"
     ],
     "language": "python",
     "metadata": {},
     "outputs": [
      {
       "output_type": "stream",
       "stream": "stdout",
       "text": [
        "3 None\n"
       ]
      }
     ],
     "prompt_number": 332
    },
    {
     "cell_type": "heading",
     "level": 3,
     "metadata": {},
     "source": [
      "Write you own module"
     ]
    },
    {
     "cell_type": "code",
     "collapsed": false,
     "input": [
      "# save the example above in a file \"secure_math.py\"\n",
      "import secure_math\n",
      "print secure_math.secure_divide(12, 4)"
     ],
     "language": "python",
     "metadata": {},
     "outputs": [
      {
       "ename": "ImportError",
       "evalue": "No module named secure_math",
       "output_type": "pyerr",
       "traceback": [
        "\u001b[1;31m---------------------------------------------------------------------------\u001b[0m\n\u001b[1;31mImportError\u001b[0m                               Traceback (most recent call last)",
        "\u001b[1;32m<ipython-input-333-9168c65284b5>\u001b[0m in \u001b[0;36m<module>\u001b[1;34m()\u001b[0m\n\u001b[0;32m      1\u001b[0m \u001b[1;31m# save the example above in a file \"secure_math.py\"\u001b[0m\u001b[1;33m\u001b[0m\u001b[1;33m\u001b[0m\u001b[0m\n\u001b[1;32m----> 2\u001b[1;33m \u001b[1;32mimport\u001b[0m \u001b[0msecure_math\u001b[0m\u001b[1;33m\u001b[0m\u001b[0m\n\u001b[0m\u001b[0;32m      3\u001b[0m \u001b[1;32mprint\u001b[0m \u001b[0msecure_math\u001b[0m\u001b[1;33m.\u001b[0m\u001b[0msecure_divide\u001b[0m\u001b[1;33m(\u001b[0m\u001b[1;36m12\u001b[0m\u001b[1;33m,\u001b[0m \u001b[1;36m4\u001b[0m\u001b[1;33m)\u001b[0m\u001b[1;33m\u001b[0m\u001b[0m\n",
        "\u001b[1;31mImportError\u001b[0m: No module named secure_math"
       ]
      }
     ],
     "prompt_number": 333
    },
    {
     "cell_type": "raw",
     "metadata": {},
     "source": [
      "TOPICS NOT COVERED\n",
      "\n",
      " * generators\n",
      " * decorators\n",
      " * module packages\n",
      " * package installation"
     ]
    },
    {
     "cell_type": "code",
     "collapsed": false,
     "input": [
      "!pip install requests"
     ],
     "language": "python",
     "metadata": {},
     "outputs": [
      {
       "output_type": "stream",
       "stream": "stdout",
       "text": [
        "Requirement already satisfied (use --upgrade to upgrade): requests in /home/uweschmitt/python_kurs/lib/python2.7/site-packages\r\n",
        "Cleaning up...\r\n"
       ]
      }
     ],
     "prompt_number": 334
    },
    {
     "cell_type": "code",
     "collapsed": false,
     "input": [
      "import requests\n",
      "print requests.get(\"http://telize.com/jsonip\").json()"
     ],
     "language": "python",
     "metadata": {},
     "outputs": [
      {
       "output_type": "stream",
       "stream": "stdout",
       "text": [
        "{u'ip': u'188.97.232.201'}\n"
       ]
      }
     ],
     "prompt_number": 337
    },
    {
     "cell_type": "heading",
     "level": 2,
     "metadata": {},
     "source": [
      "numpy = container types for vectors, matrices and n-th order tensors"
     ]
    },
    {
     "cell_type": "heading",
     "level": 3,
     "metadata": {},
     "source": [
      "Vectors"
     ]
    },
    {
     "cell_type": "code",
     "collapsed": false,
     "input": [
      "import numpy as np\n",
      "x = np.array((1.0, 2, 3))"
     ],
     "language": "python",
     "metadata": {},
     "outputs": [],
     "prompt_number": 345
    },
    {
     "cell_type": "code",
     "collapsed": false,
     "input": [
      "print x"
     ],
     "language": "python",
     "metadata": {},
     "outputs": [
      {
       "output_type": "stream",
       "stream": "stdout",
       "text": [
        "[ 1.  2.  3.]\n"
       ]
      }
     ],
     "prompt_number": 346
    },
    {
     "cell_type": "raw",
     "metadata": {},
     "source": [
      "An numpy array has a common type of all elements:"
     ]
    },
    {
     "cell_type": "code",
     "collapsed": false,
     "input": [
      "print x.dtype"
     ],
     "language": "python",
     "metadata": {},
     "outputs": [
      {
       "output_type": "stream",
       "stream": "stdout",
       "text": [
        "float64\n"
       ]
      }
     ],
     "prompt_number": 347
    },
    {
     "cell_type": "code",
     "collapsed": false,
     "input": [
      "# indexing and slicing\n",
      "print x[0], x[::2]"
     ],
     "language": "python",
     "metadata": {},
     "outputs": [
      {
       "output_type": "stream",
       "stream": "stdout",
       "text": [
        "1.0 [ 1.  3.]\n"
       ]
      }
     ],
     "prompt_number": 348
    },
    {
     "cell_type": "code",
     "collapsed": false,
     "input": [
      "# assignment:\n",
      "x[::2] += 1\n",
      "print x"
     ],
     "language": "python",
     "metadata": {},
     "outputs": [
      {
       "output_type": "stream",
       "stream": "stdout",
       "text": [
        "[ 2.  2.  4.]\n"
       ]
      }
     ],
     "prompt_number": 349
    },
    {
     "cell_type": "code",
     "collapsed": false,
     "input": [
      "print 2 * x + x"
     ],
     "language": "python",
     "metadata": {},
     "outputs": [
      {
       "output_type": "stream",
       "stream": "stdout",
       "text": [
        "[  6.   6.  12.]\n"
       ]
      }
     ],
     "prompt_number": 350
    },
    {
     "cell_type": "code",
     "collapsed": false,
     "input": [
      "print x * x"
     ],
     "language": "python",
     "metadata": {},
     "outputs": [
      {
       "output_type": "stream",
       "stream": "stdout",
       "text": [
        "[  4.   4.  16.]\n"
       ]
      }
     ],
     "prompt_number": 351
    },
    {
     "cell_type": "code",
     "collapsed": false,
     "input": [
      "print np.dot(x, x)"
     ],
     "language": "python",
     "metadata": {},
     "outputs": [
      {
       "output_type": "stream",
       "stream": "stdout",
       "text": [
        "24.0\n"
       ]
      }
     ],
     "prompt_number": 352
    },
    {
     "cell_type": "code",
     "collapsed": false,
     "input": [
      "print np.sin(x)"
     ],
     "language": "python",
     "metadata": {},
     "outputs": [
      {
       "output_type": "stream",
       "stream": "stdout",
       "text": [
        "[ 0.90929743  0.90929743 -0.7568025 ]\n"
       ]
      }
     ],
     "prompt_number": 353
    },
    {
     "cell_type": "code",
     "collapsed": false,
     "input": [
      "print x.shape"
     ],
     "language": "python",
     "metadata": {},
     "outputs": [
      {
       "output_type": "stream",
       "stream": "stdout",
       "text": [
        "(3,)\n"
       ]
      }
     ],
     "prompt_number": 354
    },
    {
     "cell_type": "heading",
     "level": 4,
     "metadata": {},
     "source": [
      "Special vector creation"
     ]
    },
    {
     "cell_type": "code",
     "collapsed": false,
     "input": [
      "# range with known stepsize 0.3\n",
      "np.arange(0, 2, 0.3)"
     ],
     "language": "python",
     "metadata": {},
     "outputs": [
      {
       "metadata": {},
       "output_type": "pyout",
       "prompt_number": 355,
       "text": [
        "array([ 0. ,  0.3,  0.6,  0.9,  1.2,  1.5,  1.8])"
       ]
      }
     ],
     "prompt_number": 355
    },
    {
     "cell_type": "code",
     "collapsed": false,
     "input": [
      "# range with known number of points\n",
      "np.linspace(0, np.pi, 10)"
     ],
     "language": "python",
     "metadata": {},
     "outputs": [
      {
       "metadata": {},
       "output_type": "pyout",
       "prompt_number": 356,
       "text": [
        "array([ 0.        ,  0.34906585,  0.6981317 ,  1.04719755,  1.3962634 ,\n",
        "        1.74532925,  2.0943951 ,  2.44346095,  2.7925268 ,  3.14159265])"
       ]
      }
     ],
     "prompt_number": 356
    },
    {
     "cell_type": "heading",
     "level": 4,
     "metadata": {},
     "source": [
      "Matrices"
     ]
    },
    {
     "cell_type": "code",
     "collapsed": false,
     "input": [
      "mat = np.array(((1, 2, 3), (2, 3, 4)), dtype=np.float)"
     ],
     "language": "python",
     "metadata": {},
     "outputs": [],
     "prompt_number": 369
    },
    {
     "cell_type": "code",
     "collapsed": false,
     "input": [
      "print mat"
     ],
     "language": "python",
     "metadata": {},
     "outputs": [
      {
       "output_type": "stream",
       "stream": "stdout",
       "text": [
        "[[ 1.  2.  3.]\n",
        " [ 2.  3.  4.]]\n"
       ]
      }
     ],
     "prompt_number": 370
    },
    {
     "cell_type": "code",
     "collapsed": false,
     "input": [
      "print mat.shape"
     ],
     "language": "python",
     "metadata": {},
     "outputs": [
      {
       "output_type": "stream",
       "stream": "stdout",
       "text": [
        "(2, 3)\n"
       ]
      }
     ],
     "prompt_number": 371
    },
    {
     "cell_type": "raw",
     "metadata": {},
     "source": [
      "\"*\" is element wise, not \"matrix multiplication\":"
     ]
    },
    {
     "cell_type": "code",
     "collapsed": false,
     "input": [
      " mat * mat"
     ],
     "language": "python",
     "metadata": {},
     "outputs": [
      {
       "metadata": {},
       "output_type": "pyout",
       "prompt_number": 372,
       "text": [
        "array([[  1.,   4.,   9.],\n",
        "       [  4.,   9.,  16.]])"
       ]
      }
     ],
     "prompt_number": 372
    },
    {
     "cell_type": "raw",
     "metadata": {},
     "source": [
      "np.dot is matrix x vector multiplication, aka \"inner product\":"
     ]
    },
    {
     "cell_type": "code",
     "collapsed": false,
     "input": [
      "np.dot(mat, x)"
     ],
     "language": "python",
     "metadata": {},
     "outputs": [
      {
       "metadata": {},
       "output_type": "pyout",
       "prompt_number": 373,
       "text": [
        "array([ 18.,  26.])"
       ]
      }
     ],
     "prompt_number": 373
    },
    {
     "cell_type": "raw",
     "metadata": {},
     "source": [
      "transpose of mat :"
     ]
    },
    {
     "cell_type": "code",
     "collapsed": false,
     "input": [
      "print mat.T"
     ],
     "language": "python",
     "metadata": {},
     "outputs": [
      {
       "output_type": "stream",
       "stream": "stdout",
       "text": [
        "[[ 1.  2.]\n",
        " [ 2.  3.]\n",
        " [ 3.  4.]]\n"
       ]
      }
     ],
     "prompt_number": 374
    },
    {
     "cell_type": "code",
     "collapsed": false,
     "input": [
      "print np.dot(mat, mat.T)"
     ],
     "language": "python",
     "metadata": {},
     "outputs": [
      {
       "output_type": "stream",
       "stream": "stdout",
       "text": [
        "[[ 14.  20.]\n",
        " [ 20.  29.]]\n"
       ]
      }
     ],
     "prompt_number": 375
    },
    {
     "cell_type": "heading",
     "level": 3,
     "metadata": {},
     "source": [
      "Special matrices"
     ]
    },
    {
     "cell_type": "code",
     "collapsed": false,
     "input": [
      "print np.eye(3)"
     ],
     "language": "python",
     "metadata": {},
     "outputs": [
      {
       "output_type": "stream",
       "stream": "stdout",
       "text": [
        "[[ 1.  0.  0.]\n",
        " [ 0.  1.  0.]\n",
        " [ 0.  0.  1.]]\n"
       ]
      }
     ],
     "prompt_number": 376
    },
    {
     "cell_type": "code",
     "collapsed": false,
     "input": [
      "print np.zeros((2, 3))"
     ],
     "language": "python",
     "metadata": {},
     "outputs": [
      {
       "output_type": "stream",
       "stream": "stdout",
       "text": [
        "[[ 0.  0.  0.]\n",
        " [ 0.  0.  0.]]\n"
       ]
      }
     ],
     "prompt_number": 377
    },
    {
     "cell_type": "code",
     "collapsed": false,
     "input": [
      "np.diag(np.arange(1, 4))"
     ],
     "language": "python",
     "metadata": {},
     "outputs": [
      {
       "metadata": {},
       "output_type": "pyout",
       "prompt_number": 378,
       "text": [
        "array([[1, 0, 0],\n",
        "       [0, 2, 0],\n",
        "       [0, 0, 3]])"
       ]
      }
     ],
     "prompt_number": 378
    },
    {
     "cell_type": "code",
     "collapsed": false,
     "input": [
      "# complex matrices"
     ],
     "language": "python",
     "metadata": {},
     "outputs": [],
     "prompt_number": 379
    },
    {
     "cell_type": "code",
     "collapsed": false,
     "input": [
      "mat = np.array(((1.0, 1+1j), (1-1j, 2.0)), dtype=np.complex)\n",
      "print mat"
     ],
     "language": "python",
     "metadata": {},
     "outputs": [
      {
       "output_type": "stream",
       "stream": "stdout",
       "text": [
        "[[ 1.+0.j  1.+1.j]\n",
        " [ 1.-1.j  2.+0.j]]\n"
       ]
      }
     ],
     "prompt_number": 380
    },
    {
     "cell_type": "code",
     "collapsed": false,
     "input": [
      "print np.dot(mat, mat.T.conj())"
     ],
     "language": "python",
     "metadata": {},
     "outputs": [
      {
       "output_type": "stream",
       "stream": "stdout",
       "text": [
        "[[ 3.+0.j  3.+3.j]\n",
        " [ 3.-3.j  6.+0.j]]\n"
       ]
      }
     ],
     "prompt_number": 381
    },
    {
     "cell_type": "heading",
     "level": 4,
     "metadata": {},
     "source": [
      "Changing the shape of an array"
     ]
    },
    {
     "cell_type": "code",
     "collapsed": false,
     "input": [
      "vec = np.arange(3)\n",
      "print vec"
     ],
     "language": "python",
     "metadata": {},
     "outputs": [
      {
       "output_type": "stream",
       "stream": "stdout",
       "text": [
        "[0 1 2]\n"
       ]
      }
     ],
     "prompt_number": 382
    },
    {
     "cell_type": "code",
     "collapsed": false,
     "input": [
      "# create matrix with artificial column dimensions\n",
      "vec_as_matrix = vec[:, np.newaxis]\n",
      "print vec_as_matrix"
     ],
     "language": "python",
     "metadata": {},
     "outputs": [
      {
       "output_type": "stream",
       "stream": "stdout",
       "text": [
        "[[0]\n",
        " [1]\n",
        " [2]]\n"
       ]
      }
     ],
     "prompt_number": 384
    },
    {
     "cell_type": "code",
     "collapsed": false,
     "input": [
      "# and back:\n",
      "vec_back = vec_as_matrix.squeeze()\n",
      "print vec_back"
     ],
     "language": "python",
     "metadata": {},
     "outputs": [
      {
       "output_type": "stream",
       "stream": "stdout",
       "text": [
        "[0 1 2]\n"
       ]
      }
     ],
     "prompt_number": 385
    },
    {
     "cell_type": "code",
     "collapsed": false,
     "input": [
      "vec = np.arange(24, dtype=np.int)\n",
      "print vec"
     ],
     "language": "python",
     "metadata": {},
     "outputs": [
      {
       "output_type": "stream",
       "stream": "stdout",
       "text": [
        "[ 0  1  2  3  4  5  6  7  8  9 10 11 12 13 14 15 16 17 18 19 20 21 22 23]\n"
       ]
      }
     ],
     "prompt_number": 401
    },
    {
     "cell_type": "raw",
     "metadata": {},
     "source": [
      "reshape \"reshapes\" an array, one dimension results from the other dimensions, you can use \"-1\" for this:"
     ]
    },
    {
     "cell_type": "code",
     "collapsed": false,
     "input": [
      "mat = vec.reshape(3, -1)\n",
      "print mat"
     ],
     "language": "python",
     "metadata": {},
     "outputs": [
      {
       "output_type": "stream",
       "stream": "stdout",
       "text": [
        "[[ 0  1  2  3  4  5  6  7]\n",
        " [ 8  9 10 11 12 13 14 15]\n",
        " [16 17 18 19 20 21 22 23]]\n"
       ]
      }
     ],
     "prompt_number": 402
    },
    {
     "cell_type": "code",
     "collapsed": false,
     "input": [
      "print mat.reshape(-1, 3)"
     ],
     "language": "python",
     "metadata": {},
     "outputs": [
      {
       "output_type": "stream",
       "stream": "stdout",
       "text": [
        "[[ 0  1  2]\n",
        " [ 3  4  5]\n",
        " [ 6  7  8]\n",
        " [ 9 10 11]\n",
        " [12 13 14]\n",
        " [15 16 17]\n",
        " [18 19 20]\n",
        " [21 22 23]]\n"
       ]
      }
     ],
     "prompt_number": 403
    },
    {
     "cell_type": "raw",
     "metadata": {},
     "source": [
      "Even tensors:"
     ]
    },
    {
     "cell_type": "code",
     "collapsed": false,
     "input": [
      "print mat.reshape(3, 4, -1)"
     ],
     "language": "python",
     "metadata": {},
     "outputs": [
      {
       "output_type": "stream",
       "stream": "stdout",
       "text": [
        "[[[ 0  1]\n",
        "  [ 2  3]\n",
        "  [ 4  5]\n",
        "  [ 6  7]]\n",
        "\n",
        " [[ 8  9]\n",
        "  [10 11]\n",
        "  [12 13]\n",
        "  [14 15]]\n",
        "\n",
        " [[16 17]\n",
        "  [18 19]\n",
        "  [20 21]\n",
        "  [22 23]]]\n"
       ]
      }
     ],
     "prompt_number": 404
    },
    {
     "cell_type": "heading",
     "level": 4,
     "metadata": {},
     "source": [
      "Fast indexing"
     ]
    },
    {
     "cell_type": "code",
     "collapsed": false,
     "input": [
      "print mat"
     ],
     "language": "python",
     "metadata": {},
     "outputs": [
      {
       "output_type": "stream",
       "stream": "stdout",
       "text": [
        "[[ 0  1  2  3  4  5  6  7]\n",
        " [ 8  9 10 11 12 13 14 15]\n",
        " [16 17 18 19 20 21 22 23]]\n"
       ]
      }
     ],
     "prompt_number": 405
    },
    {
     "cell_type": "code",
     "collapsed": false,
     "input": [
      "mat % 3 == 0"
     ],
     "language": "python",
     "metadata": {},
     "outputs": [
      {
       "metadata": {},
       "output_type": "pyout",
       "prompt_number": 406,
       "text": [
        "array([[ True, False, False,  True, False, False,  True, False],\n",
        "       [False,  True, False, False,  True, False, False,  True],\n",
        "       [False, False,  True, False, False,  True, False, False]], dtype=bool)"
       ]
      }
     ],
     "prompt_number": 406
    },
    {
     "cell_type": "code",
     "collapsed": false,
     "input": [
      "mat[mat % 3 == 0] = 0\n",
      "print mat"
     ],
     "language": "python",
     "metadata": {},
     "outputs": [
      {
       "output_type": "stream",
       "stream": "stdout",
       "text": [
        "[[ 0  1  2  0  4  5  0  7]\n",
        " [ 8  0 10 11  0 13 14  0]\n",
        " [16 17  0 19 20  0 22 23]]\n"
       ]
      }
     ],
     "prompt_number": 407
    },
    {
     "cell_type": "heading",
     "level": 4,
     "metadata": {},
     "source": [
      "Type coercion:"
     ]
    },
    {
     "cell_type": "code",
     "collapsed": false,
     "input": [
      "print mat.dtype\n",
      "mat = mat.astype(np.float)\n",
      "print mat.dtype\n",
      "print mat"
     ],
     "language": "python",
     "metadata": {},
     "outputs": [
      {
       "output_type": "stream",
       "stream": "stdout",
       "text": [
        "int64\n",
        "float64\n",
        "[[  0.   1.   2.   0.   4.   5.   0.   7.]\n",
        " [  8.   0.  10.  11.   0.  13.  14.   0.]\n",
        " [ 16.  17.   0.  19.  20.   0.  22.  23.]]\n"
       ]
      }
     ],
     "prompt_number": 408
    },
    {
     "cell_type": "heading",
     "level": 3,
     "metadata": {},
     "source": [
      "numpy File I/O"
     ]
    },
    {
     "cell_type": "heading",
     "level": 4,
     "metadata": {},
     "source": [
      "Binary files"
     ]
    },
    {
     "cell_type": "code",
     "collapsed": false,
     "input": [
      "mat.tofile(\"matrix.bin\")\n",
      "print mat.dtype"
     ],
     "language": "python",
     "metadata": {},
     "outputs": [
      {
       "output_type": "stream",
       "stream": "stdout",
       "text": [
        "float64\n"
       ]
      }
     ],
     "prompt_number": 409
    },
    {
     "cell_type": "code",
     "collapsed": false,
     "input": [
      "print np.fromfile(\"matrix.bin\", dtype=np.float64)"
     ],
     "language": "python",
     "metadata": {},
     "outputs": [
      {
       "output_type": "stream",
       "stream": "stdout",
       "text": [
        "[  0.   1.   2.   0.   4.   5.   0.   7.   8.   0.  10.  11.   0.  13.  14.\n",
        "   0.  16.  17.   0.  19.  20.   0.  22.  23.]\n"
       ]
      }
     ],
     "prompt_number": 410
    },
    {
     "cell_type": "code",
     "collapsed": false,
     "input": [
      "print np.fromfile(\"matrix.bin\", dtype=np.float64).reshape(3, -1)"
     ],
     "language": "python",
     "metadata": {},
     "outputs": [
      {
       "output_type": "stream",
       "stream": "stdout",
       "text": [
        "[[  0.   1.   2.   0.   4.   5.   0.   7.]\n",
        " [  8.   0.  10.  11.   0.  13.  14.   0.]\n",
        " [ 16.  17.   0.  19.  20.   0.  22.  23.]]\n"
       ]
      }
     ],
     "prompt_number": 411
    },
    {
     "cell_type": "code",
     "collapsed": false,
     "input": [
      "np.fromfile(\"matrix.bin\", dtype=complex)"
     ],
     "language": "python",
     "metadata": {},
     "outputs": [
      {
       "metadata": {},
       "output_type": "pyout",
       "prompt_number": 412,
       "text": [
        "array([  0. +1.j,   2. +0.j,   4. +5.j,   0. +7.j,   8. +0.j,  10.+11.j,\n",
        "         0.+13.j,  14. +0.j,  16.+17.j,   0.+19.j,  20. +0.j,  22.+23.j])"
       ]
      }
     ],
     "prompt_number": 412
    },
    {
     "cell_type": "code",
     "collapsed": false,
     "input": [
      "np.fromfile(\"matrix.bin\", dtype=np.int)"
     ],
     "language": "python",
     "metadata": {},
     "outputs": [
      {
       "metadata": {},
       "output_type": "pyout",
       "prompt_number": 414,
       "text": [
        "array([                  0, 4607182418800017408, 4611686018427387904,\n",
        "                         0, 4616189618054758400, 4617315517961601024,\n",
        "                         0, 4619567317775286272, 4620693217682128896,\n",
        "                         0, 4621819117588971520, 4622382067542392832,\n",
        "                         0, 4623507967449235456, 4624070917402656768,\n",
        "                         0, 4625196817309499392, 4625478292286210048,\n",
        "                         0, 4626041242239631360, 4626322717216342016,\n",
        "                         0, 4626885667169763328, 4627167142146473984])"
       ]
      }
     ],
     "prompt_number": 414
    },
    {
     "cell_type": "heading",
     "level": 4,
     "metadata": {},
     "source": [
      "Alternative: txt file"
     ]
    },
    {
     "cell_type": "code",
     "collapsed": false,
     "input": [
      "np.savetxt(\"matrix.txt\", mat)"
     ],
     "language": "python",
     "metadata": {},
     "outputs": [],
     "prompt_number": 415
    },
    {
     "cell_type": "code",
     "collapsed": false,
     "input": [
      "np.loadtxt(\"matrix.txt\")"
     ],
     "language": "python",
     "metadata": {},
     "outputs": [
      {
       "metadata": {},
       "output_type": "pyout",
       "prompt_number": 416,
       "text": [
        "array([[  0.,   1.,   2.,   0.,   4.,   5.,   0.,   7.],\n",
        "       [  8.,   0.,  10.,  11.,   0.,  13.,  14.,   0.],\n",
        "       [ 16.,  17.,   0.,  19.,  20.,   0.,  22.,  23.]])"
       ]
      }
     ],
     "prompt_number": 416
    },
    {
     "cell_type": "code",
     "collapsed": false,
     "input": [
      "print open(\"matrix.txt\").read()"
     ],
     "language": "python",
     "metadata": {},
     "outputs": [
      {
       "output_type": "stream",
       "stream": "stdout",
       "text": [
        "0.000000000000000000e+00 1.000000000000000000e+00 2.000000000000000000e+00 0.000000000000000000e+00 4.000000000000000000e+00 5.000000000000000000e+00 0.000000000000000000e+00 7.000000000000000000e+00\n",
        "8.000000000000000000e+00 0.000000000000000000e+00 1.000000000000000000e+01 1.100000000000000000e+01 0.000000000000000000e+00 1.300000000000000000e+01 1.400000000000000000e+01 0.000000000000000000e+00\n",
        "1.600000000000000000e+01 1.700000000000000000e+01 0.000000000000000000e+00 1.900000000000000000e+01 2.000000000000000000e+01 0.000000000000000000e+00 2.200000000000000000e+01 2.300000000000000000e+01\n",
        "\n"
       ]
      }
     ],
     "prompt_number": 417
    },
    {
     "cell_type": "heading",
     "level": 4,
     "metadata": {},
     "source": [
      "Plotting"
     ]
    },
    {
     "cell_type": "raw",
     "metadata": {},
     "source": [
      "matplotlib is \"the\" Python library for plotting. pylab uses matplotlib and provides a matlab like interface:"
     ]
    },
    {
     "cell_type": "code",
     "collapsed": false,
     "input": [
      "# this is just for this presentation !\n",
      "%matplotlib inline "
     ],
     "language": "python",
     "metadata": {},
     "outputs": [],
     "prompt_number": 422
    },
    {
     "cell_type": "code",
     "collapsed": false,
     "input": [
      "import pylab\n",
      "x = np.linspace(0, 2 * np.pi, 150)\n",
      "y = np.sin(x) * np.cos(x*x+1)\n",
      "\n",
      "pylab.plot(x, y, label=\"y\")\n",
      "\n",
      "y2 = y * np.sin(y)\n",
      "pylab.plot(x, y2, label=\"y2\")\n",
      "\n",
      "pylab.legend()\n",
      "pylab.show()\n"
     ],
     "language": "python",
     "metadata": {},
     "outputs": [
      {
       "metadata": {},
       "output_type": "display_data",
       "png": "[encoded data removed]",
       "text": [
        "<matplotlib.figure.Figure at 0x3485390>"
       ]
      }
     ],
     "prompt_number": 423
    },
    {
     "cell_type": "heading",
     "level": 3,
     "metadata": {},
     "source": [
      "Final example: pca"
     ]
    },
    {
     "cell_type": "code",
     "collapsed": false,
     "input": [
      "# 2 x 1000 matrix with normal distributed entries:\n",
      "points = np.random.randn(2, 1000)"
     ],
     "language": "python",
     "metadata": {},
     "outputs": [],
     "prompt_number": 426
    },
    {
     "cell_type": "code",
     "collapsed": false,
     "input": [
      "import pylab\n",
      "pylab.plot(points[0,:], points[1,:], \".\")\n",
      "pylab.show()"
     ],
     "language": "python",
     "metadata": {},
     "outputs": [
      {
       "metadata": {},
       "output_type": "display_data",
       "png": "[encoded data removed]",
       "text": [
        "<matplotlib.figure.Figure at 0x35f01d0>"
       ]
      }
     ],
     "prompt_number": 427
    },
    {
     "cell_type": "code",
     "collapsed": false,
     "input": [
      "deformation_matrix = np.array(((1.5, 1.0), (0.9, 1.0)))"
     ],
     "language": "python",
     "metadata": {},
     "outputs": [],
     "prompt_number": 428
    },
    {
     "cell_type": "code",
     "collapsed": false,
     "input": [
      "x = np.dot(deformation_matrix, points)"
     ],
     "language": "python",
     "metadata": {},
     "outputs": [],
     "prompt_number": 429
    },
    {
     "cell_type": "code",
     "collapsed": false,
     "input": [
      "import pylab\n",
      "pylab.plot(x[0,:], x[1,:], \".\")\n",
      "pylab.show()"
     ],
     "language": "python",
     "metadata": {},
     "outputs": [
      {
       "metadata": {},
       "output_type": "display_data",
       "png": "[encoded data removed]",
       "text": [
        "<matplotlib.figure.Figure at 0x346e1d0>"
       ]
      }
     ],
     "prompt_number": 430
    },
    {
     "cell_type": "code",
     "collapsed": false,
     "input": [
      "# np.linalg.eigh is eigenvalue decomposition of hermetian matrix\n",
      "# np.linalg has others like \n",
      "# np.linalg.solve for solving linear equation systems\n",
      "# np.linalg.svd for singular value decomposition and others\n",
      "\n",
      "# this is pca for centered matrix \n",
      "eigvals, eigvecs = np.linalg.eigh(np.dot(x, x.T))"
     ],
     "language": "python",
     "metadata": {},
     "outputs": [],
     "prompt_number": 431
    },
    {
     "cell_type": "code",
     "collapsed": false,
     "input": [
      "# column vectors describe main directions in data:\n",
      "print eigvecs"
     ],
     "language": "python",
     "metadata": {},
     "outputs": [
      {
       "output_type": "stream",
       "stream": "stdout",
       "text": [
        "[[ 0.59546539 -0.80338096]\n",
        " [-0.80338096 -0.59546539]]\n"
       ]
      }
     ],
     "prompt_number": 432
    },
    {
     "cell_type": "code",
     "collapsed": false,
     "input": [
      "# plot data again\n",
      "pylab.plot(x[0,:], x[1,:], \".\")\n",
      "\n",
      "# plot lines describing directions of main variance:\n",
      "pylab.plot([-3*eigvecs[0,0], 3*eigvecs[0,0]], [-3 * eigvecs[0,1], 3 * eigvecs[0,1]], 'g', linewidth=2)\n",
      "pylab.plot([-3*eigvecs[1,0], 3*eigvecs[1,0]], [-3 * eigvecs[1,1], 3 * eigvecs[1,1]], 'g', linewidth=2)\n",
      "\n",
      "pylab.show()"
     ],
     "language": "python",
     "metadata": {},
     "outputs": [
      {
       "metadata": {},
       "output_type": "display_data",
       "png": "[encoded data removed]",
       "text": [
        "<matplotlib.figure.Figure at 0x35de6d0>"
       ]
      }
     ],
     "prompt_number": 433
    },
    {
     "cell_type": "code",
     "collapsed": false,
     "input": [],
     "language": "python",
     "metadata": {},
     "outputs": []
    },
    {
     "cell_type": "code",
     "collapsed": false,
     "input": [],
     "language": "python",
     "metadata": {},
     "outputs": []
    }
   ],
   "metadata": {}
  }
 ]
}