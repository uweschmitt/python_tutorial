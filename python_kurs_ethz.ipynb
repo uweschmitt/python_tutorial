{
 "metadata": {
  "name": ""
 },
 "nbformat": 3,
 "nbformat_minor": 0,
 "worksheets": [
  {
   "cells": [
    {
     "cell_type": "heading",
     "level": 3,
     "metadata": {},
     "source": [
      "About Python"
     ]
    },
    {
     "cell_type": "markdown",
     "metadata": {},
     "source": [
      "https://en.wikipedia.org/wiki/Python_(programming_language) \n",
      "\n",
      "> Python is a widely used general-purpose, high-level programming language... Its design philosophy emphasizes code readability, and its syntax allows programmers to express concepts in fewer lines of code than would be possible in languages such as C. The language provides constructs intended to enable clear programs on both a small and large scale."
     ]
    },
    {
     "cell_type": "markdown",
     "metadata": {},
     "source": [
      "Key points:\n",
      "\n",
      "* **general-purpose language** in contrast to e.g. Matlab (numerics), PHP (websites), R (statistics), ...\n",
      "\n",
      "* **high-level** (includes *object oriented programming*, *functional programming*)  in contrast to C, Fortran\n",
      "\n",
      "* **readable code** in contrast to Perl, C++.\n",
      "\n",
      "* **expressive** (which means python code has fewer lines) in contrast to C++, COBOL, Java\n"
     ]
    },
    {
     "cell_type": "markdown",
     "metadata": {},
     "source": [
      "More facts:\n",
      "\n",
      "* Python is interpreted\n",
      "* invented in 1991 by Guido van Rossum, a fan of *Monty Pythons Flying Circus*\n",
      "* Current versions are 2.7 and 3.4 which are not compatible any more. This course is about 2.7.\n",
      "* Python ships with many versatile modules, e.g. for math, file system access, web service access, etc. This is often quoted as **Python comes with batteries included**"
     ]
    },
    {
     "cell_type": "heading",
     "level": 3,
     "metadata": {},
     "source": [
      "Installing Python on Windows"
     ]
    },
    {
     "cell_type": "markdown",
     "metadata": {},
     "source": [
      "* Depending on your OS versions: download 32 or 64 bit .exe for Python **2.7.5.X** from https://code.google.com/p/winpython/\n",
      "* This is a large Python distribtution, which includes *many* precompiled scientific packages without version conflicts\n",
      "* Follow the instructions on https://code.google.com/p/winpython/wiki/Installation **INCLUDING REGISTRATION**\n",
      "* Start installed application called *Spyder* \n"
     ]
    },
    {
     "cell_type": "heading",
     "level": 3,
     "metadata": {},
     "source": [
      "Installing Python on Ubuntu/Debian Linux"
     ]
    },
    {
     "cell_type": "markdown",
     "metadata": {},
     "source": [
      "\n"
     ]
    },
    {
     "cell_type": "markdown",
     "metadata": {},
     "source": [
      "Global install of Python interpreter, you need root access as super user:"
     ]
    },
    {
     "cell_type": "raw",
     "metadata": {},
     "source": [
      "$ sudo apt-get install python2.7 python2.7-dev\n",
      "$ python -V\n",
      "Python 2.7.3    # or similar 2.7.X\n",
      "\n",
      "$ sudo apt-get install python-qt4\n",
      "\n",
      "$ sudo apt-get install python-setuptools\n",
      "$ easy_install pip\n",
      "$ easy_install virtualenv"
     ]
    },
    {
     "cell_type": "markdown",
     "metadata": {},
     "source": [
      "Create a local isolated version of Python. This keeps your laptop clean and avoids version conflicts !"
     ]
    },
    {
     "cell_type": "raw",
     "metadata": {},
     "source": [
      "$ cd $HOME\n",
      "$ virtualenv python_kurs"
     ]
    },
    {
     "cell_type": "markdown",
     "metadata": {},
     "source": [
      "Activate this isolated version as follows, **you have to to this after each install before you start using this isolated environment !**"
     ]
    },
    {
     "cell_type": "raw",
     "metadata": {},
     "source": [
      "$ cd python_kurs\n",
      "$ . bin/activate\n",
      "(python_kurs) $ "
     ]
    },
    {
     "cell_type": "markdown",
     "metadata": {},
     "source": [
      "Now we install a local version of needed python packages:"
     ]
    },
    {
     "cell_type": "raw",
     "metadata": {},
     "source": [
      "(python_kurs) $ pip install pygments spyder\n",
      "(python_kurs) $ spyder"
     ]
    },
    {
     "cell_type": "heading",
     "level": 3,
     "metadata": {},
     "source": [
      "Python shell"
     ]
    },
    {
     "cell_type": "raw",
     "metadata": {},
     "source": [
      "First steps with Spyder \n",
      "\n",
      "* Open Spyder\n",
      "\n",
      "* Create examples folder and change to this\n",
      "\n",
      "* Write minimal script \"print 42\" and save it.\n",
      "\n",
      "* Use F5 to execute it in the shell\n",
      "\n",
      "* Enter \"print 42\" in the shell\n",
      "\n",
      "* !ls, !pwd"
     ]
    },
    {
     "cell_type": "raw",
     "metadata": {},
     "source": [
      "Python is not just an interpreter, it has a shell for trying things out and for learning.\n",
      "\n",
      "Most examples you will see here can be executed in a shell."
     ]
    },
    {
     "cell_type": "heading",
     "level": 3,
     "metadata": {},
     "source": [
      "Console Input / Output"
     ]
    },
    {
     "cell_type": "code",
     "collapsed": false,
     "input": [
      "print \"hello word\"  # this is a comment"
     ],
     "language": "python",
     "metadata": {},
     "outputs": [
      {
       "output_type": "stream",
       "stream": "stdout",
       "text": [
        "hello word\n"
       ]
      }
     ],
     "prompt_number": 96
    },
    {
     "cell_type": "raw",
     "metadata": {},
     "source": [
      "commata separate output, comma on end of print statement supresses new line"
     ]
    },
    {
     "cell_type": "code",
     "collapsed": false,
     "input": [
      "print 3, 4,\n",
      "print 5"
     ],
     "language": "python",
     "metadata": {},
     "outputs": [
      {
       "output_type": "stream",
       "stream": "stdout",
       "text": [
        "3 4 5\n"
       ]
      }
     ],
     "prompt_number": 747
    },
    {
     "cell_type": "code",
     "collapsed": false,
     "input": [
      "name = raw_input(\"your name: \")   # strange name for input function\n",
      "print \"Hello\", name, \"!!!\""
     ],
     "language": "python",
     "metadata": {},
     "outputs": [
      {
       "name": "stdout",
       "output_type": "stream",
       "stream": "stdout",
       "text": [
        "your name: Uwe Schmitt\n"
       ]
      },
      {
       "output_type": "stream",
       "stream": "stdout",
       "text": [
        "Hello Uwe Schmitt !!!\n"
       ]
      }
     ],
     "prompt_number": 101
    },
    {
     "cell_type": "heading",
     "level": 3,
     "metadata": {},
     "source": [
      "Variables"
     ]
    },
    {
     "cell_type": "raw",
     "metadata": {},
     "source": [
      "VARIABLES ARE NAMES FOR OBJECTS\n",
      "\n",
      "other languages have concepts as pointers, references etc.\n",
      "\n",
      "keep this sentence in mind, it will simplify the deeper understanding\n",
      "how things work in python."
     ]
    },
    {
     "cell_type": "raw",
     "metadata": {},
     "source": [
      "variables in Python are just assigned, no type declaration needed !"
     ]
    },
    {
     "cell_type": "heading",
     "level": 4,
     "metadata": {},
     "source": [
      "valid variable names"
     ]
    },
    {
     "cell_type": "raw",
     "metadata": {},
     "source": [
      "allowed are: alphabetic charachters, digits and underscore \"_\"\n",
      "\n",
      "disallowed: digit in first place\n",
      "\n",
      "disallowed: names which refer to python statements as \"print\" "
     ]
    },
    {
     "cell_type": "code",
     "collapsed": false,
     "input": [
      "# examples for valid names\n",
      "a = 123       \n",
      "a_123 = 2\n",
      "_xyz = 2"
     ],
     "language": "python",
     "metadata": {},
     "outputs": [],
     "prompt_number": 139
    },
    {
     "cell_type": "code",
     "collapsed": false,
     "input": [
      "aBcD = 4      # uppercase matters\n",
      "abcd = 5"
     ],
     "language": "python",
     "metadata": {},
     "outputs": [],
     "prompt_number": 148
    },
    {
     "cell_type": "code",
     "collapsed": false,
     "input": [
      "aBcD == abcd"
     ],
     "language": "python",
     "metadata": {},
     "outputs": [
      {
       "metadata": {},
       "output_type": "pyout",
       "prompt_number": 147,
       "text": [
        "False"
       ]
      }
     ],
     "prompt_number": 147
    },
    {
     "cell_type": "code",
     "collapsed": false,
     "input": [
      "# I personally prefer \"_\" separation instead of 'CamelCase'\n",
      "# for readiblity:\n",
      "\n",
      "this_is_a_long_variable_name = 3\n",
      "\n",
      "thisIsALongVariableName = 4"
     ],
     "language": "python",
     "metadata": {},
     "outputs": [],
     "prompt_number": 109
    },
    {
     "cell_type": "code",
     "collapsed": false,
     "input": [
      "# invalid names part one\n",
      "1abc = 3"
     ],
     "language": "python",
     "metadata": {},
     "outputs": [
      {
       "ename": "SyntaxError",
       "evalue": "invalid syntax (<ipython-input-105-3e02a914a8e6>, line 2)",
       "output_type": "pyerr",
       "traceback": [
        "\u001b[1;36m  File \u001b[1;32m\"<ipython-input-105-3e02a914a8e6>\"\u001b[1;36m, line \u001b[1;32m2\u001b[0m\n\u001b[1;33m    1abc = 3\u001b[0m\n\u001b[1;37m       ^\u001b[0m\n\u001b[1;31mSyntaxError\u001b[0m\u001b[1;31m:\u001b[0m invalid syntax\n"
       ]
      }
     ],
     "prompt_number": 105
    },
    {
     "cell_type": "code",
     "collapsed": false,
     "input": [
      "# invalid names part two\n",
      "print = 4"
     ],
     "language": "python",
     "metadata": {},
     "outputs": [
      {
       "ename": "SyntaxError",
       "evalue": "invalid syntax (<ipython-input-107-60ed266a1eb5>, line 2)",
       "output_type": "pyerr",
       "traceback": [
        "\u001b[1;36m  File \u001b[1;32m\"<ipython-input-107-60ed266a1eb5>\"\u001b[1;36m, line \u001b[1;32m2\u001b[0m\n\u001b[1;33m    print = 4\u001b[0m\n\u001b[1;37m          ^\u001b[0m\n\u001b[1;31mSyntaxError\u001b[0m\u001b[1;31m:\u001b[0m invalid syntax\n"
       ]
      }
     ],
     "prompt_number": 107
    },
    {
     "cell_type": "heading",
     "level": 3,
     "metadata": {},
     "source": [
      "Calculating with numbers"
     ]
    },
    {
     "cell_type": "raw",
     "metadata": {},
     "source": [
      "Python has integer numbers (which may be as large as your memory allows !!!),\n",
      "floating point and complex numbers. \n",
      "\n",
      "Basic operations as in other languages:"
     ]
    },
    {
     "cell_type": "code",
     "collapsed": false,
     "input": [
      "print 32 * (41 + 1) / 7"
     ],
     "language": "python",
     "metadata": {},
     "outputs": [
      {
       "output_type": "stream",
       "stream": "stdout",
       "text": [
        "192\n"
       ]
      }
     ],
     "prompt_number": 749
    },
    {
     "cell_type": "raw",
     "metadata": {},
     "source": [
      "two different types of division:\n",
      "\n",
      "floating point division: as you would expect"
     ]
    },
    {
     "cell_type": "code",
     "collapsed": false,
     "input": [
      "print 29.0 / 2 "
     ],
     "language": "python",
     "metadata": {},
     "outputs": [
      {
       "output_type": "stream",
       "stream": "stdout",
       "text": [
        "14.5\n"
       ]
      }
     ],
     "prompt_number": 751
    },
    {
     "cell_type": "raw",
     "metadata": {},
     "source": [
      "integer division: rounds down to next smallest integer"
     ]
    },
    {
     "cell_type": "code",
     "collapsed": false,
     "input": [
      "print 31 / 7    "
     ],
     "language": "python",
     "metadata": {},
     "outputs": [
      {
       "output_type": "stream",
       "stream": "stdout",
       "text": [
        "4\n"
       ]
      }
     ],
     "prompt_number": 4
    },
    {
     "cell_type": "raw",
     "metadata": {},
     "source": [
      "division reminder:"
     ]
    },
    {
     "cell_type": "code",
     "collapsed": false,
     "input": [
      "print 31 % 7"
     ],
     "language": "python",
     "metadata": {},
     "outputs": [
      {
       "output_type": "stream",
       "stream": "stdout",
       "text": [
        "3\n"
       ]
      }
     ],
     "prompt_number": 752
    },
    {
     "cell_type": "raw",
     "metadata": {},
     "source": [
      "divion by zero:"
     ]
    },
    {
     "cell_type": "code",
     "collapsed": false,
     "input": [
      "print 7 / 0"
     ],
     "language": "python",
     "metadata": {},
     "outputs": [
      {
       "ename": "ZeroDivisionError",
       "evalue": "integer division or modulo by zero",
       "output_type": "pyerr",
       "traceback": [
        "\u001b[1;31m---------------------------------------------------------------------------\u001b[0m\n\u001b[1;31mZeroDivisionError\u001b[0m                         Traceback (most recent call last)",
        "\u001b[1;32m<ipython-input-753-ead4a91e8906>\u001b[0m in \u001b[0;36m<module>\u001b[1;34m()\u001b[0m\n\u001b[1;32m----> 1\u001b[1;33m \u001b[1;32mprint\u001b[0m \u001b[1;36m7\u001b[0m \u001b[1;33m/\u001b[0m \u001b[1;36m0\u001b[0m\u001b[1;33m\u001b[0m\u001b[0m\n\u001b[0m",
        "\u001b[1;31mZeroDivisionError\u001b[0m: integer division or modulo by zero"
       ]
      }
     ],
     "prompt_number": 753
    },
    {
     "cell_type": "raw",
     "metadata": {},
     "source": [
      "long integers in python may be as large as they fit into\n",
      "memory, no overflow, but might get slow:"
     ]
    },
    {
     "cell_type": "code",
     "collapsed": false,
     "input": [
      "3**117  # no print, it obfuscates things, look at the \"L\" below !"
     ],
     "language": "python",
     "metadata": {},
     "outputs": [
      {
       "metadata": {},
       "output_type": "pyout",
       "prompt_number": 754,
       "text": [
        "66555937033867822607895549241096482953017615834735226163L"
       ]
      }
     ],
     "prompt_number": 754
    },
    {
     "cell_type": "heading",
     "level": 3,
     "metadata": {},
     "source": [
      "More math than just addition, et al:"
     ]
    },
    {
     "cell_type": "raw",
     "metadata": {},
     "source": [
      "load special module, ships with Python, is one of the \"included batteries\":"
     ]
    },
    {
     "cell_type": "code",
     "collapsed": false,
     "input": [
      "import math"
     ],
     "language": "python",
     "metadata": {},
     "outputs": [],
     "prompt_number": 757
    },
    {
     "cell_type": "raw",
     "metadata": {},
     "source": [
      "methods and constants are \"attached\" to math module:"
     ]
    },
    {
     "cell_type": "code",
     "collapsed": false,
     "input": [
      "print math.pi"
     ],
     "language": "python",
     "metadata": {},
     "outputs": [
      {
       "output_type": "stream",
       "stream": "stdout",
       "text": [
        "3.14159265359\n"
       ]
      }
     ],
     "prompt_number": 5
    },
    {
     "cell_type": "code",
     "collapsed": false,
     "input": [
      "print math.cos(math.pi * 2.0)"
     ],
     "language": "python",
     "metadata": {},
     "outputs": [
      {
       "output_type": "stream",
       "stream": "stdout",
       "text": [
        "1.0\n"
       ]
      }
     ],
     "prompt_number": 6
    },
    {
     "cell_type": "code",
     "collapsed": false,
     "input": [
      "print math.sqrt(121.0)    "
     ],
     "language": "python",
     "metadata": {},
     "outputs": [
      {
       "output_type": "stream",
       "stream": "stdout",
       "text": [
        "11.0\n"
       ]
      }
     ],
     "prompt_number": 7
    },
    {
     "cell_type": "code",
     "collapsed": false,
     "input": [
      "print math.pow(2, 4)                      "
     ],
     "language": "python",
     "metadata": {},
     "outputs": [
      {
       "output_type": "stream",
       "stream": "stdout",
       "text": [
        "16.0\n"
       ]
      }
     ],
     "prompt_number": 758
    },
    {
     "cell_type": "code",
     "collapsed": false,
     "input": [
      "print 2**4   # alternative to math.pow, preserves type"
     ],
     "language": "python",
     "metadata": {},
     "outputs": [
      {
       "output_type": "stream",
       "stream": "stdout",
       "text": [
        "16\n"
       ]
      }
     ],
     "prompt_number": 745
    },
    {
     "cell_type": "code",
     "collapsed": false,
     "input": [
      "# less often used function\n",
      "print math.gamma(5.0)"
     ],
     "language": "python",
     "metadata": {},
     "outputs": [
      {
       "output_type": "stream",
       "stream": "stdout",
       "text": [
        "24.0\n"
       ]
      }
     ],
     "prompt_number": 744
    },
    {
     "cell_type": "raw",
     "metadata": {},
     "source": [
      "\n",
      "PRACTICE TIME\n",
      "\n",
      "How many rice corns do you have on a checker board if you put on corn on the first field and double\n",
      "the number of corns from each field to the next ???\n",
      "\n",
      "HINT: geometric sum: 1 + a^1 + a^2 + ... a^n = (a^(n+1)-1)/(a-1)\n",
      "\n",
      "An average rice corn weights 25 mg, how many kg do you have on the board ?\n",
      "\n",
      "The earth has a weight of 5.972E24 kg, put this into relation to the weight of the rice \n",
      "\n",
      "Use variables for the intermediate results !\n"
     ]
    },
    {
     "cell_type": "raw",
     "metadata": {},
     "source": [
      "\n",
      "Calculate the area of a circle with diameter 21.0 cm\n",
      "\n",
      "Calculate the diameter of a circle with area 1.0 cm^2\n"
     ]
    },
    {
     "cell_type": "heading",
     "level": 4,
     "metadata": {},
     "source": [
      "Some special notes"
     ]
    },
    {
     "cell_type": "raw",
     "metadata": {},
     "source": [
      "floating point math precision is limited:"
     ]
    },
    {
     "cell_type": "code",
     "collapsed": false,
     "input": [
      ".25 - .2"
     ],
     "language": "python",
     "metadata": {},
     "outputs": [
      {
       "metadata": {},
       "output_type": "pyout",
       "prompt_number": 124,
       "text": [
        "0.04999999999999999"
       ]
      }
     ],
     "prompt_number": 124
    },
    {
     "cell_type": "raw",
     "metadata": {},
     "source": [
      "type coercion: finds common type when calcaulating with different types"
     ]
    },
    {
     "cell_type": "code",
     "collapsed": false,
     "input": [
      "1 + 3"
     ],
     "language": "python",
     "metadata": {},
     "outputs": [
      {
       "metadata": {},
       "output_type": "pyout",
       "prompt_number": 125,
       "text": [
        "4"
       ]
      }
     ],
     "prompt_number": 125
    },
    {
     "cell_type": "raw",
     "metadata": {},
     "source": [
      "the decimal point indicates floating point numbers:"
     ]
    },
    {
     "cell_type": "code",
     "collapsed": false,
     "input": [
      "1.0 + 3"
     ],
     "language": "python",
     "metadata": {},
     "outputs": [
      {
       "metadata": {},
       "output_type": "pyout",
       "prompt_number": 746,
       "text": [
        "4.0"
       ]
      }
     ],
     "prompt_number": 746
    },
    {
     "cell_type": "heading",
     "level": 4,
     "metadata": {},
     "source": [
      "complex numbers"
     ]
    },
    {
     "cell_type": "raw",
     "metadata": {},
     "source": [
      "complex unit is \"j\", not \"i\". \"j\" is often used in electrical engineering"
     ]
    },
    {
     "cell_type": "code",
     "collapsed": false,
     "input": [
      "z = 1 + 0.8j"
     ],
     "language": "python",
     "metadata": {},
     "outputs": [],
     "prompt_number": 759
    },
    {
     "cell_type": "raw",
     "metadata": {},
     "source": [
      "common operations:"
     ]
    },
    {
     "cell_type": "code",
     "collapsed": false,
     "input": [
      "print z, abs(z), z.imag, z.real, z.conjugate()"
     ],
     "language": "python",
     "metadata": {},
     "outputs": [
      {
       "output_type": "stream",
       "stream": "stdout",
       "text": [
        "(1+0.8j) 1.28062484749 0.8 1.0 (1-0.8j)\n"
       ]
      }
     ],
     "prompt_number": 760
    },
    {
     "cell_type": "raw",
     "metadata": {},
     "source": [
      "same operations as for floats and ints:"
     ]
    },
    {
     "cell_type": "code",
     "collapsed": false,
     "input": [
      "print z + z, z * z, z**3"
     ],
     "language": "python",
     "metadata": {},
     "outputs": [
      {
       "output_type": "stream",
       "stream": "stdout",
       "text": [
        "(2+1.6j) (0.36+1.6j) (-0.92+1.888j)\n"
       ]
      }
     ],
     "prompt_number": 761
    },
    {
     "cell_type": "raw",
     "metadata": {},
     "source": [
      "possible source of error: pure imaginary numbers \n",
      "must be declared as below to avoid clash with a variable\n",
      "named \"j\":"
     ]
    },
    {
     "cell_type": "code",
     "collapsed": false,
     "input": [
      "z = 1j\n",
      "print z*z"
     ],
     "language": "python",
     "metadata": {},
     "outputs": [
      {
       "output_type": "stream",
       "stream": "stdout",
       "text": [
        "(-1+0j)\n"
       ]
      }
     ],
     "prompt_number": 765
    },
    {
     "cell_type": "raw",
     "metadata": {},
     "source": [
      "module 'cmath' for functions as sin, cos on complex numbers:"
     ]
    },
    {
     "cell_type": "code",
     "collapsed": false,
     "input": [
      "import cmath\n",
      "cmath.sin(1j)"
     ],
     "language": "python",
     "metadata": {},
     "outputs": [
      {
       "metadata": {},
       "output_type": "pyout",
       "prompt_number": 770,
       "text": [
        "1.1752011936438014j"
       ]
      }
     ],
     "prompt_number": 770
    },
    {
     "cell_type": "heading",
     "level": 3,
     "metadata": {},
     "source": [
      "Boolean values, Comparison operators"
     ]
    },
    {
     "cell_type": "raw",
     "metadata": {},
     "source": [
      "Boolean values represent logical state, that is \"True\" of \"False\"\n",
      "\n",
      "\"==\" is used for testing equality, do not confuse with \"=\" which is\n",
      "assignment:"
     ]
    },
    {
     "cell_type": "code",
     "collapsed": false,
     "input": [
      "print 3 == 4"
     ],
     "language": "python",
     "metadata": {},
     "outputs": [
      {
       "output_type": "stream",
       "stream": "stdout",
       "text": [
        "False\n"
       ]
      }
     ],
     "prompt_number": 16
    },
    {
     "cell_type": "code",
     "collapsed": false,
     "input": [
      "print 3 = 4    # would be valid in C/C++ !!!"
     ],
     "language": "python",
     "metadata": {},
     "outputs": [
      {
       "ename": "SyntaxError",
       "evalue": "invalid syntax (<ipython-input-771-99737b76b222>, line 1)",
       "output_type": "pyerr",
       "traceback": [
        "\u001b[1;36m  File \u001b[1;32m\"<ipython-input-771-99737b76b222>\"\u001b[1;36m, line \u001b[1;32m1\u001b[0m\n\u001b[1;33m    print 3 = 4\u001b[0m\n\u001b[1;37m            ^\u001b[0m\n\u001b[1;31mSyntaxError\u001b[0m\u001b[1;31m:\u001b[0m invalid syntax\n"
       ]
      }
     ],
     "prompt_number": 771
    },
    {
     "cell_type": "raw",
     "metadata": {},
     "source": [
      "!= is the test for inequality:"
     ]
    },
    {
     "cell_type": "code",
     "collapsed": false,
     "input": [
      "print 3 != 4"
     ],
     "language": "python",
     "metadata": {},
     "outputs": [
      {
       "output_type": "stream",
       "stream": "stdout",
       "text": [
        "True\n"
       ]
      }
     ],
     "prompt_number": 18
    },
    {
     "cell_type": "raw",
     "metadata": {},
     "source": [
      "tests for different kinds of ordering:"
     ]
    },
    {
     "cell_type": "code",
     "collapsed": false,
     "input": [
      "print 3 >= 4, 3<=4, 3 < 4, 3 > 4"
     ],
     "language": "python",
     "metadata": {},
     "outputs": [
      {
       "output_type": "stream",
       "stream": "stdout",
       "text": [
        "False True True False\n"
       ]
      }
     ],
     "prompt_number": 21
    },
    {
     "cell_type": "raw",
     "metadata": {},
     "source": [
      "logical operations"
     ]
    },
    {
     "cell_type": "code",
     "collapsed": false,
     "input": [
      "print not not True"
     ],
     "language": "python",
     "metadata": {},
     "outputs": [
      {
       "output_type": "stream",
       "stream": "stdout",
       "text": [
        "True\n"
       ]
      }
     ],
     "prompt_number": 24
    },
    {
     "cell_type": "code",
     "collapsed": false,
     "input": [
      "print 3 < 4 and 3 >= 4"
     ],
     "language": "python",
     "metadata": {},
     "outputs": [
      {
       "output_type": "stream",
       "stream": "stdout",
       "text": [
        "False\n"
       ]
      }
     ],
     "prompt_number": 25
    },
    {
     "cell_type": "code",
     "collapsed": false,
     "input": [
      "print 3 < 4 or 3 >= 4"
     ],
     "language": "python",
     "metadata": {},
     "outputs": [
      {
       "output_type": "stream",
       "stream": "stdout",
       "text": [
        "True\n"
       ]
      }
     ],
     "prompt_number": 26
    },
    {
     "cell_type": "raw",
     "metadata": {},
     "source": [
      "\n",
      "PRACTICE\n",
      "\n",
      "TODO !!!!\n",
      "\n",
      "What is the value of \"4 < 5 and not 3 > 4\"  ? Use pen and paper befor you valide the result in Python shell.\n"
     ]
    },
    {
     "cell_type": "heading",
     "level": 3,
     "metadata": {},
     "source": [
      "Strings represent text"
     ]
    },
    {
     "cell_type": "raw",
     "metadata": {},
     "source": [
      "Python provides four alternatives for declaring a string constant:"
     ]
    },
    {
     "cell_type": "code",
     "collapsed": false,
     "input": [
      "print \"Python\""
     ],
     "language": "python",
     "metadata": {},
     "outputs": [
      {
       "output_type": "stream",
       "stream": "stdout",
       "text": [
        "Python\n"
       ]
      }
     ],
     "prompt_number": 28
    },
    {
     "cell_type": "code",
     "collapsed": false,
     "input": [
      "print 'Python'"
     ],
     "language": "python",
     "metadata": {},
     "outputs": [
      {
       "output_type": "stream",
       "stream": "stdout",
       "text": [
        "Python\n"
       ]
      }
     ],
     "prompt_number": 772
    },
    {
     "cell_type": "raw",
     "metadata": {},
     "source": [
      "two variants which allow strings over muliple lines:"
     ]
    },
    {
     "cell_type": "code",
     "collapsed": false,
     "input": [
      "print \"\"\"Python:\n",
      "programming done easy\"\"\""
     ],
     "language": "python",
     "metadata": {},
     "outputs": [
      {
       "output_type": "stream",
       "stream": "stdout",
       "text": [
        "Python:\n",
        "programming done easy\n"
       ]
      }
     ],
     "prompt_number": 775
    },
    {
     "cell_type": "code",
     "collapsed": false,
     "input": [
      "print '''Python\n",
      "programming done easy'''"
     ],
     "language": "python",
     "metadata": {},
     "outputs": [
      {
       "output_type": "stream",
       "stream": "stdout",
       "text": [
        "Python\n",
        "programming done easy\n"
       ]
      }
     ],
     "prompt_number": 776
    },
    {
     "cell_type": "raw",
     "metadata": {},
     "source": [
      "advantage: you can use quotes inside a string without\n",
      "using escaping as done in C/C++:"
     ]
    },
    {
     "cell_type": "code",
     "collapsed": false,
     "input": [
      "print \"'abc'is a string\""
     ],
     "language": "python",
     "metadata": {},
     "outputs": [
      {
       "output_type": "stream",
       "stream": "stdout",
       "text": [
        "'abc'is a string\n"
       ]
      }
     ],
     "prompt_number": 777
    },
    {
     "cell_type": "code",
     "collapsed": false,
     "input": [
      "print '\"abc\" is a string'"
     ],
     "language": "python",
     "metadata": {},
     "outputs": [
      {
       "output_type": "stream",
       "stream": "stdout",
       "text": [
        "\"abc\" is a string\n"
       ]
      }
     ],
     "prompt_number": 23
    },
    {
     "cell_type": "code",
     "collapsed": false,
     "input": [
      "print \"\"\"those are strings: \"abc\" and 'abc'\"\"\""
     ],
     "language": "python",
     "metadata": {},
     "outputs": [
      {
       "output_type": "stream",
       "stream": "stdout",
       "text": [
        "those are strings: \"abc\" and 'abc'\n"
       ]
      }
     ],
     "prompt_number": 33
    },
    {
     "cell_type": "heading",
     "level": 3,
     "metadata": {},
     "source": [
      "Comparing strings"
     ]
    },
    {
     "cell_type": "code",
     "collapsed": false,
     "input": [
      "print \"abc\" == \"abc\""
     ],
     "language": "python",
     "metadata": {},
     "outputs": [
      {
       "output_type": "stream",
       "stream": "stdout",
       "text": [
        "True\n"
       ]
      }
     ],
     "prompt_number": 779
    },
    {
     "cell_type": "code",
     "collapsed": false,
     "input": [
      "print \"abc\" != \"Abc\""
     ],
     "language": "python",
     "metadata": {},
     "outputs": [
      {
       "output_type": "stream",
       "stream": "stdout",
       "text": [
        "True\n"
       ]
      }
     ],
     "prompt_number": 778
    },
    {
     "cell_type": "raw",
     "metadata": {},
     "source": [
      "strings are ordered lexycographically (phone book ordering):"
     ]
    },
    {
     "cell_type": "code",
     "collapsed": false,
     "input": [
      "print \"abc\" < \"abe\""
     ],
     "language": "python",
     "metadata": {},
     "outputs": [
      {
       "output_type": "stream",
       "stream": "stdout",
       "text": [
        "True\n"
       ]
      }
     ],
     "prompt_number": 39
    },
    {
     "cell_type": "code",
     "collapsed": false,
     "input": [
      "print \"abc\" < \"abcd\"  "
     ],
     "language": "python",
     "metadata": {},
     "outputs": [
      {
       "output_type": "stream",
       "stream": "stdout",
       "text": [
        "True\n"
       ]
      }
     ],
     "prompt_number": 40
    },
    {
     "cell_type": "heading",
     "level": 3,
     "metadata": {},
     "source": [
      "Indexing: accessing single characters in a string"
     ]
    },
    {
     "cell_type": "raw",
     "metadata": {},
     "source": [
      "indexing is used to access single characters, counting starts with zero"
     ]
    },
    {
     "cell_type": "code",
     "collapsed": false,
     "input": [
      "name = \"Monty\"\n",
      "print name[0]"
     ],
     "language": "python",
     "metadata": {},
     "outputs": [
      {
       "output_type": "stream",
       "stream": "stdout",
       "text": [
        "M\n"
       ]
      }
     ],
     "prompt_number": 782
    },
    {
     "cell_type": "raw",
     "metadata": {},
     "source": [
      "negative indices start from the end. This convenient as you do not\n",
      "need to know the lenght of the string:"
     ]
    },
    {
     "cell_type": "code",
     "collapsed": false,
     "input": [
      "print name[-1] "
     ],
     "language": "python",
     "metadata": {},
     "outputs": [
      {
       "output_type": "stream",
       "stream": "stdout",
       "text": [
        "y\n"
       ]
      }
     ],
     "prompt_number": 783
    },
    {
     "cell_type": "code",
     "collapsed": false,
     "input": [
      "print name[-2]"
     ],
     "language": "python",
     "metadata": {},
     "outputs": [
      {
       "output_type": "stream",
       "stream": "stdout",
       "text": [
        "t\n"
       ]
      }
     ],
     "prompt_number": 784
    },
    {
     "cell_type": "code",
     "collapsed": false,
     "input": [
      "print name[-5] == name[0]"
     ],
     "language": "python",
     "metadata": {},
     "outputs": [
      {
       "output_type": "stream",
       "stream": "stdout",
       "text": [
        "True\n"
       ]
      }
     ],
     "prompt_number": 785
    },
    {
     "cell_type": "heading",
     "level": 3,
     "metadata": {},
     "source": [
      "Slicing: beyond indexing"
     ]
    },
    {
     "cell_type": "code",
     "collapsed": false,
     "input": [
      "print name[1:4] # slice 1 to 3: 1 is inclusive, 3 is exclusive"
     ],
     "language": "python",
     "metadata": {},
     "outputs": [
      {
       "output_type": "stream",
       "stream": "stdout",
       "text": [
        "ont\n"
       ]
      }
     ],
     "prompt_number": 47
    },
    {
     "cell_type": "code",
     "collapsed": false,
     "input": [
      "print name[:3]  # from the beginning"
     ],
     "language": "python",
     "metadata": {},
     "outputs": [
      {
       "output_type": "stream",
       "stream": "stdout",
       "text": [
        "Mon\n"
       ]
      }
     ],
     "prompt_number": 48
    },
    {
     "cell_type": "code",
     "collapsed": false,
     "input": [
      "print name[3:]  # to the end"
     ],
     "language": "python",
     "metadata": {},
     "outputs": [
      {
       "output_type": "stream",
       "stream": "stdout",
       "text": [
        "ty\n"
       ]
      }
     ],
     "prompt_number": 49
    },
    {
     "cell_type": "code",
     "collapsed": false,
     "input": [
      "print name[3:-2:2]  # as above, but stepwidth 2"
     ],
     "language": "python",
     "metadata": {},
     "outputs": [
      {
       "output_type": "stream",
       "stream": "stdout",
       "text": [
        "t yh\n"
       ]
      }
     ],
     "prompt_number": 51
    },
    {
     "cell_type": "code",
     "collapsed": false,
     "input": [
      "print name[-2:3:-2] # negative stepwith"
     ],
     "language": "python",
     "metadata": {},
     "outputs": [
      {
       "output_type": "stream",
       "stream": "stdout",
       "text": [
        "otPy\n"
       ]
      }
     ],
     "prompt_number": 52
    },
    {
     "cell_type": "raw",
     "metadata": {},
     "source": [
      "SLICING\n",
      "\n",
      "string[start:end:stepsize] is called slicing\n",
      "\n",
      "END IS EXCLUSIVE, COUNTING STARTS WITH 0\n",
      "\n",
      "string[start:end] is the same as string[start:end:1]"
     ]
    },
    {
     "cell_type": "raw",
     "metadata": {},
     "source": [
      "\n",
      "PRACTICE\n",
      "\n",
      "Use pen and paper to determine the values of the following expressions,\n",
      "the use the Python shell to validate your results:\n",
      "\n",
      "   \"abcdefghi\"[2:-2]\n",
      "   \"abcdefghi\"[3:8:2]\n",
      "   \"abcdefghi\"[7:4:-1]\n",
      "\n",
      "Use the Python shell to determine the values of the following expressions,\n",
      "and try to explain what is going on.\n",
      "\n",
      "Hint: first try to find an equivalent slicing M:N:K !\n",
      "\n",
      "   \"abcdefghi\"[::2]\n",
      "   \"abcdefghi\"[::-1]  \n",
      "   \"abcdefghi\"[:7:3]\n",
      "   \"abcdefghi\"[2::2]\n"
     ]
    },
    {
     "cell_type": "heading",
     "level": 3,
     "metadata": {},
     "source": [
      "String *methods*"
     ]
    },
    {
     "cell_type": "code",
     "collapsed": false,
     "input": [
      "# INTERLUDE: tab completion for methods, help for name.upper"
     ],
     "language": "python",
     "metadata": {},
     "outputs": [],
     "prompt_number": 53
    },
    {
     "cell_type": "code",
     "collapsed": false,
     "input": [
      "name = \"Guido\"\n",
      "name_in_upper_case = name.upper() # keeps 'name' unchanged"
     ],
     "language": "python",
     "metadata": {},
     "outputs": [],
     "prompt_number": 54
    },
    {
     "cell_type": "code",
     "collapsed": false,
     "input": [
      "print name, name_in_upper_case"
     ],
     "language": "python",
     "metadata": {},
     "outputs": [
      {
       "output_type": "stream",
       "stream": "stdout",
       "text": [
        "Guido GUIDO\n"
       ]
      }
     ],
     "prompt_number": 55
    },
    {
     "cell_type": "code",
     "collapsed": false,
     "input": [
      "# first occurence of \"ui\" in \"Guido\":\n",
      "print \"Guido\".find(\"ui\")"
     ],
     "language": "python",
     "metadata": {},
     "outputs": [],
     "prompt_number": 57
    },
    {
     "cell_type": "raw",
     "metadata": {},
     "source": [
      "\n",
      "PRACTICE\n",
      "\n",
      "Look up what the \"replace\" method for strings does, and use this to\n",
      "transform \"123\" to \"one_23\" and then to \"one_two_three_\" and\n",
      "then to \"one_two_three\" !\n",
      "\n",
      "Look up string \"endswith\" method. Do you see any benefit ???\n"
     ]
    },
    {
     "cell_type": "heading",
     "level": 3,
     "metadata": {},
     "source": [
      "'Calculating' with strings"
     ]
    },
    {
     "cell_type": "code",
     "collapsed": false,
     "input": [
      "name = \"uwe\"\n",
      "action = \"says hello\"\n",
      "print name +  \" \" + action + \"!\"   # \"+\" concatenates strings"
     ],
     "language": "python",
     "metadata": {},
     "outputs": [
      {
       "output_type": "stream",
       "stream": "stdout",
       "text": [
        "uwe says hello!\n"
       ]
      }
     ],
     "prompt_number": 212
    },
    {
     "cell_type": "code",
     "collapsed": false,
     "input": [
      "# strings can be multplied with an integer\n",
      "print \"123_\" * 4"
     ],
     "language": "python",
     "metadata": {},
     "outputs": [
      {
       "output_type": "stream",
       "stream": "stdout",
       "text": [
        "123_123_123_123_\n"
       ]
      }
     ],
     "prompt_number": 155
    },
    {
     "cell_type": "code",
     "collapsed": false,
     "input": [
      "# the position of the integer factor does not matter\n",
      "# addition is something we have seen above\n",
      "print 2 * \"123_\" + \"abc\""
     ],
     "language": "python",
     "metadata": {},
     "outputs": [
      {
       "output_type": "stream",
       "stream": "stdout",
       "text": [
        "123_123_abc\n"
       ]
      }
     ],
     "prompt_number": 156
    },
    {
     "cell_type": "heading",
     "level": 3,
     "metadata": {},
     "source": [
      "String to number conversion"
     ]
    },
    {
     "cell_type": "code",
     "collapsed": false,
     "input": [
      "number = raw_input(\"please input number: \")\n",
      "print number, \"times 3 is\", number * 3"
     ],
     "language": "python",
     "metadata": {},
     "outputs": [
      {
       "name": "stdout",
       "output_type": "stream",
       "stream": "stdout",
       "text": [
        "please input number: 123\n"
       ]
      },
      {
       "output_type": "stream",
       "stream": "stdout",
       "text": [
        "123 times 3 is 123123123\n"
       ]
      }
     ],
     "prompt_number": 26
    },
    {
     "cell_type": "code",
     "collapsed": false,
     "input": [
      "# correct\n",
      "number = raw_input(\"please input number: \")\n",
      "print number, \"times 3 is\", float(number) * 3"
     ],
     "language": "python",
     "metadata": {},
     "outputs": [
      {
       "name": "stdout",
       "output_type": "stream",
       "stream": "stdout",
       "text": [
        "please input number: 123\n"
       ]
      },
      {
       "output_type": "stream",
       "stream": "stdout",
       "text": [
        "123 times 3 is 369.0\n"
       ]
      }
     ],
     "prompt_number": 27
    },
    {
     "cell_type": "code",
     "collapsed": false,
     "input": [
      "print int(\"123\") * float(\"3.141\")"
     ],
     "language": "python",
     "metadata": {},
     "outputs": [
      {
       "output_type": "stream",
       "stream": "stdout",
       "text": [
        "386.343\n"
       ]
      }
     ],
     "prompt_number": 28
    },
    {
     "cell_type": "heading",
     "level": 3,
     "metadata": {},
     "source": [
      "Variables, interlude"
     ]
    },
    {
     "cell_type": "code",
     "collapsed": false,
     "input": [
      "# we know three types now:\n",
      "print type(3)"
     ],
     "language": "python",
     "metadata": {},
     "outputs": [
      {
       "output_type": "stream",
       "stream": "stdout",
       "text": [
        "<type 'int'>\n"
       ]
      }
     ],
     "prompt_number": 111
    },
    {
     "cell_type": "code",
     "collapsed": false,
     "input": [
      "print type(3.0)"
     ],
     "language": "python",
     "metadata": {},
     "outputs": [
      {
       "output_type": "stream",
       "stream": "stdout",
       "text": [
        "<type 'float'>\n"
       ]
      }
     ],
     "prompt_number": 112
    },
    {
     "cell_type": "code",
     "collapsed": false,
     "input": [
      "print type(\"\")"
     ],
     "language": "python",
     "metadata": {},
     "outputs": [
      {
       "output_type": "stream",
       "stream": "stdout",
       "text": [
        "<type 'str'>\n"
       ]
      }
     ],
     "prompt_number": 113
    },
    {
     "cell_type": "code",
     "collapsed": false,
     "input": [
      "# variables can change their type !\n",
      "a = 123\n",
      "print type(a), a\n",
      "a = \"i am a\"\n",
      "print type(a), a"
     ],
     "language": "python",
     "metadata": {},
     "outputs": [
      {
       "output_type": "stream",
       "stream": "stdout",
       "text": [
        "<type 'int'> 123\n",
        "<type 'str'> i am a\n"
       ]
      }
     ],
     "prompt_number": 199
    },
    {
     "cell_type": "code",
     "collapsed": false,
     "input": [
      "# some forbidden variable names:\n",
      "# id, str, type, input, list, file, ...\n",
      "# often used solution in python community: add a \"_\"\n",
      "id_ = 3\n",
      "type_ = \"int\""
     ],
     "language": "python",
     "metadata": {},
     "outputs": [],
     "prompt_number": 134
    },
    {
     "cell_type": "code",
     "collapsed": false,
     "input": [
      "# Variables can be 'reassigned', \"=\" IS NOT TEST FOR EQUALITY WHICH IS \"==\"\n",
      "a = 3\n",
      "a = a + 2  # no access to former value any more !\n",
      "print a"
     ],
     "language": "python",
     "metadata": {},
     "outputs": [
      {
       "output_type": "stream",
       "stream": "stdout",
       "text": [
        "5\n"
       ]
      }
     ],
     "prompt_number": 209
    },
    {
     "cell_type": "heading",
     "level": 3,
     "metadata": {},
     "source": [
      "For loops"
     ]
    },
    {
     "cell_type": "code",
     "collapsed": false,
     "input": [
      "for i in range(3): \n",
      "    print i"
     ],
     "language": "python",
     "metadata": {},
     "outputs": [
      {
       "output_type": "stream",
       "stream": "stdout",
       "text": [
        "0\n",
        "1\n",
        "2\n"
       ]
      }
     ],
     "prompt_number": 203
    },
    {
     "cell_type": "raw",
     "metadata": {},
     "source": [
      "NO BRACKETS, NO BEGIN .. END, JUST IDENTATION !\n",
      "\n",
      "BUT YOU HAVE TO BE CONSISTENT !"
     ]
    },
    {
     "cell_type": "code",
     "collapsed": false,
     "input": [
      "for i in range(3):\n",
      "    print \"i=\",\n",
      "    print i"
     ],
     "language": "python",
     "metadata": {},
     "outputs": [
      {
       "output_type": "stream",
       "stream": "stdout",
       "text": [
        "i= 0\n",
        "i= 1\n",
        "i= 2\n"
       ]
      }
     ],
     "prompt_number": 200
    },
    {
     "cell_type": "code",
     "collapsed": false,
     "input": [
      "for i in range(3):\n",
      "    print \"i=\",\n",
      "   print i"
     ],
     "language": "python",
     "metadata": {},
     "outputs": [
      {
       "ename": "IndentationError",
       "evalue": "unindent does not match any outer indentation level (<ipython-input-201-f44eae0d3110>, line 3)",
       "output_type": "pyerr",
       "traceback": [
        "\u001b[1;36m  File \u001b[1;32m\"<ipython-input-201-f44eae0d3110>\"\u001b[1;36m, line \u001b[1;32m3\u001b[0m\n\u001b[1;33m    print i\u001b[0m\n\u001b[1;37m           ^\u001b[0m\n\u001b[1;31mIndentationError\u001b[0m\u001b[1;31m:\u001b[0m unindent does not match any outer indentation level\n"
       ]
      }
     ],
     "prompt_number": 201
    },
    {
     "cell_type": "raw",
     "metadata": {},
     "source": [
      "CONVENTION: 4 SPACES, NO TAB !!!\n",
      "\n",
      "NESTED:"
     ]
    },
    {
     "cell_type": "code",
     "collapsed": false,
     "input": [
      "for i in range(3):      # i takes values 0, 1, 2\n",
      "    for j in range(4):  # j takes values 0, 1, 2, 3\n",
      "        print i, \"times\", j, \"is\", i*j "
     ],
     "language": "python",
     "metadata": {},
     "outputs": [
      {
       "output_type": "stream",
       "stream": "stdout",
       "text": [
        "0 times 0 is 0\n",
        "0 times 1 is 0\n",
        "0 times 2 is 0\n",
        "0 times 3 is 0\n",
        "1 times 0 is 0\n",
        "1 times 1 is 1\n",
        "1 times 2 is 2\n",
        "1 times 3 is 3\n",
        "2 times 0 is 0\n",
        "2 times 1 is 2\n",
        "2 times 2 is 4\n",
        "2 times 3 is 6\n"
       ]
      }
     ],
     "prompt_number": 33
    },
    {
     "cell_type": "heading",
     "level": 4,
     "metadata": {},
     "source": [
      "Some look out "
     ]
    },
    {
     "cell_type": "code",
     "collapsed": false,
     "input": [
      "print range(3)"
     ],
     "language": "python",
     "metadata": {},
     "outputs": [
      {
       "output_type": "stream",
       "stream": "stdout",
       "text": [
        "[0, 1, 2]\n"
       ]
      }
     ],
     "prompt_number": 213
    },
    {
     "cell_type": "raw",
     "metadata": {},
     "source": [
      "For loops is in most cases not just do counting up to a limit, but\n",
      "\"iterating\" over an \"object you can iterate over\", more about this later !"
     ]
    },
    {
     "cell_type": "code",
     "collapsed": false,
     "input": [
      "for i in [7, 3, 2]:\n",
      "    print i"
     ],
     "language": "python",
     "metadata": {},
     "outputs": [
      {
       "output_type": "stream",
       "stream": "stdout",
       "text": [
        "7\n",
        "3\n",
        "2\n"
       ]
      }
     ],
     "prompt_number": 217
    },
    {
     "cell_type": "raw",
     "metadata": {},
     "source": [
      "\n",
      "PRACTICE\n",
      "\n",
      "Write a for loop which sums up the values 1^3 ... 111^3\n"
     ]
    },
    {
     "cell_type": "heading",
     "level": 3,
     "metadata": {},
     "source": [
      "Formatting = String Interpolation"
     ]
    },
    {
     "cell_type": "raw",
     "metadata": {},
     "source": [
      "Maybe you know this from C / C++ / Java / ... \n",
      "\n",
      "In Python this is called \"STRING INTERPOLATION\""
     ]
    },
    {
     "cell_type": "heading",
     "level": 4,
     "metadata": {},
     "source": [
      "integer values"
     ]
    },
    {
     "cell_type": "code",
     "collapsed": false,
     "input": [
      "# % operator is as stringf in C / C++ "
     ],
     "language": "python",
     "metadata": {},
     "outputs": [],
     "prompt_number": 157
    },
    {
     "cell_type": "code",
     "collapsed": false,
     "input": [
      "# 'd' = decimal, format as decimal number (no periods...)\n",
      "\"%d\" % 3    # the value of '\"%d\" % 3' is the string '3' "
     ],
     "language": "python",
     "metadata": {},
     "outputs": [
      {
       "metadata": {},
       "output_type": "pyout",
       "prompt_number": 163,
       "text": [
        "'3'"
       ]
      }
     ],
     "prompt_number": 163
    },
    {
     "cell_type": "code",
     "collapsed": false,
     "input": [
      "\"%3d\" % 3   # minimum length is 3, fill up with spaces"
     ],
     "language": "python",
     "metadata": {},
     "outputs": [
      {
       "metadata": {},
       "output_type": "pyout",
       "prompt_number": 164,
       "text": [
        "'  3'"
       ]
      }
     ],
     "prompt_number": 164
    },
    {
     "cell_type": "code",
     "collapsed": false,
     "input": [
      "\"%3d\" % 1234 # as I said: 3 IS MINIUMUM"
     ],
     "language": "python",
     "metadata": {},
     "outputs": [
      {
       "metadata": {},
       "output_type": "pyout",
       "prompt_number": 172,
       "text": [
        "'1234'"
       ]
      }
     ],
     "prompt_number": 172
    },
    {
     "cell_type": "code",
     "collapsed": false,
     "input": [
      "\"%03d\" % 3  # minimun lenght is 3, fill up with zeros"
     ],
     "language": "python",
     "metadata": {},
     "outputs": [
      {
       "metadata": {},
       "output_type": "pyout",
       "prompt_number": 165,
       "text": [
        "'003'"
       ]
      }
     ],
     "prompt_number": 165
    },
    {
     "cell_type": "code",
     "collapsed": false,
     "input": [
      "\"%3d\" % -3  # 2 spaces padded in front"
     ],
     "language": "python",
     "metadata": {},
     "outputs": [
      {
       "metadata": {},
       "output_type": "pyout",
       "prompt_number": 166,
       "text": [
        "' -3'"
       ]
      }
     ],
     "prompt_number": 166
    },
    {
     "cell_type": "code",
     "collapsed": false,
     "input": [
      "\"%+3d\" % 3  # forces sign "
     ],
     "language": "python",
     "metadata": {},
     "outputs": [
      {
       "metadata": {},
       "output_type": "pyout",
       "prompt_number": 167,
       "text": [
        "' +3'"
       ]
      }
     ],
     "prompt_number": 167
    },
    {
     "cell_type": "code",
     "collapsed": false,
     "input": [
      "\"%+3d\" % -3 "
     ],
     "language": "python",
     "metadata": {},
     "outputs": [
      {
       "metadata": {},
       "output_type": "pyout",
       "prompt_number": 169,
       "text": [
        "' -3'"
       ]
      }
     ],
     "prompt_number": 169
    },
    {
     "cell_type": "heading",
     "level": 4,
     "metadata": {},
     "source": [
      "floating point values"
     ]
    },
    {
     "cell_type": "code",
     "collapsed": false,
     "input": [
      "\"%7.3f\" % 1.2   # 3 digits after period, AT LEAST 7 characters at all"
     ],
     "language": "python",
     "metadata": {},
     "outputs": [
      {
       "metadata": {},
       "output_type": "pyout",
       "prompt_number": 171,
       "text": [
        "'  1.200'"
       ]
      }
     ],
     "prompt_number": 171
    },
    {
     "cell_type": "code",
     "collapsed": false,
     "input": [
      "\"%+7.3f\" % 1.2   # force sign"
     ],
     "language": "python",
     "metadata": {},
     "outputs": [
      {
       "metadata": {},
       "output_type": "pyout",
       "prompt_number": 173,
       "text": [
        "' +1.200'"
       ]
      }
     ],
     "prompt_number": 173
    },
    {
     "cell_type": "code",
     "collapsed": false,
     "input": [
      "\"%.2f\" % 123.4567  # min lenght ommited -> assume zero as min length"
     ],
     "language": "python",
     "metadata": {},
     "outputs": [
      {
       "metadata": {},
       "output_type": "pyout",
       "prompt_number": 178,
       "text": [
        "'123.46'"
       ]
      }
     ],
     "prompt_number": 178
    },
    {
     "cell_type": "code",
     "collapsed": false,
     "input": [
      "\"%12.3e\" % 1234.55  # scientific notation"
     ],
     "language": "python",
     "metadata": {},
     "outputs": [
      {
       "metadata": {},
       "output_type": "pyout",
       "prompt_number": 181,
       "text": [
        "'   1.235e+03'"
       ]
      }
     ],
     "prompt_number": 181
    },
    {
     "cell_type": "heading",
     "level": 4,
     "metadata": {},
     "source": [
      "string formatting"
     ]
    },
    {
     "cell_type": "code",
     "collapsed": false,
     "input": [
      "\"%5s\" % \"hi\""
     ],
     "language": "python",
     "metadata": {},
     "outputs": [
      {
       "metadata": {},
       "output_type": "pyout",
       "prompt_number": 182,
       "text": [
        "'   hi'"
       ]
      }
     ],
     "prompt_number": 182
    },
    {
     "cell_type": "code",
     "collapsed": false,
     "input": [
      "\"%-10s\" % \"hi\"   # left alignment"
     ],
     "language": "python",
     "metadata": {},
     "outputs": [
      {
       "metadata": {},
       "output_type": "pyout",
       "prompt_number": 184,
       "text": [
        "'hi        '"
       ]
      }
     ],
     "prompt_number": 184
    },
    {
     "cell_type": "heading",
     "level": 4,
     "metadata": {},
     "source": [
      "mutliple values"
     ]
    },
    {
     "cell_type": "code",
     "collapsed": false,
     "input": [
      "\"%d times %d is %d\" % (3, 4, 3 * 4)   # last expression is as 'tuple'"
     ],
     "language": "python",
     "metadata": {},
     "outputs": [
      {
       "metadata": {},
       "output_type": "pyout",
       "prompt_number": 189,
       "text": [
        "'3 times 4 is 12'"
       ]
      }
     ],
     "prompt_number": 189
    },
    {
     "cell_type": "code",
     "collapsed": false,
     "input": [
      "\"{0} times {1} is {2}\".format(2, 3, 2 * 3)  # alternative, more prominent in Python 3.x"
     ],
     "language": "python",
     "metadata": {},
     "outputs": [
      {
       "metadata": {},
       "output_type": "pyout",
       "prompt_number": 191,
       "text": [
        "'2 times 3 is 6'"
       ]
      }
     ],
     "prompt_number": 191
    },
    {
     "cell_type": "heading",
     "level": 4,
     "metadata": {},
     "source": [
      "How to format with % sign in output ?"
     ]
    },
    {
     "cell_type": "code",
     "collapsed": false,
     "input": [
      "\"%d out of %d is %.2f %%\" % (3, 4, 100.0 * 3 / 4)"
     ],
     "language": "python",
     "metadata": {},
     "outputs": [
      {
       "metadata": {},
       "output_type": "pyout",
       "prompt_number": 214,
       "text": [
        "'3 out of 4 is 75.00 %'"
       ]
      }
     ],
     "prompt_number": 214
    },
    {
     "cell_type": "code",
     "collapsed": false,
     "input": [
      "# NOW IT IS UP TO YOU:\n",
      "# print a good looking multiplication table from 1 x 1 up to 15 x 15 !"
     ],
     "language": "python",
     "metadata": {},
     "outputs": [],
     "prompt_number": 206
    },
    {
     "cell_type": "code",
     "collapsed": false,
     "input": [],
     "language": "python",
     "metadata": {},
     "outputs": []
    },
    {
     "cell_type": "heading",
     "level": 3,
     "metadata": {},
     "source": [
      "IF THEN ELSE"
     ]
    },
    {
     "cell_type": "code",
     "collapsed": false,
     "input": [
      "number = raw_input(\"input number: \")\n",
      "number = int(number)\n",
      "if number < 0:\n",
      "    print \"number is negative\"\n",
      "elif number == 0:\n",
      "    print \"number is zero\"\n",
      "else:\n",
      "    print \"number is positive\"\n"
     ],
     "language": "python",
     "metadata": {},
     "outputs": [
      {
       "name": "stdout",
       "output_type": "stream",
       "stream": "stdout",
       "text": [
        "input number: 2\n"
       ]
      },
      {
       "output_type": "stream",
       "stream": "stdout",
       "text": [
        "number is positive\n"
       ]
      }
     ],
     "prompt_number": 30
    },
    {
     "cell_type": "heading",
     "level": 3,
     "metadata": {},
     "source": [
      "WHILE"
     ]
    },
    {
     "cell_type": "code",
     "collapsed": false,
     "input": [
      "x = 7\n",
      "while x > 0:\n",
      "    print x\n",
      "    x -= 1"
     ],
     "language": "python",
     "metadata": {},
     "outputs": [
      {
       "output_type": "stream",
       "stream": "stdout",
       "text": [
        "7\n",
        "6\n",
        "5\n",
        "4\n",
        "3\n",
        "2\n",
        "1\n"
       ]
      }
     ],
     "prompt_number": 34
    },
    {
     "cell_type": "code",
     "collapsed": false,
     "input": [
      "# NO DO UNTIL !!!!"
     ],
     "language": "python",
     "metadata": {},
     "outputs": [],
     "prompt_number": 35
    },
    {
     "cell_type": "heading",
     "level": 3,
     "metadata": {},
     "source": [
      "BREAKING A LOOP"
     ]
    },
    {
     "cell_type": "code",
     "collapsed": false,
     "input": [
      "for i in range(10):\n",
      "    print i\n",
      "    if i > 1:\n",
      "        print \"stop\"\n",
      "        break"
     ],
     "language": "python",
     "metadata": {},
     "outputs": [
      {
       "output_type": "stream",
       "stream": "stdout",
       "text": [
        "0\n",
        "1\n",
        "2\n",
        "stop\n"
       ]
      }
     ],
     "prompt_number": 38
    },
    {
     "cell_type": "heading",
     "level": 3,
     "metadata": {},
     "source": [
      "SKIPPING REST OF LOOP BODY"
     ]
    },
    {
     "cell_type": "code",
     "collapsed": false,
     "input": [
      "for i in range(5):\n",
      "    print i,\n",
      "    if i % 2 == 0:\n",
      "        print \"is even\"\n",
      "        continue\n",
      "    print \"is odd\""
     ],
     "language": "python",
     "metadata": {},
     "outputs": [
      {
       "output_type": "stream",
       "stream": "stdout",
       "text": [
        "0 is even\n",
        "1 is odd\n",
        "2 is even\n",
        "3 is odd\n",
        "4 is even\n"
       ]
      }
     ],
     "prompt_number": 51
    },
    {
     "cell_type": "raw",
     "metadata": {},
     "source": [
      "PRACTICE TIME\n",
      "\n",
      "1) write a program which asks for two numbers, and let the user choose an operation +, -, *, /\n",
      "   apply this operation to the two numbers and print the result\n",
      "\n",
      "2) extension:\n",
      "   after each computation, ask if the user wants to do another calculation, and handle this accordingly\n",
      "\n",
      "3) let the user input a number and check if this is a prime number"
     ]
    },
    {
     "cell_type": "heading",
     "level": 3,
     "metadata": {},
     "source": [
      "LISTS"
     ]
    },
    {
     "cell_type": "code",
     "collapsed": false,
     "input": [
      "# you already know lists !!!\n",
      "print type(range(3))"
     ],
     "language": "python",
     "metadata": {},
     "outputs": [
      {
       "output_type": "stream",
       "stream": "stdout",
       "text": [
        "<type 'list'>\n"
       ]
      }
     ],
     "prompt_number": 52
    },
    {
     "cell_type": "code",
     "collapsed": false,
     "input": [
      "# for is more powerfull than just counting !\n",
      "for i in [3, 4, 7, 2]:\n",
      "    print i, \"squared is\", i*i"
     ],
     "language": "python",
     "metadata": {},
     "outputs": [
      {
       "output_type": "stream",
       "stream": "stdout",
       "text": [
        "3 squared is 9\n",
        "4 squared is 16\n",
        "7 squared is 49\n",
        "2 squared is 4\n"
       ]
      }
     ],
     "prompt_number": 54
    },
    {
     "cell_type": "code",
     "collapsed": false,
     "input": [
      "# mixed type lists !"
     ],
     "language": "python",
     "metadata": {},
     "outputs": [],
     "prompt_number": 55
    },
    {
     "cell_type": "code",
     "collapsed": false,
     "input": [
      "print [3, \"hello\", 3.12]"
     ],
     "language": "python",
     "metadata": {},
     "outputs": [
      {
       "output_type": "stream",
       "stream": "stdout",
       "text": [
        "[3, 'hello', 3.12]\n"
       ]
      }
     ],
     "prompt_number": 56
    },
    {
     "cell_type": "code",
     "collapsed": false,
     "input": [
      "print 3 in [1, 2, 4]"
     ],
     "language": "python",
     "metadata": {},
     "outputs": [
      {
       "output_type": "stream",
       "stream": "stdout",
       "text": [
        "False\n"
       ]
      }
     ],
     "prompt_number": 88
    },
    {
     "cell_type": "code",
     "collapsed": false,
     "input": [
      "print 3 not in [1, 2, 4]"
     ],
     "language": "python",
     "metadata": {},
     "outputs": [
      {
       "output_type": "stream",
       "stream": "stdout",
       "text": [
        "True\n"
       ]
      }
     ],
     "prompt_number": 89
    },
    {
     "cell_type": "code",
     "collapsed": false,
     "input": [
      "# ADDING ONE ELEMENT\n",
      "number_list = [1, 3, 2, 7, 5, 4, 6]\n",
      "number_list.append(8)\n",
      "print number_list"
     ],
     "language": "python",
     "metadata": {},
     "outputs": [
      {
       "output_type": "stream",
       "stream": "stdout",
       "text": [
        "[1, 3, 2, 7, 5, 4, 6, 8]\n"
       ]
      }
     ],
     "prompt_number": 66
    },
    {
     "cell_type": "code",
     "collapsed": false,
     "input": [
      "print len(number_list)"
     ],
     "language": "python",
     "metadata": {},
     "outputs": [
      {
       "output_type": "stream",
       "stream": "stdout",
       "text": [
        "10\n"
       ]
      }
     ],
     "prompt_number": 278
    },
    {
     "cell_type": "code",
     "collapsed": false,
     "input": [
      "# lots of methods, eg sorting:\n",
      "number_list.sort()\n",
      "print number_list"
     ],
     "language": "python",
     "metadata": {},
     "outputs": [
      {
       "output_type": "stream",
       "stream": "stdout",
       "text": [
        "[0, 1, 2, 3, 4, 5, 6, 7, 8, 9]\n"
       ]
      }
     ],
     "prompt_number": 69
    },
    {
     "cell_type": "code",
     "collapsed": false,
     "input": [
      "# multiply a list by a number:\n",
      "print [1, 2, 3] * 3"
     ],
     "language": "python",
     "metadata": {},
     "outputs": [
      {
       "output_type": "stream",
       "stream": "stdout",
       "text": [
        "[1, 2, 3, 1, 2, 3, 1, 2, 3]\n"
       ]
      }
     ],
     "prompt_number": 279
    },
    {
     "cell_type": "code",
     "collapsed": false,
     "input": [
      "# adding lists:\n",
      "print [1, 2, 3] + [5, 6]"
     ],
     "language": "python",
     "metadata": {},
     "outputs": [
      {
       "output_type": "stream",
       "stream": "stdout",
       "text": [
        "[1, 2, 3, 5, 6]\n"
       ]
      }
     ],
     "prompt_number": 280
    },
    {
     "cell_type": "heading",
     "level": 3,
     "metadata": {},
     "source": [
      "TUPLES = IMMUTABLE (CONSTANT) LISTS"
     ]
    },
    {
     "cell_type": "code",
     "collapsed": false,
     "input": [
      "for i in (1, 2, 3):\n",
      "    print i"
     ],
     "language": "python",
     "metadata": {},
     "outputs": [
      {
       "output_type": "stream",
       "stream": "stdout",
       "text": [
        "1\n",
        "2\n",
        "3\n"
       ]
      }
     ],
     "prompt_number": 71
    },
    {
     "cell_type": "code",
     "collapsed": false,
     "input": [
      "tp = (1, 2, 3)\n",
      "tp.append(4)"
     ],
     "language": "python",
     "metadata": {},
     "outputs": [
      {
       "ename": "AttributeError",
       "evalue": "'tuple' object has no attribute 'append'",
       "output_type": "pyerr",
       "traceback": [
        "\u001b[1;31m---------------------------------------------------------------------------\u001b[0m\n\u001b[1;31mAttributeError\u001b[0m                            Traceback (most recent call last)",
        "\u001b[1;32m<ipython-input-251-80b2ba7e971d>\u001b[0m in \u001b[0;36m<module>\u001b[1;34m()\u001b[0m\n\u001b[0;32m      1\u001b[0m \u001b[0mtp\u001b[0m \u001b[1;33m=\u001b[0m \u001b[1;33m(\u001b[0m\u001b[1;36m1\u001b[0m\u001b[1;33m,\u001b[0m \u001b[1;36m2\u001b[0m\u001b[1;33m,\u001b[0m \u001b[1;36m3\u001b[0m\u001b[1;33m)\u001b[0m\u001b[1;33m\u001b[0m\u001b[0m\n\u001b[1;32m----> 2\u001b[1;33m \u001b[0mtp\u001b[0m\u001b[1;33m.\u001b[0m\u001b[0mappend\u001b[0m\u001b[1;33m(\u001b[0m\u001b[1;36m4\u001b[0m\u001b[1;33m)\u001b[0m\u001b[1;33m\u001b[0m\u001b[0m\n\u001b[0m",
        "\u001b[1;31mAttributeError\u001b[0m: 'tuple' object has no attribute 'append'"
       ]
      }
     ],
     "prompt_number": 251
    },
    {
     "cell_type": "heading",
     "level": 4,
     "metadata": {},
     "source": [
      "Tuple unpacking"
     ]
    },
    {
     "cell_type": "code",
     "collapsed": false,
     "input": [
      "tp = (1, 2, 3)\n",
      "a, b, c = tp\n",
      "print a * b * c"
     ],
     "language": "python",
     "metadata": {},
     "outputs": [
      {
       "output_type": "stream",
       "stream": "stdout",
       "text": [
        "6\n"
       ]
      }
     ],
     "prompt_number": 252
    },
    {
     "cell_type": "code",
     "collapsed": false,
     "input": [
      "# shorter:\n",
      "a, b, c = 1, 2, 3"
     ],
     "language": "python",
     "metadata": {},
     "outputs": [],
     "prompt_number": 253
    },
    {
     "cell_type": "code",
     "collapsed": false,
     "input": [
      "# swap without temporary variable\n",
      "a, b = b, a\n",
      "print a, b"
     ],
     "language": "python",
     "metadata": {},
     "outputs": [
      {
       "output_type": "stream",
       "stream": "stdout",
       "text": [
        "2 1\n"
       ]
      }
     ],
     "prompt_number": 256
    },
    {
     "cell_type": "code",
     "collapsed": false,
     "input": [
      "# unpacking works in loop\n",
      "for a, b in [ (1, 2), (3, 4) ]:\n",
      "    print a + b"
     ],
     "language": "python",
     "metadata": {},
     "outputs": [
      {
       "output_type": "stream",
       "stream": "stdout",
       "text": [
        "3\n",
        "7\n"
       ]
      }
     ],
     "prompt_number": 268
    },
    {
     "cell_type": "code",
     "collapsed": false,
     "input": [
      "# zipping two lists:\n",
      "a_values = [1, 3]\n",
      "b_values = [2, 4]\n",
      "print zip(a_values, b_values)"
     ],
     "language": "python",
     "metadata": {},
     "outputs": [
      {
       "output_type": "stream",
       "stream": "stdout",
       "text": [
        "[(1, 2), (3, 4)]\n"
       ]
      }
     ],
     "prompt_number": 269
    },
    {
     "cell_type": "code",
     "collapsed": false,
     "input": [
      "# un packing of zipped lists:\n",
      "for a, b in zip(a_values, b_values):\n",
      "    print a, b"
     ],
     "language": "python",
     "metadata": {},
     "outputs": [
      {
       "output_type": "stream",
       "stream": "stdout",
       "text": [
        "1 2\n",
        "3 4\n"
       ]
      }
     ],
     "prompt_number": 270
    },
    {
     "cell_type": "code",
     "collapsed": false,
     "input": [
      "# enumeration:\n",
      "words = [\"you\", \"me\", \"and\", \"i\"]\n",
      "for i, word in enumerate(words):\n",
      "    print \"word\", i, \"is\", word"
     ],
     "language": "python",
     "metadata": {},
     "outputs": [
      {
       "output_type": "stream",
       "stream": "stdout",
       "text": [
        "word 0 is you\n",
        "word 1 is me\n",
        "word 2 is and\n",
        "word 3 is i\n"
       ]
      }
     ],
     "prompt_number": 271
    },
    {
     "cell_type": "heading",
     "level": 3,
     "metadata": {},
     "source": [
      "DICTIONARIES = MAPPINGS"
     ]
    },
    {
     "cell_type": "code",
     "collapsed": false,
     "input": [
      "# dicts represent a mapping key -> value, like a \"database\":\n",
      "age_of = { \"jan\": 18, \"alan\": 27, \"uwe\": 42, \"universe\": 13.8e9 }"
     ],
     "language": "python",
     "metadata": {},
     "outputs": [],
     "prompt_number": 259
    },
    {
     "cell_type": "code",
     "collapsed": false,
     "input": [
      "print age_of[\"universe\"]  # key is \"universe\""
     ],
     "language": "python",
     "metadata": {},
     "outputs": [
      {
       "output_type": "stream",
       "stream": "stdout",
       "text": [
        "13800000000.0\n"
       ]
      }
     ],
     "prompt_number": 260
    },
    {
     "cell_type": "code",
     "collapsed": false,
     "input": [
      "print age_of[\"god\"]"
     ],
     "language": "python",
     "metadata": {},
     "outputs": [
      {
       "ename": "KeyError",
       "evalue": "'god'",
       "output_type": "pyerr",
       "traceback": [
        "\u001b[1;31m---------------------------------------------------------------------------\u001b[0m\n\u001b[1;31mKeyError\u001b[0m                                  Traceback (most recent call last)",
        "\u001b[1;32m<ipython-input-261-a6fca65d74ed>\u001b[0m in \u001b[0;36m<module>\u001b[1;34m()\u001b[0m\n\u001b[1;32m----> 1\u001b[1;33m \u001b[1;32mprint\u001b[0m \u001b[0mage_of\u001b[0m\u001b[1;33m[\u001b[0m\u001b[1;34m\"god\"\u001b[0m\u001b[1;33m]\u001b[0m\u001b[1;33m\u001b[0m\u001b[0m\n\u001b[0m",
        "\u001b[1;31mKeyError\u001b[0m: 'god'"
       ]
      }
     ],
     "prompt_number": 261
    },
    {
     "cell_type": "code",
     "collapsed": false,
     "input": [
      "print age_of.get(\"god\", \"unknown\")"
     ],
     "language": "python",
     "metadata": {},
     "outputs": [
      {
       "output_type": "stream",
       "stream": "stdout",
       "text": [
        "unknown\n"
       ]
      }
     ],
     "prompt_number": 262
    },
    {
     "cell_type": "code",
     "collapsed": false,
     "input": [
      "print \"uwe\" in age_of"
     ],
     "language": "python",
     "metadata": {},
     "outputs": [
      {
       "output_type": "stream",
       "stream": "stdout",
       "text": [
        "True\n"
       ]
      }
     ],
     "prompt_number": 263
    },
    {
     "cell_type": "code",
     "collapsed": false,
     "input": [
      "print age_of.keys(), age_of.values()"
     ],
     "language": "python",
     "metadata": {},
     "outputs": [
      {
       "output_type": "stream",
       "stream": "stdout",
       "text": [
        "['jan', 'universe', 'uwe', 'alan'] [18, 13800000000.0, 42, 27]\n"
       ]
      }
     ],
     "prompt_number": 264
    },
    {
     "cell_type": "code",
     "collapsed": false,
     "input": [
      "print age_of.items()"
     ],
     "language": "python",
     "metadata": {},
     "outputs": [
      {
       "output_type": "stream",
       "stream": "stdout",
       "text": [
        "[('jan', 18), ('universe', 13800000000.0), ('uwe', 42), ('alan', 27)]\n"
       ]
      }
     ],
     "prompt_number": 265
    },
    {
     "cell_type": "code",
     "collapsed": false,
     "input": [
      "# sorting by name + tuple unpacking in a loop:\n",
      "for who, age in sorted(age_of.items()):\n",
      "    print who, \"is\", age, \"years old\""
     ],
     "language": "python",
     "metadata": {},
     "outputs": [
      {
       "output_type": "stream",
       "stream": "stdout",
       "text": [
        "alan is 27 years old\n",
        "jan is 18 years old\n",
        "universe is 13800000000.0 years old\n",
        "uwe is 42 years old\n"
       ]
      }
     ],
     "prompt_number": 266
    },
    {
     "cell_type": "heading",
     "level": 4,
     "metadata": {},
     "source": [
      "Keys must be immutable"
     ]
    },
    {
     "cell_type": "code",
     "collapsed": false,
     "input": [
      "print { (3, 4, 5) : 12 }"
     ],
     "language": "python",
     "metadata": {},
     "outputs": [
      {
       "output_type": "stream",
       "stream": "stdout",
       "text": [
        "{(3, 4, 5): 12}\n"
       ]
      }
     ],
     "prompt_number": 90
    },
    {
     "cell_type": "code",
     "collapsed": false,
     "input": [
      "print { [3, 4, 5] : 12 }"
     ],
     "language": "python",
     "metadata": {},
     "outputs": [
      {
       "ename": "TypeError",
       "evalue": "unhashable type: 'list'",
       "output_type": "pyerr",
       "traceback": [
        "\u001b[1;31m---------------------------------------------------------------------------\u001b[0m\n\u001b[1;31mTypeError\u001b[0m                                 Traceback (most recent call last)",
        "\u001b[1;32m<ipython-input-91-ed36f5f717aa>\u001b[0m in \u001b[0;36m<module>\u001b[1;34m()\u001b[0m\n\u001b[1;32m----> 1\u001b[1;33m \u001b[1;32mprint\u001b[0m \u001b[1;33m{\u001b[0m \u001b[1;33m[\u001b[0m\u001b[1;36m3\u001b[0m\u001b[1;33m,\u001b[0m \u001b[1;36m4\u001b[0m\u001b[1;33m,\u001b[0m \u001b[1;36m5\u001b[0m\u001b[1;33m]\u001b[0m \u001b[1;33m:\u001b[0m \u001b[1;36m12\u001b[0m \u001b[1;33m}\u001b[0m\u001b[1;33m\u001b[0m\u001b[0m\n\u001b[0m",
        "\u001b[1;31mTypeError\u001b[0m: unhashable type: 'list'"
       ]
      }
     ],
     "prompt_number": 91
    },
    {
     "cell_type": "heading",
     "level": 3,
     "metadata": {},
     "source": [
      "SETS"
     ]
    },
    {
     "cell_type": "code",
     "collapsed": false,
     "input": [
      "a = set()\n",
      "a.add(3)\n",
      "a.add(4)\n",
      "a.add(3)\n",
      "print a"
     ],
     "language": "python",
     "metadata": {},
     "outputs": [
      {
       "output_type": "stream",
       "stream": "stdout",
       "text": [
        "set([3, 4])\n"
       ]
      }
     ],
     "prompt_number": 103
    },
    {
     "cell_type": "code",
     "collapsed": false,
     "input": [
      "# construct a set from a tuple:\n",
      "a = set((1, 2, 3))\n",
      "# construct a set from a list:\n",
      "b = set([2, 3, 4])\n",
      "print a & b"
     ],
     "language": "python",
     "metadata": {},
     "outputs": [
      {
       "output_type": "stream",
       "stream": "stdout",
       "text": [
        "set([2, 3])\n"
       ]
      }
     ],
     "prompt_number": 275
    },
    {
     "cell_type": "code",
     "collapsed": false,
     "input": [
      "print a | b"
     ],
     "language": "python",
     "metadata": {},
     "outputs": [
      {
       "output_type": "stream",
       "stream": "stdout",
       "text": [
        "set([1, 2, 3, 4])\n"
       ]
      }
     ],
     "prompt_number": 276
    },
    {
     "cell_type": "code",
     "collapsed": false,
     "input": [
      "a = [1, 2, 1, 3, 2, 4]\n",
      "print \"a contains\", len(set(a)), \"unique values\""
     ],
     "language": "python",
     "metadata": {},
     "outputs": [
      {
       "output_type": "stream",
       "stream": "stdout",
       "text": [
        "a contains 4 unique values\n"
       ]
      }
     ],
     "prompt_number": 277
    },
    {
     "cell_type": "heading",
     "level": 3,
     "metadata": {},
     "source": [
      "NESTING OF COLLECTIONS"
     ]
    },
    {
     "cell_type": "code",
     "collapsed": false,
     "input": [
      "a = [1, [2,3], (3, 4, 5), \"abc\", { 3: 4 }]\n",
      "for ai in a:\n",
      "    print ai"
     ],
     "language": "python",
     "metadata": {},
     "outputs": [
      {
       "output_type": "stream",
       "stream": "stdout",
       "text": [
        "1\n",
        "[2, 3]\n",
        "(3, 4, 5)\n",
        "abc\n",
        "{3: 4}\n"
       ]
      }
     ],
     "prompt_number": 84
    },
    {
     "cell_type": "code",
     "collapsed": false,
     "input": [
      "a[1].append(4)\n",
      "print a"
     ],
     "language": "python",
     "metadata": {},
     "outputs": [
      {
       "output_type": "stream",
       "stream": "stdout",
       "text": [
        "[1, [2, 3, 4], (3, 4, 5), 'abc', {3: 4}]\n"
       ]
      }
     ],
     "prompt_number": 85
    },
    {
     "cell_type": "code",
     "collapsed": false,
     "input": [
      "numbers = { \"even\": [2, 4, 6], \"odd\": [1, 3, 5] }"
     ],
     "language": "python",
     "metadata": {},
     "outputs": [],
     "prompt_number": 86
    },
    {
     "cell_type": "code",
     "collapsed": false,
     "input": [
      "print numbers[\"even\"][0]"
     ],
     "language": "python",
     "metadata": {},
     "outputs": [
      {
       "output_type": "stream",
       "stream": "stdout",
       "text": [
        "2\n"
       ]
      }
     ],
     "prompt_number": 87
    },
    {
     "cell_type": "raw",
     "metadata": {},
     "source": [
      "PRACTICE TIME\n",
      "\n",
      "1. Create a list and use the IPython shell to find out how to sort the list.\n",
      "   How can you sort in reversed order ?\n",
      "\n",
      "2. Let the user input a number > 3. Create a list with the fibionacci numbers up to this value."
     ]
    },
    {
     "cell_type": "heading",
     "level": 3,
     "metadata": {},
     "source": [
      "FOR LOOP PART 2"
     ]
    },
    {
     "cell_type": "code",
     "collapsed": false,
     "input": [
      "# for iterates over objects which are \"iterable\":\n",
      "for i in (3, 2, 4):\n",
      "    print i"
     ],
     "language": "python",
     "metadata": {},
     "outputs": [
      {
       "output_type": "stream",
       "stream": "stdout",
       "text": [
        "3\n",
        "2\n",
        "4\n"
       ]
      }
     ],
     "prompt_number": 95
    },
    {
     "cell_type": "code",
     "collapsed": false,
     "input": [
      "for x in \"schmitt\":\n",
      "    print x"
     ],
     "language": "python",
     "metadata": {},
     "outputs": [
      {
       "output_type": "stream",
       "stream": "stdout",
       "text": [
        "s\n",
        "c\n",
        "h\n",
        "m\n",
        "i\n",
        "t\n",
        "t\n"
       ]
      }
     ],
     "prompt_number": 97
    },
    {
     "cell_type": "heading",
     "level": 3,
     "metadata": {},
     "source": [
      "SLICING AGAIN"
     ]
    },
    {
     "cell_type": "code",
     "collapsed": false,
     "input": [
      "li = range(4)\n",
      "print li[2:4]"
     ],
     "language": "python",
     "metadata": {},
     "outputs": [
      {
       "output_type": "stream",
       "stream": "stdout",
       "text": [
        "[2, 3]\n"
       ]
      }
     ],
     "prompt_number": 98
    },
    {
     "cell_type": "code",
     "collapsed": false,
     "input": [
      "tp = (1, 2, 3, 4)\n",
      "print tp[-3:-1]"
     ],
     "language": "python",
     "metadata": {},
     "outputs": [
      {
       "output_type": "stream",
       "stream": "stdout",
       "text": [
        "(2, 3)\n"
       ]
      }
     ],
     "prompt_number": 100
    },
    {
     "cell_type": "heading",
     "level": 3,
     "metadata": {},
     "source": [
      "LIST COMPREHENSIONS"
     ]
    },
    {
     "cell_type": "code",
     "collapsed": false,
     "input": [
      "# math notation { 3*a | a in {0, 1, 2, 3} } but with order:\n",
      "values = [3*a for a in range(10)]\n",
      "print values"
     ],
     "language": "python",
     "metadata": {},
     "outputs": [
      {
       "output_type": "stream",
       "stream": "stdout",
       "text": [
        "[0, 3, 6, 9]\n"
       ]
      }
     ],
     "prompt_number": 108
    },
    {
     "cell_type": "code",
     "collapsed": false,
     "input": [
      "print [3*i for i in range(10) if i % 2 == 0]"
     ],
     "language": "python",
     "metadata": {},
     "outputs": [
      {
       "output_type": "stream",
       "stream": "stdout",
       "text": [
        "[0, 6, 12, 18, 24]\n"
       ]
      }
     ],
     "prompt_number": 109
    },
    {
     "cell_type": "code",
     "collapsed": false,
     "input": [
      "# replaces 90% of all loops and is very readable ! "
     ],
     "language": "python",
     "metadata": {},
     "outputs": [],
     "prompt_number": 110
    },
    {
     "cell_type": "heading",
     "level": 3,
     "metadata": {},
     "source": [
      "FUNCTIONS"
     ]
    },
    {
     "cell_type": "code",
     "collapsed": false,
     "input": [
      "def power(base, exponent):\n",
      "    return base ** exponent "
     ],
     "language": "python",
     "metadata": {},
     "outputs": [],
     "prompt_number": 122
    },
    {
     "cell_type": "code",
     "collapsed": false,
     "input": [
      "print power(3, 4)"
     ],
     "language": "python",
     "metadata": {},
     "outputs": [
      {
       "output_type": "stream",
       "stream": "stdout",
       "text": [
        "81\n"
       ]
      }
     ],
     "prompt_number": 123
    },
    {
     "cell_type": "heading",
     "level": 4,
     "metadata": {},
     "source": [
      "keyword arguments"
     ]
    },
    {
     "cell_type": "code",
     "collapsed": false,
     "input": [
      "# you can use function arguments in arbitrary order \n",
      "# if you name them:\n",
      "print power(exponent=3, base=4)"
     ],
     "language": "python",
     "metadata": {},
     "outputs": [
      {
       "output_type": "stream",
       "stream": "stdout",
       "text": [
        "64\n"
       ]
      }
     ],
     "prompt_number": 124
    },
    {
     "cell_type": "code",
     "collapsed": false,
     "input": [
      "def add(a, b, c):\n",
      "    return a + b + c"
     ],
     "language": "python",
     "metadata": {},
     "outputs": [],
     "prompt_number": 126
    },
    {
     "cell_type": "code",
     "collapsed": false,
     "input": [
      "# you can mix it !\n",
      "add(1, c=2, b=3)"
     ],
     "language": "python",
     "metadata": {},
     "outputs": [
      {
       "metadata": {},
       "output_type": "pyout",
       "prompt_number": 127,
       "text": [
        "6"
       ]
      }
     ],
     "prompt_number": 127
    },
    {
     "cell_type": "code",
     "collapsed": false,
     "input": [
      "# but not like this\n",
      "add(a=2, b=3, 3)"
     ],
     "language": "python",
     "metadata": {},
     "outputs": [
      {
       "ename": "SyntaxError",
       "evalue": "non-keyword arg after keyword arg (<ipython-input-281-6e2fd21ab82d>, line 2)",
       "output_type": "pyerr",
       "traceback": [
        "\u001b[1;36m  File \u001b[1;32m\"<ipython-input-281-6e2fd21ab82d>\"\u001b[1;36m, line \u001b[1;32m2\u001b[0m\n\u001b[1;33m    add(a=2, b=3, 3)\u001b[0m\n\u001b[1;31mSyntaxError\u001b[0m\u001b[1;31m:\u001b[0m non-keyword arg after keyword arg\n"
       ]
      }
     ],
     "prompt_number": 281
    },
    {
     "cell_type": "heading",
     "level": 4,
     "metadata": {},
     "source": [
      "default arguments"
     ]
    },
    {
     "cell_type": "code",
     "collapsed": false,
     "input": [
      "def greet(name, salute_with=\"hello\"):\n",
      "    print salute_with, name, \"!\"\n",
      "\n",
      "greet(\"jan\")"
     ],
     "language": "python",
     "metadata": {},
     "outputs": [
      {
       "output_type": "stream",
       "stream": "stdout",
       "text": [
        "hello jan !\n"
       ]
      }
     ],
     "prompt_number": 151
    },
    {
     "cell_type": "code",
     "collapsed": false,
     "input": [
      "greet(\"urs\", \"gruezi\")"
     ],
     "language": "python",
     "metadata": {},
     "outputs": [
      {
       "output_type": "stream",
       "stream": "stdout",
       "text": [
        "gruezi urs !\n"
       ]
      }
     ],
     "prompt_number": 153
    },
    {
     "cell_type": "heading",
     "level": 4,
     "metadata": {},
     "source": [
      "arbitrary many number of arguments"
     ]
    },
    {
     "cell_type": "code",
     "collapsed": false,
     "input": [
      "# arbitrary many arguments:\n",
      "def multiply(v0, *values):\n",
      "    print \"got input arguments\", v0, \"and\", values\n",
      "    product = v0\n",
      "    for v in values:\n",
      "        product *= v\n",
      "    return product\n",
      " \n",
      "print multiply(2, 1, 13, 1)"
     ],
     "language": "python",
     "metadata": {},
     "outputs": [
      {
       "output_type": "stream",
       "stream": "stdout",
       "text": [
        "got input arguments 2 and (1, 13, 1)\n",
        "26\n"
       ]
      }
     ],
     "prompt_number": 145
    },
    {
     "cell_type": "code",
     "collapsed": false,
     "input": [
      "# other way around:\n",
      "def sum(a, b):\n",
      "    return a + b\n",
      "\n",
      "args = (1, 2)\n",
      "sum(*args)"
     ],
     "language": "python",
     "metadata": {},
     "outputs": [
      {
       "metadata": {},
       "output_type": "pyout",
       "prompt_number": 310,
       "text": [
        "3"
       ]
      }
     ],
     "prompt_number": 310
    },
    {
     "cell_type": "heading",
     "level": 4,
     "metadata": {},
     "source": [
      "Multiple return values"
     ]
    },
    {
     "cell_type": "code",
     "collapsed": false,
     "input": [
      "def func(a, b, c):\n",
      "    result1 = a + b * c\n",
      "    result2 = a - b / c\n",
      "    return result1, result2"
     ],
     "language": "python",
     "metadata": {},
     "outputs": [],
     "prompt_number": 135
    },
    {
     "cell_type": "code",
     "collapsed": false,
     "input": [
      "r1, r2 = func(1, 2, 3)\n",
      "print r1, r2"
     ],
     "language": "python",
     "metadata": {},
     "outputs": [
      {
       "output_type": "stream",
       "stream": "stdout",
       "text": [
        "7 1\n"
       ]
      }
     ],
     "prompt_number": 136
    },
    {
     "cell_type": "code",
     "collapsed": false,
     "input": [
      "# INTERNALLY THIS IS USES TUPLES AND UNPACKING"
     ],
     "language": "python",
     "metadata": {},
     "outputs": [],
     "prompt_number": 282
    },
    {
     "cell_type": "heading",
     "level": 3,
     "metadata": {},
     "source": [
      "DOC STRINGS = WRITE YOUR OWN HELP TEXT"
     ]
    },
    {
     "cell_type": "code",
     "collapsed": false,
     "input": [
      "def magic(a, b, c):\n",
      "    \"\"\" this function is magic !\n",
      "        it take a, b, c and returns the sum \n",
      "    \"\"\"\n",
      "    return a + b + c"
     ],
     "language": "python",
     "metadata": {},
     "outputs": [],
     "prompt_number": 302
    },
    {
     "cell_type": "code",
     "collapsed": false,
     "input": [
      "help(magic)"
     ],
     "language": "python",
     "metadata": {},
     "outputs": [
      {
       "output_type": "stream",
       "stream": "stdout",
       "text": [
        "Help on function magic in module __main__:\n",
        "\n",
        "magic(a, b, c)\n",
        "    this function is magic !\n",
        "    it take a, b, c and returns the sum\n",
        "\n"
       ]
      }
     ],
     "prompt_number": 303
    },
    {
     "cell_type": "heading",
     "level": 4,
     "metadata": {},
     "source": [
      "functions are \"objects\" as numbers, lists, ..."
     ]
    },
    {
     "cell_type": "code",
     "collapsed": false,
     "input": [
      "new_name = magic\n",
      "print new_name(1, 2, 3)"
     ],
     "language": "python",
     "metadata": {},
     "outputs": [
      {
       "output_type": "stream",
       "stream": "stdout",
       "text": [
        "6\n"
       ]
      }
     ],
     "prompt_number": 305
    },
    {
     "cell_type": "code",
     "collapsed": false,
     "input": [
      "# this is a brainer:\n",
      "def eval_function(fun, *a):\n",
      "    return fun(*a)\n",
      "\n",
      "print eval_function(set, (1, 2, 3, 4, 5))"
     ],
     "language": "python",
     "metadata": {},
     "outputs": [
      {
       "output_type": "stream",
       "stream": "stdout",
       "text": [
        "set([1, 2, 3, 4, 5])\n"
       ]
      }
     ],
     "prompt_number": 312
    },
    {
     "cell_type": "heading",
     "level": 3,
     "metadata": {},
     "source": [
      "CLASSES"
     ]
    },
    {
     "cell_type": "code",
     "collapsed": false,
     "input": [
      "# objects group values and operations on these values \n",
      "\n",
      "# classes describe how objects operate\n",
      "\n",
      "## first version ###\n",
      "\n",
      "class Address(object):\n",
      "    \n",
      "    \"\"\"This class represents a person living in a \n",
      "       city.\n",
      "    \"\"\"\n",
      "       \n",
      "    def say_hello(self, formula):\n",
      "        \"\"\" greets the person \"\"\"\n",
      "        print formula, self.name, \"from\", self.city\n",
      "\n",
      "# maual setting of attributes:   \n",
      "a = Address()\n",
      "a.name = \"tina turner\"\n",
      "a.city = \"z\u00fcrich\"\n",
      "\n",
      "# when calling say_hello 'self' is replaced by 'a':\n",
      "a.say_hello(\"gruezi\")\n",
      "\n",
      "# TODO: insert print statements"
     ],
     "language": "python",
     "metadata": {},
     "outputs": [
      {
       "output_type": "stream",
       "stream": "stdout",
       "text": [
        "gruezi tina turner from z\u00fcrich\n"
       ]
      }
     ],
     "prompt_number": 200
    },
    {
     "cell_type": "code",
     "collapsed": false,
     "input": [
      "# more readable and more secure to use version\n",
      "# using __init__\n",
      "\n",
      "class Address(object):\n",
      "        \n",
      "    def __init__(self, name, city):\n",
      "        self.name = name\n",
      "        self.city = city\n",
      "       \n",
      "    def say_hello(self, formula):\n",
      "        print formula, self.name, \"from\", self.city\n",
      "\n",
      "# this 'constructs' a and calls __init__\n",
      "a = Address(\"tina turner\", \"z\u00fcrich\")\n",
      "\n",
      "# when calling say_hello 'self' is replaced by 'a':\n",
      "a.say_hello(\"gruezi\")"
     ],
     "language": "python",
     "metadata": {},
     "outputs": [
      {
       "output_type": "stream",
       "stream": "stdout",
       "text": [
        "gruezi tina turner from z\u00fcrich\n"
       ]
      }
     ],
     "prompt_number": 196
    },
    {
     "cell_type": "heading",
     "level": 4,
     "metadata": {},
     "source": [
      "* what is going on ?"
     ]
    },
    {
     "cell_type": "code",
     "collapsed": false,
     "input": [
      "# 1st: methods are attached to the class:\n",
      "print Address.say_hello"
     ],
     "language": "python",
     "metadata": {},
     "outputs": [
      {
       "output_type": "stream",
       "stream": "stdout",
       "text": [
        "<unbound method Address.say_hello>\n"
       ]
      }
     ],
     "prompt_number": 174
    },
    {
     "cell_type": "code",
     "collapsed": false,
     "input": [
      "print Address.__init__"
     ],
     "language": "python",
     "metadata": {},
     "outputs": [
      {
       "output_type": "stream",
       "stream": "stdout",
       "text": [
        "<unbound method Address.__init__>\n"
       ]
      }
     ],
     "prompt_number": 179
    },
    {
     "cell_type": "code",
     "collapsed": false,
     "input": [
      "# 2nd: address.say_hello(\"gruezi\") is handled internally as follows:\n",
      "Address.say_hello(address, \"gruezi\")"
     ],
     "language": "python",
     "metadata": {},
     "outputs": [
      {
       "output_type": "stream",
       "stream": "stdout",
       "text": [
        "gruezi tina turner from z\u00fcrich\n"
       ]
      }
     ],
     "prompt_number": 177
    },
    {
     "cell_type": "code",
     "collapsed": false,
     "input": [
      "# address = Address(\"tina turner\", \"z\u00fcrich\") is handled as follows:\n",
      "address = Address.__new__(Address)\n",
      "Address.__init__(address, \"tina turner\", \"z\u00fcrich\")\n",
      "print address.name"
     ],
     "language": "python",
     "metadata": {},
     "outputs": [
      {
       "output_type": "stream",
       "stream": "stdout",
       "text": [
        "tina turner\n"
       ]
      }
     ],
     "prompt_number": 184
    },
    {
     "cell_type": "raw",
     "metadata": {},
     "source": [
      "PRACTICE TIME:\n",
      "\n",
      "Write a class which ..."
     ]
    },
    {
     "cell_type": "heading",
     "level": 4,
     "metadata": {},
     "source": [
      "Overloading operations"
     ]
    },
    {
     "cell_type": "code",
     "collapsed": false,
     "input": [
      "class Vector3D(object):\n",
      "    \n",
      "    def __init__(self, x, y, z):\n",
      "        self.x = x\n",
      "        self.y = y\n",
      "        self.z = z\n",
      "    def __add__(self, other):\n",
      "        return Vector3D(self.x + other.x,\n",
      "                        self.y + other.y,\n",
      "                        self.z + other.z)\n",
      "        \n",
      "    def __str__(self):\n",
      "        return \"Vector(%f, %f, %f)\" % (self.x, self.y, self.z)\n",
      "    \n",
      "v1 = Vector3D(1.0, 2.0, 3.0)\n",
      "print str(v1)"
     ],
     "language": "python",
     "metadata": {},
     "outputs": [
      {
       "output_type": "stream",
       "stream": "stdout",
       "text": [
        "Vector(1.000000, 2.000000, 3.000000)\n"
       ]
      }
     ],
     "prompt_number": 205
    },
    {
     "cell_type": "code",
     "collapsed": false,
     "input": [
      "# is called automatically when printing, so\n",
      ",# __str__ is a convenient way to represent information about an object:\n",
      "print v1"
     ],
     "language": "python",
     "metadata": {},
     "outputs": [
      {
       "output_type": "stream",
       "stream": "stdout",
       "text": [
        "Vector(1.000000, 2.000000, 3.000000)\n"
       ]
      }
     ],
     "prompt_number": 206
    },
    {
     "cell_type": "code",
     "collapsed": false,
     "input": [
      "v2 = Vector3D(2.0, 0.0, -1.0)\n",
      "v3 = v1 + v2  # same ass v3 = v1.__add__(v2)\n",
      "print v3"
     ],
     "language": "python",
     "metadata": {},
     "outputs": [
      {
       "output_type": "stream",
       "stream": "stdout",
       "text": [
        "Vector(3.000000, 2.000000, 2.000000)\n"
       ]
      }
     ],
     "prompt_number": 208
    },
    {
     "cell_type": "code",
     "collapsed": false,
     "input": [
      "# __mul__, __len__, __contains__ etc"
     ],
     "language": "python",
     "metadata": {},
     "outputs": []
    },
    {
     "cell_type": "raw",
     "metadata": {},
     "source": [
      "PRACTICE TIME\n",
      "\n",
      "1. implement a method Vector.scale which takes a number and scales the vector by this number\n",
      "\n",
      "2. implement a method __mul__ which calculates the dot product of two vectors"
     ]
    },
    {
     "cell_type": "heading",
     "level": 3,
     "metadata": {},
     "source": [
      "* Inheritance"
     ]
    },
    {
     "cell_type": "code",
     "collapsed": false,
     "input": [
      "class Dog(object):\n",
      "    \n",
      "    def __init__(self, name):\n",
      "        # print \"\\n.. this is Dog.__init__, self is\", self\n",
      "        self.name = name\n",
      "        \n",
      "    def greet(self):\n",
      "        # print \"\\n.. this is Dog.greet, self is\", self\n",
      "        print \"hi\", self.name\n",
      "        \n",
      "    def say(self):\n",
      "        # print \"\\n.. this is Dog.say, self is\", self\n",
      "        print \"barf\"\n",
      "          \n",
      "d = Dog(\"hasso\")\n",
      "d.greet()\n",
      "d.say()    "
     ],
     "language": "python",
     "metadata": {},
     "outputs": [
      {
       "output_type": "stream",
       "stream": "stdout",
       "text": [
        "hi hasso\n",
        "barf\n"
       ]
      }
     ],
     "prompt_number": 292
    },
    {
     "cell_type": "code",
     "collapsed": false,
     "input": [
      "class SuperDog(Dog):\n",
      "    \n",
      "    def __init__(self):\n",
      "        #print \"\\n.. this is SuperDog.__init__, self is\", self\n",
      "        super(SuperDog, self).__init__(\"fifi\")\n",
      "    \n",
      "    def say(self): \n",
      "        #print \"\\n.. this is SuperDog.say, self is\", self\n",
      "        print \"BARF !!!\"\n",
      "        \n",
      "sd = SuperDog()\n",
      "sd.greet()\n",
      "sd.say()"
     ],
     "language": "python",
     "metadata": {},
     "outputs": [
      {
       "output_type": "stream",
       "stream": "stdout",
       "text": [
        "hi fifi\n",
        "BARF !!!\n"
       ]
      }
     ],
     "prompt_number": 293
    },
    {
     "cell_type": "heading",
     "level": 3,
     "metadata": {},
     "source": [
      "File I/O"
     ]
    },
    {
     "cell_type": "code",
     "collapsed": false,
     "input": [
      "# create a file and write to it:\n",
      "fp = open(\"text.txt\", \"w\")\n",
      "fp.write(\"line 1\\n\")\n",
      "print >> fp, \"line 2\"\n",
      "fp.close()"
     ],
     "language": "python",
     "metadata": {},
     "outputs": [],
     "prompt_number": 228
    },
    {
     "cell_type": "code",
     "collapsed": false,
     "input": [
      "# read it:\n",
      "print open(\"text.txt\", \"r\").read()"
     ],
     "language": "python",
     "metadata": {},
     "outputs": [
      {
       "output_type": "stream",
       "stream": "stdout",
       "text": [
        "line 1\n",
        "line 2\n",
        "\n"
       ]
      }
     ],
     "prompt_number": 238
    },
    {
     "cell_type": "code",
     "collapsed": false,
     "input": [
      "print open(\"text.txt\", \"r\").readlines()"
     ],
     "language": "python",
     "metadata": {},
     "outputs": [
      {
       "output_type": "stream",
       "stream": "stdout",
       "text": [
        "['line 1\\n', 'line 2\\n']\n"
       ]
      }
     ],
     "prompt_number": 294
    },
    {
     "cell_type": "code",
     "collapsed": false,
     "input": [
      "# even shorter: you can iterate over a file:\n",
      "# compare this to java !\n",
      "for line in open(\"text.txt\", \"r\"):\n",
      "    print repr(line)"
     ],
     "language": "python",
     "metadata": {},
     "outputs": [
      {
       "output_type": "stream",
       "stream": "stdout",
       "text": [
        "'line 1\\n'\n",
        "'line 2\\n'\n"
       ]
      }
     ],
     "prompt_number": 295
    },
    {
     "cell_type": "code",
     "collapsed": false,
     "input": [
      "# use enumeration\n",
      "for (i, line) in enumerate(open(\"text.txt\", \"r\")):  # tuple unpacking\n",
      "    print \"line\", i, \"is\", repr(line)"
     ],
     "language": "python",
     "metadata": {},
     "outputs": [
      {
       "output_type": "stream",
       "stream": "stdout",
       "text": [
        "line 0 is 'line 1\\n'\n",
        "line 1 is 'line 2\\n'\n"
       ]
      }
     ],
     "prompt_number": 272
    },
    {
     "cell_type": "raw",
     "metadata": {},
     "source": [
      "PRACTICE TIME\n",
      "\n",
      "iterate over all files with extension \"*.py\" in a given directory and\n",
      "print for each file the number of lines in this file.\n",
      "provide an overall sum at the end.\n",
      "HINT: \"import glob\"\n"
     ]
    },
    {
     "cell_type": "heading",
     "level": 3,
     "metadata": {},
     "source": [
      "    Exceptions"
     ]
    },
    {
     "cell_type": "code",
     "collapsed": false,
     "input": [
      "print 1/0"
     ],
     "language": "python",
     "metadata": {},
     "outputs": [
      {
       "ename": "ZeroDivisionError",
       "evalue": "integer division or modulo by zero",
       "output_type": "pyerr",
       "traceback": [
        "\u001b[1;31m---------------------------------------------------------------------------\u001b[0m\n\u001b[1;31mZeroDivisionError\u001b[0m                         Traceback (most recent call last)",
        "\u001b[1;32m<ipython-input-244-e19d6e6ac7e1>\u001b[0m in \u001b[0;36m<module>\u001b[1;34m()\u001b[0m\n\u001b[1;32m----> 1\u001b[1;33m \u001b[1;32mprint\u001b[0m \u001b[1;36m1\u001b[0m\u001b[1;33m/\u001b[0m\u001b[1;36m0\u001b[0m\u001b[1;33m\u001b[0m\u001b[0m\n\u001b[0m",
        "\u001b[1;31mZeroDivisionError\u001b[0m: integer division or modulo by zero"
       ]
      }
     ],
     "prompt_number": 244
    },
    {
     "cell_type": "code",
     "collapsed": false,
     "input": [
      "raise ZeroDivisionError()"
     ],
     "language": "python",
     "metadata": {},
     "outputs": [
      {
       "ename": "ZeroDivisionError",
       "evalue": "",
       "output_type": "pyerr",
       "traceback": [
        "\u001b[1;31m---------------------------------------------------------------------------\u001b[0m\n\u001b[1;31mZeroDivisionError\u001b[0m                         Traceback (most recent call last)",
        "\u001b[1;32m<ipython-input-245-10ba4d062a9d>\u001b[0m in \u001b[0;36m<module>\u001b[1;34m()\u001b[0m\n\u001b[1;32m----> 1\u001b[1;33m \u001b[1;32mraise\u001b[0m \u001b[0mZeroDivisionError\u001b[0m\u001b[1;33m(\u001b[0m\u001b[1;33m)\u001b[0m\u001b[1;33m\u001b[0m\u001b[0m\n\u001b[0m",
        "\u001b[1;31mZeroDivisionError\u001b[0m: "
       ]
      }
     ],
     "prompt_number": 245
    },
    {
     "cell_type": "code",
     "collapsed": false,
     "input": [
      "int(\"abc\")"
     ],
     "language": "python",
     "metadata": {},
     "outputs": [
      {
       "ename": "ValueError",
       "evalue": "invalid literal for int() with base 10: 'abc'",
       "output_type": "pyerr",
       "traceback": [
        "\u001b[1;31m---------------------------------------------------------------------------\u001b[0m\n\u001b[1;31mValueError\u001b[0m                                Traceback (most recent call last)",
        "\u001b[1;32m<ipython-input-246-908f2fe4faa4>\u001b[0m in \u001b[0;36m<module>\u001b[1;34m()\u001b[0m\n\u001b[1;32m----> 1\u001b[1;33m \u001b[0mint\u001b[0m\u001b[1;33m(\u001b[0m\u001b[1;34m\"abc\"\u001b[0m\u001b[1;33m)\u001b[0m\u001b[1;33m\u001b[0m\u001b[0m\n\u001b[0m",
        "\u001b[1;31mValueError\u001b[0m: invalid literal for int() with base 10: 'abc'"
       ]
      }
     ],
     "prompt_number": 246
    },
    {
     "cell_type": "code",
     "collapsed": false,
     "input": [
      "try:\n",
      "    int(\"abc\")\n",
      "except ValueError:\n",
      "    print '\"abc\" is not a valid number'\n",
      "    "
     ],
     "language": "python",
     "metadata": {},
     "outputs": [
      {
       "output_type": "stream",
       "stream": "stdout",
       "text": [
        "\"abc\" is not a valid number\n"
       ]
      }
     ],
     "prompt_number": 247
    },
    {
     "cell_type": "code",
     "collapsed": false,
     "input": [
      "# Exceptions avoid encoding errors in function return values\n",
      "# user can decide at which level an error is handled...\n",
      "\n",
      "def divide(a, b):\n",
      "    return a / b\n",
      "\n",
      "def secure_divide(a, b):\n",
      "    try:\n",
      "        result = divide(a, b)\n",
      "    except:\n",
      "        result = None\n",
      "    return result\n",
      "\n",
      "print secure_divide(12, 4), secure_divide(3, 0)"
     ],
     "language": "python",
     "metadata": {},
     "outputs": [
      {
       "output_type": "stream",
       "stream": "stdout",
       "text": [
        "3 None\n"
       ]
      }
     ],
     "prompt_number": 248
    },
    {
     "cell_type": "heading",
     "level": 3,
     "metadata": {},
     "source": [
      "Write you own module"
     ]
    },
    {
     "cell_type": "code",
     "collapsed": false,
     "input": [
      "# save the example above in a file \"secure_math.py\"\n",
      "import secure_math\n",
      "print secure_math.secure_divide(12, 4)"
     ],
     "language": "python",
     "metadata": {},
     "outputs": [
      {
       "ename": "ImportError",
       "evalue": "No module named secure_math",
       "output_type": "pyerr",
       "traceback": [
        "\u001b[1;31m---------------------------------------------------------------------------\u001b[0m\n\u001b[1;31mImportError\u001b[0m                               Traceback (most recent call last)",
        "\u001b[1;32m<ipython-input-249-9168c65284b5>\u001b[0m in \u001b[0;36m<module>\u001b[1;34m()\u001b[0m\n\u001b[0;32m      1\u001b[0m \u001b[1;31m# save the example above in a file \"secure_math.py\"\u001b[0m\u001b[1;33m\u001b[0m\u001b[1;33m\u001b[0m\u001b[0m\n\u001b[1;32m----> 2\u001b[1;33m \u001b[1;32mimport\u001b[0m \u001b[0msecure_math\u001b[0m\u001b[1;33m\u001b[0m\u001b[0m\n\u001b[0m\u001b[0;32m      3\u001b[0m \u001b[1;32mprint\u001b[0m \u001b[0msecure_math\u001b[0m\u001b[1;33m.\u001b[0m\u001b[0msecure_divide\u001b[0m\u001b[1;33m(\u001b[0m\u001b[1;36m12\u001b[0m\u001b[1;33m,\u001b[0m \u001b[1;36m4\u001b[0m\u001b[1;33m)\u001b[0m\u001b[1;33m\u001b[0m\u001b[0m\n",
        "\u001b[1;31mImportError\u001b[0m: No module named secure_math"
       ]
      }
     ],
     "prompt_number": 249
    },
    {
     "cell_type": "raw",
     "metadata": {},
     "source": [
      "TOPICS NOT COVERED\n",
      "\n",
      " * generators\n",
      " * decorators\n",
      " * module packages\n",
      " * package installation"
     ]
    },
    {
     "cell_type": "code",
     "collapsed": false,
     "input": [
      "!pip install requests"
     ],
     "language": "python",
     "metadata": {},
     "outputs": [
      {
       "output_type": "stream",
       "stream": "stdout",
       "text": [
        "Requirement already satisfied (use --upgrade to upgrade): requests in ./python_kurs/lib/python2.7/site-packages\r\n",
        "Cleaning up...\r\n"
       ]
      }
     ],
     "prompt_number": 296
    },
    {
     "cell_type": "code",
     "collapsed": false,
     "input": [
      "import requests\n",
      "print requests.get(\"http://telize.com/jsonip\").json()"
     ],
     "language": "python",
     "metadata": {},
     "outputs": [
      {
       "output_type": "stream",
       "stream": "stdout",
       "text": [
        "{u'ip': u'188.107.124.231'}\n"
       ]
      }
     ],
     "prompt_number": 348
    },
    {
     "cell_type": "code",
     "collapsed": false,
     "input": [
      "requests.get(\"http://telize.com/geoip\").json()"
     ],
     "language": "python",
     "metadata": {},
     "outputs": [
      {
       "metadata": {},
       "output_type": "pyout",
       "prompt_number": 346,
       "text": [
        "{u'area_code': u'0',\n",
        " u'asn': u'AS3209',\n",
        " u'city': u'Saarlouis',\n",
        " u'continent_code': u'EU',\n",
        " u'country': u'Germany',\n",
        " u'country_code': u'DE',\n",
        " u'country_code3': u'DEU',\n",
        " u'dma_code': u'0',\n",
        " u'ip': u'188.107.124.231',\n",
        " u'isp': u'Vodafone D2 GmbH',\n",
        " u'latitude': 49.3167,\n",
        " u'longitude': 6.75,\n",
        " u'region': u'Saarland',\n",
        " u'region_code': u'09',\n",
        " u'timezone': u'Europe/Berlin'}"
       ]
      }
     ],
     "prompt_number": 346
    },
    {
     "cell_type": "heading",
     "level": 3,
     "metadata": {},
     "source": [
      "NUMPY = CONTAINER TYPES FOR VECTORS, MATRICES AND BEYOND"
     ]
    },
    {
     "cell_type": "heading",
     "level": 4,
     "metadata": {},
     "source": [
      "vectors"
     ]
    },
    {
     "cell_type": "code",
     "collapsed": false,
     "input": [
      "import numpy as np\n",
      "x = np.array((1.0, 2, 3))"
     ],
     "language": "python",
     "metadata": {},
     "outputs": [],
     "prompt_number": 350
    },
    {
     "cell_type": "code",
     "collapsed": false,
     "input": [
      "print x\n",
      "print x\n",
      ".dtype"
     ],
     "language": "python",
     "metadata": {},
     "outputs": [
      {
       "output_type": "stream",
       "stream": "stdout",
       "text": [
        "[ 1.  2.  3.]\n",
        "float64\n"
       ]
      }
     ],
     "prompt_number": 351
    },
    {
     "cell_type": "code",
     "collapsed": false,
     "input": [
      "# indexing and slicing\n",
      "print x[0], x[::2]"
     ],
     "language": "python",
     "metadata": {},
     "outputs": [
      {
       "output_type": "stream",
       "stream": "stdout",
       "text": [
        "1.0 [ 1.  3.]\n"
       ]
      }
     ],
     "prompt_number": 361
    },
    {
     "cell_type": "code",
     "collapsed": false,
     "input": [
      "# assignment:\n",
      "x[::2] += 1\n",
      "print x"
     ],
     "language": "python",
     "metadata": {},
     "outputs": [
      {
       "output_type": "stream",
       "stream": "stdout",
       "text": [
        "[ 2.  2.  4.]\n"
       ]
      }
     ],
     "prompt_number": 381
    },
    {
     "cell_type": "code",
     "collapsed": false,
     "input": [
      "print 2 * x + x"
     ],
     "language": "python",
     "metadata": {},
     "outputs": [
      {
       "output_type": "stream",
       "stream": "stdout",
       "text": [
        "[  6.   6.  12.]\n"
       ]
      }
     ],
     "prompt_number": 382
    },
    {
     "cell_type": "code",
     "collapsed": false,
     "input": [
      "print x * x"
     ],
     "language": "python",
     "metadata": {},
     "outputs": [
      {
       "output_type": "stream",
       "stream": "stdout",
       "text": [
        "[  4.   4.  16.]\n"
       ]
      }
     ],
     "prompt_number": 383
    },
    {
     "cell_type": "code",
     "collapsed": false,
     "input": [
      "print np.dot(x, x)"
     ],
     "language": "python",
     "metadata": {},
     "outputs": [
      {
       "output_type": "stream",
       "stream": "stdout",
       "text": [
        "24.0\n"
       ]
      }
     ],
     "prompt_number": 384
    },
    {
     "cell_type": "code",
     "collapsed": false,
     "input": [
      "print np.sin(x)"
     ],
     "language": "python",
     "metadata": {},
     "outputs": [
      {
       "output_type": "stream",
       "stream": "stdout",
       "text": [
        "[ 0.90929743  0.90929743 -0.7568025 ]\n"
       ]
      }
     ],
     "prompt_number": 385
    },
    {
     "cell_type": "code",
     "collapsed": false,
     "input": [
      "print x.shape"
     ],
     "language": "python",
     "metadata": {},
     "outputs": [
      {
       "output_type": "stream",
       "stream": "stdout",
       "text": [
        "(3,)\n"
       ]
      }
     ],
     "prompt_number": 386
    },
    {
     "cell_type": "heading",
     "level": 4,
     "metadata": {},
     "source": [
      "special vector creation"
     ]
    },
    {
     "cell_type": "code",
     "collapsed": false,
     "input": [
      "# range with known stepsize 0.3\n",
      "np.arange(0, 2, 0.3)"
     ],
     "language": "python",
     "metadata": {},
     "outputs": [
      {
       "metadata": {},
       "output_type": "pyout",
       "prompt_number": 364,
       "text": [
        "array([ 0. ,  0.3,  0.6,  0.9,  1.2,  1.5,  1.8])"
       ]
      }
     ],
     "prompt_number": 364
    },
    {
     "cell_type": "code",
     "collapsed": false,
     "input": [
      "# range with known number of points\n",
      "np.linspace(0, np.pi, 10)"
     ],
     "language": "python",
     "metadata": {},
     "outputs": [
      {
       "metadata": {},
       "output_type": "pyout",
       "prompt_number": 366,
       "text": [
        "array([ 0.        ,  0.34906585,  0.6981317 ,  1.04719755,  1.3962634 ,\n",
        "        1.74532925,  2.0943951 ,  2.44346095,  2.7925268 ,  3.14159265])"
       ]
      }
     ],
     "prompt_number": 366
    },
    {
     "cell_type": "heading",
     "level": 4,
     "metadata": {},
     "source": [
      "matrices"
     ]
    },
    {
     "cell_type": "code",
     "collapsed": false,
     "input": [
      "mat = np.array(((1, 2, 3), (2, 3, 4)), dtype=numpy.float)"
     ],
     "language": "python",
     "metadata": {},
     "outputs": [],
     "prompt_number": 337
    },
    {
     "cell_type": "code",
     "collapsed": false,
     "input": [
      "print mat"
     ],
     "language": "python",
     "metadata": {},
     "outputs": [
      {
       "output_type": "stream",
       "stream": "stdout",
       "text": [
        "[[ 1.  2.  3.]\n",
        " [ 2.  3.  4.]]\n"
       ]
      }
     ],
     "prompt_number": 321
    },
    {
     "cell_type": "code",
     "collapsed": false,
     "input": [
      "print mat.shape"
     ],
     "language": "python",
     "metadata": {},
     "outputs": [
      {
       "output_type": "stream",
       "stream": "stdout",
       "text": [
        "(2, 3)\n"
       ]
      }
     ],
     "prompt_number": 329
    },
    {
     "cell_type": "code",
     "collapsed": false,
     "input": [
      "# PAY ATENTION:\n",
      "print mat * mat"
     ],
     "language": "python",
     "metadata": {},
     "outputs": [
      {
       "output_type": "stream",
       "stream": "stdout",
       "text": [
        "[[  1.   4.   9.]\n",
        " [  4.   9.  16.]]\n"
       ]
      }
     ],
     "prompt_number": 330
    },
    {
     "cell_type": "code",
     "collapsed": false,
     "input": [
      "print np.dot(mat, x)"
     ],
     "language": "python",
     "metadata": {},
     "outputs": [
      {
       "output_type": "stream",
       "stream": "stdout",
       "text": [
        "[ 14.  20.]\n"
       ]
      }
     ],
     "prompt_number": 357
    },
    {
     "cell_type": "code",
     "collapsed": false,
     "input": [
      "print mat.T"
     ],
     "language": "python",
     "metadata": {},
     "outputs": [
      {
       "output_type": "stream",
       "stream": "stdout",
       "text": [
        "[[ 1.  2.]\n",
        " [ 2.  3.]\n",
        " [ 3.  4.]]\n"
       ]
      }
     ],
     "prompt_number": 326
    },
    {
     "cell_type": "code",
     "collapsed": false,
     "input": [
      "print numpy.dot(mat, mat.T)"
     ],
     "language": "python",
     "metadata": {},
     "outputs": [
      {
       "output_type": "stream",
       "stream": "stdout",
       "text": [
        "[[ 14.  20.]\n",
        " [ 20.  29.]]\n"
       ]
      }
     ],
     "prompt_number": 349
    },
    {
     "cell_type": "code",
     "collapsed": false,
     "input": [
      "# TODO: andere b\u00fccher\n",
      "# numpy tutorial suchen\n",
      "# matplotlib\n",
      "# aufgaben\n",
      "# alles \u00fcberarbeiten"
     ],
     "language": "python",
     "metadata": {},
     "outputs": [],
     "prompt_number": 387
    },
    {
     "cell_type": "heading",
     "level": 3,
     "metadata": {},
     "source": [
      "special matrices"
     ]
    },
    {
     "cell_type": "code",
     "collapsed": false,
     "input": [
      "print np.eye(3)"
     ],
     "language": "python",
     "metadata": {},
     "outputs": [
      {
       "output_type": "stream",
       "stream": "stdout",
       "text": [
        "[[ 1.  0.  0.]\n",
        " [ 0.  1.  0.]\n",
        " [ 0.  0.  1.]]\n"
       ]
      }
     ],
     "prompt_number": 358
    },
    {
     "cell_type": "code",
     "collapsed": false,
     "input": [
      "print np.zeros((2, 3))"
     ],
     "language": "python",
     "metadata": {},
     "outputs": [
      {
       "output_type": "stream",
       "stream": "stdout",
       "text": [
        "[[ 0.  0.  0.]\n",
        " [ 0.  0.  0.]]\n"
       ]
      }
     ],
     "prompt_number": 359
    },
    {
     "cell_type": "code",
     "collapsed": false,
     "input": [
      "np.diag(np.arange(1, 4))"
     ],
     "language": "python",
     "metadata": {},
     "outputs": [
      {
       "metadata": {},
       "output_type": "pyout",
       "prompt_number": 405,
       "text": [
        "array([[1, 0, 0],\n",
        "       [0, 2, 0],\n",
        "       [0, 0, 3]])"
       ]
      }
     ],
     "prompt_number": 405
    },
    {
     "cell_type": "code",
     "collapsed": false,
     "input": [
      "# complex matrices"
     ],
     "language": "python",
     "metadata": {},
     "outputs": [],
     "prompt_number": 406
    },
    {
     "cell_type": "code",
     "collapsed": false,
     "input": [
      "mat = np.array(((1.0, 1+1j), (1-1j, 2.0)), dtype=np.complex)\n",
      "print mat"
     ],
     "language": "python",
     "metadata": {},
     "outputs": [
      {
       "output_type": "stream",
       "stream": "stdout",
       "text": [
        "[[ 1.+0.j  1.+1.j]\n",
        " [ 1.-1.j  2.+0.j]]\n"
       ]
      }
     ],
     "prompt_number": 455
    },
    {
     "cell_type": "code",
     "collapsed": false,
     "input": [
      "print np.dot(mat, mat.T.conj())"
     ],
     "language": "python",
     "metadata": {},
     "outputs": [
      {
       "output_type": "stream",
       "stream": "stdout",
       "text": [
        "[[ 3.+0.j  3.+3.j  0.+0.j]\n",
        " [ 3.-3.j  6.+0.j  0.+0.j]\n",
        " [ 0.+0.j  0.+0.j  0.+0.j]]\n"
       ]
      }
     ],
     "prompt_number": 454
    },
    {
     "cell_type": "heading",
     "level": 4,
     "metadata": {},
     "source": [
      "changing shapes"
     ]
    },
    {
     "cell_type": "code",
     "collapsed": false,
     "input": [
      "vec = np.arange(3)\n",
      "print vec"
     ],
     "language": "python",
     "metadata": {},
     "outputs": [
      {
       "output_type": "stream",
       "stream": "stdout",
       "text": [
        "[0 1 2]\n"
       ]
      }
     ],
     "prompt_number": 449
    },
    {
     "cell_type": "code",
     "collapsed": false,
     "input": [
      "# create matrix with artificial column dimensions\n",
      "vec_as_matrix = vec[:, np.newaxis]\n",
      "print vec_as_matrix"
     ],
     "language": "python",
     "metadata": {},
     "outputs": [
      {
       "output_type": "stream",
       "stream": "stdout",
       "text": [
        "[[0]\n",
        " [1]\n",
        " [2]]\n"
       ]
      }
     ],
     "prompt_number": 450
    },
    {
     "cell_type": "code",
     "collapsed": false,
     "input": [
      "# and back:\n",
      "vec_back = vec_as_matrix.squeeze()\n",
      "print vec_back"
     ],
     "language": "python",
     "metadata": {},
     "outputs": [
      {
       "output_type": "stream",
       "stream": "stdout",
       "text": [
        "[0 1 2]\n"
       ]
      }
     ],
     "prompt_number": 451
    },
    {
     "cell_type": "code",
     "collapsed": false,
     "input": [
      "vec = np.arange(12)\n",
      "print vec"
     ],
     "language": "python",
     "metadata": {},
     "outputs": [
      {
       "output_type": "stream",
       "stream": "stdout",
       "text": [
        "[ 0  1  2  3  4  5  6  7  8  9 10 11]\n"
       ]
      }
     ],
     "prompt_number": 489
    },
    {
     "cell_type": "code",
     "collapsed": false,
     "input": [
      "mat = vec.reshape(3, 4)\n",
      "print mat"
     ],
     "language": "python",
     "metadata": {},
     "outputs": [
      {
       "output_type": "stream",
       "stream": "stdout",
       "text": [
        "[[ 0  1  2  3]\n",
        " [ 4  5  6  7]\n",
        " [ 8  9 10 11]]\n"
       ]
      }
     ],
     "prompt_number": 490
    },
    {
     "cell_type": "code",
     "collapsed": false,
     "input": [
      "print mat.reshape(4, 3)"
     ],
     "language": "python",
     "metadata": {},
     "outputs": [
      {
       "output_type": "stream",
       "stream": "stdout",
       "text": [
        "[[ 0  1  2]\n",
        " [ 3  4  5]\n",
        " [ 6  7  8]\n",
        " [ 9 10 11]]\n"
       ]
      }
     ],
     "prompt_number": 491
    },
    {
     "cell_type": "heading",
     "level": 4,
     "metadata": {},
     "source": [
      "fast indexing"
     ]
    },
    {
     "cell_type": "code",
     "collapsed": false,
     "input": [
      "print mat"
     ],
     "language": "python",
     "metadata": {},
     "outputs": [
      {
       "output_type": "stream",
       "stream": "stdout",
       "text": [
        "[[ 0  1  2  3]\n",
        " [ 4  5  6  7]\n",
        " [ 8  9 10 11]]\n"
       ]
      }
     ],
     "prompt_number": 492
    },
    {
     "cell_type": "code",
     "collapsed": false,
     "input": [
      "mat % 3 == 0"
     ],
     "language": "python",
     "metadata": {},
     "outputs": [
      {
       "metadata": {},
       "output_type": "pyout",
       "prompt_number": 494,
       "text": [
        "array([[ True, False, False,  True],\n",
        "       [False, False,  True, False],\n",
        "       [False,  True, False, False]], dtype=bool)"
       ]
      }
     ],
     "prompt_number": 494
    },
    {
     "cell_type": "code",
     "collapsed": false,
     "input": [
      "mat[mat % 3 == 0] = 0\n",
      "print mat"
     ],
     "language": "python",
     "metadata": {},
     "outputs": [
      {
       "output_type": "stream",
       "stream": "stdout",
       "text": [
        "[[ 0  1  2  0]\n",
        " [ 4  5  0  7]\n",
        " [ 8  0 10 11]]\n"
       ]
      }
     ],
     "prompt_number": 495
    },
    {
     "cell_type": "heading",
     "level": 3,
     "metadata": {},
     "source": [
      "i/o"
     ]
    },
    {
     "cell_type": "code",
     "collapsed": false,
     "input": [
      "mat.tofile(\"matrix.bin\")"
     ],
     "language": "python",
     "metadata": {},
     "outputs": [],
     "prompt_number": 444
    },
    {
     "cell_type": "code",
     "collapsed": false,
     "input": [
      "print np.fromfile(\"matrix.bin\")   # \"rb\" is important"
     ],
     "language": "python",
     "metadata": {},
     "outputs": [
      {
       "output_type": "stream",
       "stream": "stdout",
       "text": [
        "[ 1.  0.  1.  1.  1. -1.  2.  0.]\n"
       ]
      }
     ],
     "prompt_number": 439
    },
    {
     "cell_type": "code",
     "collapsed": false,
     "input": [
      "np.fromfile(\"matrix.bin\", dtype=complex)"
     ],
     "language": "python",
     "metadata": {},
     "outputs": [
      {
       "metadata": {},
       "output_type": "pyout",
       "prompt_number": 440,
       "text": [
        "array([ 1.+0.j,  1.+1.j,  1.-1.j,  2.+0.j])"
       ]
      }
     ],
     "prompt_number": 440
    },
    {
     "cell_type": "code",
     "collapsed": false,
     "input": [
      "mat.tofile?"
     ],
     "language": "python",
     "metadata": {},
     "outputs": [],
     "prompt_number": 445
    },
    {
     "cell_type": "heading",
     "level": 3,
     "metadata": {},
     "source": [
      "Final example: pca"
     ]
    },
    {
     "cell_type": "code",
     "collapsed": false,
     "input": [
      "%matplotlib inline"
     ],
     "language": "python",
     "metadata": {},
     "outputs": [],
     "prompt_number": 704
    },
    {
     "cell_type": "code",
     "collapsed": false,
     "input": [
      "# 2 x 1000 matrix with normal distributed entries:\n",
      "points = np.random.randn(2, 1000)"
     ],
     "language": "python",
     "metadata": {},
     "outputs": [],
     "prompt_number": 736
    },
    {
     "cell_type": "code",
     "collapsed": false,
     "input": [
      "import pylab\n",
      "pylab.plot(points[0,:], points[1,:], \".\")\n",
      "pylab.show()"
     ],
     "language": "python",
     "metadata": {},
     "outputs": [
      {
       "metadata": {},
       "output_type": "display_data",
       "png": "[encoded data removed]",
       "text": [
        "<matplotlib.figure.Figure at 0xbe16e50>"
       ]
      }
     ],
     "prompt_number": 737
    },
    {
     "cell_type": "code",
     "collapsed": false,
     "input": [
      "deformation_matrix = np.array(((1.5, 1.0), (0.9, 1.0)))"
     ],
     "language": "python",
     "metadata": {},
     "outputs": [],
     "prompt_number": 738
    },
    {
     "cell_type": "code",
     "collapsed": false,
     "input": [
      "x = np.dot(deformation_matrix, points)"
     ],
     "language": "python",
     "metadata": {},
     "outputs": [],
     "prompt_number": 739
    },
    {
     "cell_type": "code",
     "collapsed": false,
     "input": [
      "import pylab\n",
      "pylab.plot(x[0,:], x[1,:], \".\")\n",
      "pylab.show()"
     ],
     "language": "python",
     "metadata": {},
     "outputs": [
      {
       "metadata": {},
       "output_type": "display_data",
       "png": "[encoded data removed]",
       "text": [
        "<matplotlib.figure.Figure at 0xb5e4b50>"
       ]
      }
     ],
     "prompt_number": 740
    },
    {
     "cell_type": "code",
     "collapsed": false,
     "input": [
      "# np.linalg.eigh is eigenvalue decomposition of hermetian matrix\n",
      "# np.linalg has others like \n",
      "# np.linalg.solve for solving linear equation systems\n",
      "# np.linalg.svd for singular value decomposition and others\n",
      "\n",
      "# this is pca for centered matrix \n",
      "eigvals, eigvecs = np.linalg.eigh(np.dot(x, x.T))"
     ],
     "language": "python",
     "metadata": {},
     "outputs": [],
     "prompt_number": 741
    },
    {
     "cell_type": "code",
     "collapsed": false,
     "input": [
      "# column vectors describe main directions in data:\n",
      "print eigvecs"
     ],
     "language": "python",
     "metadata": {},
     "outputs": [
      {
       "output_type": "stream",
       "stream": "stdout",
       "text": [
        "[[ 0.59529391 -0.80350804]\n",
        " [-0.80350804 -0.59529391]]\n"
       ]
      }
     ],
     "prompt_number": 742
    },
    {
     "cell_type": "code",
     "collapsed": false,
     "input": [
      "# plot data again\n",
      "pylab.plot(x[0,:], x[1,:], \".\")\n",
      "\n",
      "# plot lines describing directions of main variance:\n",
      "pylab.plot([-3*eigvecs[0,0], 3*eigvecs[0,0]], [-3 * eigvecs[0,1], 3 * eigvecs[0,1]], 'g', linewidth=2)\n",
      "pylab.plot([-3*eigvecs[1,0], 3*eigvecs[1,0]], [-3 * eigvecs[1,1], 3 * eigvecs[1,1]], 'g', linewidth=2)\n",
      "\n",
      "pylab.show()"
     ],
     "language": "python",
     "metadata": {},
     "outputs": [
      {
       "metadata": {},
       "output_type": "display_data",
       "png": "[encoded data removed]",
       "text": [
        "<matplotlib.figure.Figure at 0xbe2f510>"
       ]
      }
     ],
     "prompt_number": 743
    },
    {
     "cell_type": "code",
     "collapsed": false,
     "input": [],
     "language": "python",
     "metadata": {},
     "outputs": [],
     "prompt_number": 697
    },
    {
     "cell_type": "code",
     "collapsed": false,
     "input": [],
     "language": "python",
     "metadata": {},
     "outputs": []
    }
   ],
   "metadata": {}
  }
 ]
}